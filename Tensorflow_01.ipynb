{
  "nbformat": 4,
  "nbformat_minor": 0,
  "metadata": {
    "colab": {
      "name": "Tensorflow_01.ipynb",
      "provenance": [],
      "authorship_tag": "ABX9TyPQlDJEAmus5tAwhlfD4eld",
      "include_colab_link": true
    },
    "kernelspec": {
      "name": "python3",
      "display_name": "Python 3"
    },
    "language_info": {
      "name": "python"
    }
  },
  "cells": [
    {
      "cell_type": "markdown",
      "metadata": {
        "id": "view-in-github",
        "colab_type": "text"
      },
      "source": [
        "<a href=\"https://colab.research.google.com/github/bugatha1/Tensorflow/blob/main/Tensorflow_01.ipynb\" target=\"_parent\"><img src=\"https://colab.research.google.com/assets/colab-badge.svg\" alt=\"Open In Colab\"/></a>"
      ]
    },
    {
      "cell_type": "code",
      "execution_count": 1,
      "metadata": {
        "colab": {
          "base_uri": "https://localhost:8080/",
          "height": 35
        },
        "id": "XioNP-fWNz2Y",
        "outputId": "84d8fff2-e012-45bd-e7e2-3381a030c7a9"
      },
      "outputs": [
        {
          "output_type": "execute_result",
          "data": {
            "text/plain": [
              "'2.8.0'"
            ],
            "application/vnd.google.colaboratory.intrinsic+json": {
              "type": "string"
            }
          },
          "metadata": {},
          "execution_count": 1
        }
      ],
      "source": [
        "import tensorflow as tf\n",
        "tf.__version__"
      ]
    },
    {
      "cell_type": "code",
      "source": [
        "X = tf.range(-100, 100, 4)\n",
        "X"
      ],
      "metadata": {
        "colab": {
          "base_uri": "https://localhost:8080/"
        },
        "id": "1M07RZKZN8Dw",
        "outputId": "94e24556-d8d3-4643-8a4c-f89e817f75a5"
      },
      "execution_count": 2,
      "outputs": [
        {
          "output_type": "execute_result",
          "data": {
            "text/plain": [
              "<tf.Tensor: shape=(50,), dtype=int32, numpy=\n",
              "array([-100,  -96,  -92,  -88,  -84,  -80,  -76,  -72,  -68,  -64,  -60,\n",
              "        -56,  -52,  -48,  -44,  -40,  -36,  -32,  -28,  -24,  -20,  -16,\n",
              "        -12,   -8,   -4,    0,    4,    8,   12,   16,   20,   24,   28,\n",
              "         32,   36,   40,   44,   48,   52,   56,   60,   64,   68,   72,\n",
              "         76,   80,   84,   88,   92,   96], dtype=int32)>"
            ]
          },
          "metadata": {},
          "execution_count": 2
        }
      ]
    },
    {
      "cell_type": "code",
      "source": [
        "y = X + 10\n",
        "y"
      ],
      "metadata": {
        "colab": {
          "base_uri": "https://localhost:8080/"
        },
        "id": "mV1liQhFOs5I",
        "outputId": "77822c51-c242-4076-adcd-2267c8735b78"
      },
      "execution_count": 3,
      "outputs": [
        {
          "output_type": "execute_result",
          "data": {
            "text/plain": [
              "<tf.Tensor: shape=(50,), dtype=int32, numpy=\n",
              "array([-90, -86, -82, -78, -74, -70, -66, -62, -58, -54, -50, -46, -42,\n",
              "       -38, -34, -30, -26, -22, -18, -14, -10,  -6,  -2,   2,   6,  10,\n",
              "        14,  18,  22,  26,  30,  34,  38,  42,  46,  50,  54,  58,  62,\n",
              "        66,  70,  74,  78,  82,  86,  90,  94,  98, 102, 106], dtype=int32)>"
            ]
          },
          "metadata": {},
          "execution_count": 3
        }
      ]
    },
    {
      "cell_type": "code",
      "source": [
        "X_train = X[:40]\n",
        "X_test = X[40:]\n",
        "\n",
        "y_train = y[:40]\n",
        "y_test = y[40:]"
      ],
      "metadata": {
        "id": "OkvOybZNRgbQ"
      },
      "execution_count": 4,
      "outputs": []
    },
    {
      "cell_type": "code",
      "source": [
        "model = tf.keras.Sequential([\n",
        "  tf.keras.layers.Dense(10, input_shape=[1], name='input_layer'),\n",
        "  tf.keras.layers.Dense(1, name='output_layer')                             \n",
        "])\n",
        "\n",
        "model.compile(loss=tf.keras.losses.mae,\n",
        "              optimizer = tf.keras.optimizers.SGD(),\n",
        "              metrics=['mae'])"
      ],
      "metadata": {
        "id": "C8lSd6B4OxO3"
      },
      "execution_count": 5,
      "outputs": []
    },
    {
      "cell_type": "code",
      "source": [
        "model.summary()"
      ],
      "metadata": {
        "colab": {
          "base_uri": "https://localhost:8080/"
        },
        "id": "_48JBRZlPoR3",
        "outputId": "7d8fdcc7-8d95-49b6-afe8-3daee0016212"
      },
      "execution_count": 6,
      "outputs": [
        {
          "output_type": "stream",
          "name": "stdout",
          "text": [
            "Model: \"sequential\"\n",
            "_________________________________________________________________\n",
            " Layer (type)                Output Shape              Param #   \n",
            "=================================================================\n",
            " input_layer (Dense)         (None, 10)                20        \n",
            "                                                                 \n",
            " output_layer (Dense)        (None, 1)                 11        \n",
            "                                                                 \n",
            "=================================================================\n",
            "Total params: 31\n",
            "Trainable params: 31\n",
            "Non-trainable params: 0\n",
            "_________________________________________________________________\n"
          ]
        }
      ]
    },
    {
      "cell_type": "markdown",
      "source": [
        "Total params : total number of parameters in the model.<br>\n",
        "Trainable params: these are the parameters (patterns) the model can update as it trains.<br>\n",
        "Non-Trainalbe params : these are the parameters aren't updated during training (this is typically when you bring in already learn patterns or parameters from other models during **transfer learning** <br>\n"
      ],
      "metadata": {
        "id": "BwpJyggHQfyF"
      }
    },
    {
      "cell_type": "code",
      "source": [
        "model.fit(X_train, y_train, epochs=100, verbose=1)"
      ],
      "metadata": {
        "id": "iJPkPP7ZR7ys",
        "colab": {
          "base_uri": "https://localhost:8080/"
        },
        "outputId": "5b3fa2f3-90ff-44fc-c703-f2add22889bf"
      },
      "execution_count": 7,
      "outputs": [
        {
          "output_type": "stream",
          "name": "stdout",
          "text": [
            "Epoch 1/100\n",
            "2/2 [==============================] - 1s 7ms/step - loss: 32.8595 - mae: 32.8595\n",
            "Epoch 2/100\n",
            "2/2 [==============================] - 0s 8ms/step - loss: 31.8782 - mae: 31.8782\n",
            "Epoch 3/100\n",
            "2/2 [==============================] - 0s 6ms/step - loss: 41.6251 - mae: 41.6251\n",
            "Epoch 4/100\n",
            "2/2 [==============================] - 0s 5ms/step - loss: 32.1828 - mae: 32.1828\n",
            "Epoch 5/100\n",
            "2/2 [==============================] - 0s 6ms/step - loss: 13.2389 - mae: 13.2389\n",
            "Epoch 6/100\n",
            "2/2 [==============================] - 0s 5ms/step - loss: 27.4098 - mae: 27.4098\n",
            "Epoch 7/100\n",
            "2/2 [==============================] - 0s 6ms/step - loss: 9.6577 - mae: 9.6577\n",
            "Epoch 8/100\n",
            "2/2 [==============================] - 0s 6ms/step - loss: 13.6815 - mae: 13.6815\n",
            "Epoch 9/100\n",
            "2/2 [==============================] - 0s 6ms/step - loss: 11.1820 - mae: 11.1820\n",
            "Epoch 10/100\n",
            "2/2 [==============================] - 0s 6ms/step - loss: 11.4267 - mae: 11.4267\n",
            "Epoch 11/100\n",
            "2/2 [==============================] - 0s 5ms/step - loss: 20.0033 - mae: 20.0033\n",
            "Epoch 12/100\n",
            "2/2 [==============================] - 0s 6ms/step - loss: 10.4721 - mae: 10.4721\n",
            "Epoch 13/100\n",
            "2/2 [==============================] - 0s 7ms/step - loss: 15.2418 - mae: 15.2418\n",
            "Epoch 14/100\n",
            "2/2 [==============================] - 0s 7ms/step - loss: 18.2166 - mae: 18.2166\n",
            "Epoch 15/100\n",
            "2/2 [==============================] - 0s 7ms/step - loss: 9.4874 - mae: 9.4874\n",
            "Epoch 16/100\n",
            "2/2 [==============================] - 0s 5ms/step - loss: 20.8518 - mae: 20.8518\n",
            "Epoch 17/100\n",
            "2/2 [==============================] - 0s 5ms/step - loss: 10.7801 - mae: 10.7801\n",
            "Epoch 18/100\n",
            "2/2 [==============================] - 0s 5ms/step - loss: 17.5858 - mae: 17.5858\n",
            "Epoch 19/100\n",
            "2/2 [==============================] - 0s 5ms/step - loss: 13.9268 - mae: 13.9268\n",
            "Epoch 20/100\n",
            "2/2 [==============================] - 0s 6ms/step - loss: 14.3156 - mae: 14.3156\n",
            "Epoch 21/100\n",
            "2/2 [==============================] - 0s 5ms/step - loss: 18.3642 - mae: 18.3642\n",
            "Epoch 22/100\n",
            "2/2 [==============================] - 0s 5ms/step - loss: 14.3401 - mae: 14.3401\n",
            "Epoch 23/100\n",
            "2/2 [==============================] - 0s 6ms/step - loss: 29.3245 - mae: 29.3245\n",
            "Epoch 24/100\n",
            "2/2 [==============================] - 0s 6ms/step - loss: 11.3639 - mae: 11.3639\n",
            "Epoch 25/100\n",
            "2/2 [==============================] - 0s 6ms/step - loss: 16.0100 - mae: 16.0100\n",
            "Epoch 26/100\n",
            "2/2 [==============================] - 0s 5ms/step - loss: 16.6460 - mae: 16.6460\n",
            "Epoch 27/100\n",
            "2/2 [==============================] - 0s 5ms/step - loss: 25.2818 - mae: 25.2818\n",
            "Epoch 28/100\n",
            "2/2 [==============================] - 0s 5ms/step - loss: 12.3496 - mae: 12.3496\n",
            "Epoch 29/100\n",
            "2/2 [==============================] - 0s 6ms/step - loss: 22.6346 - mae: 22.6346\n",
            "Epoch 30/100\n",
            "2/2 [==============================] - 0s 6ms/step - loss: 16.9718 - mae: 16.9718\n",
            "Epoch 31/100\n",
            "2/2 [==============================] - 0s 6ms/step - loss: 10.2095 - mae: 10.2095\n",
            "Epoch 32/100\n",
            "2/2 [==============================] - 0s 6ms/step - loss: 16.5867 - mae: 16.5867\n",
            "Epoch 33/100\n",
            "2/2 [==============================] - 0s 6ms/step - loss: 15.7098 - mae: 15.7098\n",
            "Epoch 34/100\n",
            "2/2 [==============================] - 0s 12ms/step - loss: 20.3602 - mae: 20.3602\n",
            "Epoch 35/100\n",
            "2/2 [==============================] - 0s 6ms/step - loss: 10.4777 - mae: 10.4777\n",
            "Epoch 36/100\n",
            "2/2 [==============================] - 0s 6ms/step - loss: 16.6301 - mae: 16.6301\n",
            "Epoch 37/100\n",
            "2/2 [==============================] - 0s 6ms/step - loss: 11.6206 - mae: 11.6206\n",
            "Epoch 38/100\n",
            "2/2 [==============================] - 0s 6ms/step - loss: 13.2299 - mae: 13.2299\n",
            "Epoch 39/100\n",
            "2/2 [==============================] - 0s 6ms/step - loss: 31.2423 - mae: 31.2423\n",
            "Epoch 40/100\n",
            "2/2 [==============================] - 0s 5ms/step - loss: 27.0650 - mae: 27.0650\n",
            "Epoch 41/100\n",
            "2/2 [==============================] - 0s 6ms/step - loss: 7.0194 - mae: 7.0194\n",
            "Epoch 42/100\n",
            "2/2 [==============================] - 0s 6ms/step - loss: 12.9093 - mae: 12.9093\n",
            "Epoch 43/100\n",
            "2/2 [==============================] - 0s 6ms/step - loss: 17.4603 - mae: 17.4603\n",
            "Epoch 44/100\n",
            "2/2 [==============================] - 0s 6ms/step - loss: 12.9379 - mae: 12.9379\n",
            "Epoch 45/100\n",
            "2/2 [==============================] - 0s 9ms/step - loss: 22.0385 - mae: 22.0385\n",
            "Epoch 46/100\n",
            "2/2 [==============================] - 0s 6ms/step - loss: 26.3174 - mae: 26.3174\n",
            "Epoch 47/100\n",
            "2/2 [==============================] - 0s 6ms/step - loss: 16.1858 - mae: 16.1858\n",
            "Epoch 48/100\n",
            "2/2 [==============================] - 0s 6ms/step - loss: 9.9253 - mae: 9.9253\n",
            "Epoch 49/100\n",
            "2/2 [==============================] - 0s 8ms/step - loss: 17.3322 - mae: 17.3322\n",
            "Epoch 50/100\n",
            "2/2 [==============================] - 0s 6ms/step - loss: 16.8503 - mae: 16.8503\n",
            "Epoch 51/100\n",
            "2/2 [==============================] - 0s 6ms/step - loss: 16.7193 - mae: 16.7193\n",
            "Epoch 52/100\n",
            "2/2 [==============================] - 0s 6ms/step - loss: 18.7166 - mae: 18.7166\n",
            "Epoch 53/100\n",
            "2/2 [==============================] - 0s 6ms/step - loss: 22.2444 - mae: 22.2444\n",
            "Epoch 54/100\n",
            "2/2 [==============================] - 0s 10ms/step - loss: 27.2411 - mae: 27.2411\n",
            "Epoch 55/100\n",
            "2/2 [==============================] - 0s 9ms/step - loss: 9.3664 - mae: 9.3664\n",
            "Epoch 56/100\n",
            "2/2 [==============================] - 0s 6ms/step - loss: 26.3647 - mae: 26.3647\n",
            "Epoch 57/100\n",
            "2/2 [==============================] - 0s 7ms/step - loss: 9.2064 - mae: 9.2064\n",
            "Epoch 58/100\n",
            "2/2 [==============================] - 0s 7ms/step - loss: 19.0270 - mae: 19.0270\n",
            "Epoch 59/100\n",
            "2/2 [==============================] - 0s 6ms/step - loss: 12.1246 - mae: 12.1246\n",
            "Epoch 60/100\n",
            "2/2 [==============================] - 0s 6ms/step - loss: 15.5273 - mae: 15.5273\n",
            "Epoch 61/100\n",
            "2/2 [==============================] - 0s 5ms/step - loss: 20.8028 - mae: 20.8028\n",
            "Epoch 62/100\n",
            "2/2 [==============================] - 0s 5ms/step - loss: 15.2928 - mae: 15.2928\n",
            "Epoch 63/100\n",
            "2/2 [==============================] - 0s 5ms/step - loss: 21.2610 - mae: 21.2610\n",
            "Epoch 64/100\n",
            "2/2 [==============================] - 0s 5ms/step - loss: 9.0814 - mae: 9.0814\n",
            "Epoch 65/100\n",
            "2/2 [==============================] - 0s 4ms/step - loss: 10.0842 - mae: 10.0842\n",
            "Epoch 66/100\n",
            "2/2 [==============================] - 0s 5ms/step - loss: 10.4775 - mae: 10.4775\n",
            "Epoch 67/100\n",
            "2/2 [==============================] - 0s 5ms/step - loss: 19.7264 - mae: 19.7264\n",
            "Epoch 68/100\n",
            "2/2 [==============================] - 0s 5ms/step - loss: 12.5098 - mae: 12.5098\n",
            "Epoch 69/100\n",
            "2/2 [==============================] - 0s 4ms/step - loss: 16.6402 - mae: 16.6402\n",
            "Epoch 70/100\n",
            "2/2 [==============================] - 0s 5ms/step - loss: 12.8562 - mae: 12.8562\n",
            "Epoch 71/100\n",
            "2/2 [==============================] - 0s 4ms/step - loss: 12.5330 - mae: 12.5330\n",
            "Epoch 72/100\n",
            "2/2 [==============================] - 0s 5ms/step - loss: 27.5994 - mae: 27.5994\n",
            "Epoch 73/100\n",
            "2/2 [==============================] - 0s 8ms/step - loss: 13.1293 - mae: 13.1293\n",
            "Epoch 74/100\n",
            "2/2 [==============================] - 0s 5ms/step - loss: 19.0346 - mae: 19.0346\n",
            "Epoch 75/100\n",
            "2/2 [==============================] - 0s 5ms/step - loss: 14.8558 - mae: 14.8558\n",
            "Epoch 76/100\n",
            "2/2 [==============================] - 0s 7ms/step - loss: 17.1016 - mae: 17.1016\n",
            "Epoch 77/100\n",
            "2/2 [==============================] - 0s 6ms/step - loss: 9.9581 - mae: 9.9581\n",
            "Epoch 78/100\n",
            "2/2 [==============================] - 0s 5ms/step - loss: 22.0197 - mae: 22.0197\n",
            "Epoch 79/100\n",
            "2/2 [==============================] - 0s 5ms/step - loss: 26.2762 - mae: 26.2762\n",
            "Epoch 80/100\n",
            "2/2 [==============================] - 0s 6ms/step - loss: 11.7542 - mae: 11.7542\n",
            "Epoch 81/100\n",
            "2/2 [==============================] - 0s 6ms/step - loss: 22.5410 - mae: 22.5410\n",
            "Epoch 82/100\n",
            "2/2 [==============================] - 0s 5ms/step - loss: 28.3554 - mae: 28.3554\n",
            "Epoch 83/100\n",
            "2/2 [==============================] - 0s 6ms/step - loss: 9.8472 - mae: 9.8472\n",
            "Epoch 84/100\n",
            "2/2 [==============================] - 0s 6ms/step - loss: 13.3108 - mae: 13.3108\n",
            "Epoch 85/100\n",
            "2/2 [==============================] - 0s 6ms/step - loss: 16.3860 - mae: 16.3860\n",
            "Epoch 86/100\n",
            "2/2 [==============================] - 0s 6ms/step - loss: 16.6953 - mae: 16.6953\n",
            "Epoch 87/100\n",
            "2/2 [==============================] - 0s 6ms/step - loss: 9.5797 - mae: 9.5797\n",
            "Epoch 88/100\n",
            "2/2 [==============================] - 0s 6ms/step - loss: 11.9963 - mae: 11.9963\n",
            "Epoch 89/100\n",
            "2/2 [==============================] - 0s 6ms/step - loss: 29.4965 - mae: 29.4965\n",
            "Epoch 90/100\n",
            "2/2 [==============================] - 0s 6ms/step - loss: 12.5579 - mae: 12.5579\n",
            "Epoch 91/100\n",
            "2/2 [==============================] - 0s 11ms/step - loss: 27.9114 - mae: 27.9114\n",
            "Epoch 92/100\n",
            "2/2 [==============================] - 0s 6ms/step - loss: 10.7050 - mae: 10.7050\n",
            "Epoch 93/100\n",
            "2/2 [==============================] - 0s 6ms/step - loss: 15.9139 - mae: 15.9139\n",
            "Epoch 94/100\n",
            "2/2 [==============================] - 0s 5ms/step - loss: 13.1421 - mae: 13.1421\n",
            "Epoch 95/100\n",
            "2/2 [==============================] - 0s 10ms/step - loss: 18.7314 - mae: 18.7314\n",
            "Epoch 96/100\n",
            "2/2 [==============================] - 0s 6ms/step - loss: 11.4552 - mae: 11.4552\n",
            "Epoch 97/100\n",
            "2/2 [==============================] - 0s 5ms/step - loss: 23.2505 - mae: 23.2505\n",
            "Epoch 98/100\n",
            "2/2 [==============================] - 0s 6ms/step - loss: 26.2700 - mae: 26.2700\n",
            "Epoch 99/100\n",
            "2/2 [==============================] - 0s 6ms/step - loss: 10.6586 - mae: 10.6586\n",
            "Epoch 100/100\n",
            "2/2 [==============================] - 0s 6ms/step - loss: 11.9572 - mae: 11.9572\n"
          ]
        },
        {
          "output_type": "execute_result",
          "data": {
            "text/plain": [
              "<keras.callbacks.History at 0x7f9664136c90>"
            ]
          },
          "metadata": {},
          "execution_count": 7
        }
      ]
    },
    {
      "cell_type": "code",
      "source": [
        "model.summary()"
      ],
      "metadata": {
        "colab": {
          "base_uri": "https://localhost:8080/"
        },
        "id": "z9SLIMamSel7",
        "outputId": "556078e3-706b-411f-820e-c07495223fab"
      },
      "execution_count": 8,
      "outputs": [
        {
          "output_type": "stream",
          "name": "stdout",
          "text": [
            "Model: \"sequential\"\n",
            "_________________________________________________________________\n",
            " Layer (type)                Output Shape              Param #   \n",
            "=================================================================\n",
            " input_layer (Dense)         (None, 10)                20        \n",
            "                                                                 \n",
            " output_layer (Dense)        (None, 1)                 11        \n",
            "                                                                 \n",
            "=================================================================\n",
            "Total params: 31\n",
            "Trainable params: 31\n",
            "Non-trainable params: 0\n",
            "_________________________________________________________________\n"
          ]
        }
      ]
    },
    {
      "cell_type": "code",
      "source": [
        "from tensorflow.keras.utils import plot_model\n",
        "\n",
        "plot_model(model = model, show_shapes=True)"
      ],
      "metadata": {
        "colab": {
          "base_uri": "https://localhost:8080/",
          "height": 312
        },
        "id": "LWfe9zYLSuaL",
        "outputId": "a2f42963-0e3b-490e-99bc-354ac8b29eae"
      },
      "execution_count": 9,
      "outputs": [
        {
          "output_type": "execute_result",
          "data": {
            "text/plain": [
              "<IPython.core.display.Image object>"
            ],
            "image/png": "[encoded data removed]"
          },
          "metadata": {},
          "execution_count": 9
        }
      ]
    },
    {
      "cell_type": "code",
      "source": [
        "y_pred = model.predict(X_test)\n",
        "y_pred"
      ],
      "metadata": {
        "colab": {
          "base_uri": "https://localhost:8080/"
        },
        "id": "lrbo4HInTOkj",
        "outputId": "9204a8a6-68d0-45e5-ab35-e9e2816e9a7a"
      },
      "execution_count": 10,
      "outputs": [
        {
          "output_type": "execute_result",
          "data": {
            "text/plain": [
              "array([[39.273533],\n",
              "       [41.80174 ],\n",
              "       [44.329937],\n",
              "       [46.858143],\n",
              "       [49.386345],\n",
              "       [51.91455 ],\n",
              "       [54.44275 ],\n",
              "       [56.970955],\n",
              "       [59.499157],\n",
              "       [62.02736 ]], dtype=float32)"
            ]
          },
          "metadata": {},
          "execution_count": 10
        }
      ]
    },
    {
      "cell_type": "code",
      "source": [
        "y_test"
      ],
      "metadata": {
        "colab": {
          "base_uri": "https://localhost:8080/"
        },
        "id": "xwy0KPfImXGE",
        "outputId": "616728db-58b7-417c-8c27-340cc2b64431"
      },
      "execution_count": 11,
      "outputs": [
        {
          "output_type": "execute_result",
          "data": {
            "text/plain": [
              "<tf.Tensor: shape=(10,), dtype=int32, numpy=array([ 70,  74,  78,  82,  86,  90,  94,  98, 102, 106], dtype=int32)>"
            ]
          },
          "metadata": {},
          "execution_count": 11
        }
      ]
    },
    {
      "cell_type": "code",
      "source": [
        "import matplotlib.pyplot as plt\n",
        "\n",
        "def plot_predictions(train_data=X_train,\n",
        "                     train_labels = y_train,\n",
        "                     test_data = X_test,\n",
        "                     test_labels = y_test,\n",
        "                     predictions = y_pred):\n",
        "  plt.figure(figsize=(10, 7))\n",
        "  plt.scatter(train_data, train_labels, c='r', label='training data')\n",
        "  plt.scatter(test_data, test_labels, c='b', label='testing data')\n",
        "  plt.scatter(test_data, predictions, c='g', label='predicton data')\n",
        "  plt.legend();\n"
      ],
      "metadata": {
        "id": "3mi3_RVZmZPi"
      },
      "execution_count": 12,
      "outputs": []
    },
    {
      "cell_type": "code",
      "source": [
        "plot_predictions()"
      ],
      "metadata": {
        "colab": {
          "base_uri": "https://localhost:8080/",
          "height": 428
        },
        "id": "-eVsST-EobRq",
        "outputId": "2f9305f8-c20a-441e-a3dc-00fceb6d74c5"
      },
      "execution_count": 13,
      "outputs": [
        {
          "output_type": "display_data",
          "data": {
            "text/plain": [
              "<Figure size 720x504 with 1 Axes>"
            ],
            "image/png": "[encoded data removed]"
          },
          "metadata": {
            "needs_background": "light"
          }
        }
      ]
    },
    {
      "cell_type": "code",
      "source": [
        "model.evaluate(X_test, y_test)"
      ],
      "metadata": {
        "id": "9a5JAKxcor8p",
        "colab": {
          "base_uri": "https://localhost:8080/"
        },
        "outputId": "8e6a6fda-0f2f-48a4-dd8a-fc7c11ec089d"
      },
      "execution_count": 14,
      "outputs": [
        {
          "output_type": "stream",
          "name": "stdout",
          "text": [
            "1/1 [==============================] - 0s 135ms/step - loss: 37.3496 - mae: 37.3496\n"
          ]
        },
        {
          "output_type": "execute_result",
          "data": {
            "text/plain": [
              "[37.349552154541016, 37.349552154541016]"
            ]
          },
          "metadata": {},
          "execution_count": 14
        }
      ]
    },
    {
      "cell_type": "code",
      "source": [
        "tf.metrics.mean_absolute_error(y_true=y_test, y_pred=y_pred)"
      ],
      "metadata": {
        "colab": {
          "base_uri": "https://localhost:8080/"
        },
        "id": "QLV_TfDy6jtE",
        "outputId": "f461e168-e922-4dd1-a82c-505182833c95"
      },
      "execution_count": 15,
      "outputs": [
        {
          "output_type": "execute_result",
          "data": {
            "text/plain": [
              "<tf.Tensor: shape=(10,), dtype=float32, numpy=\n",
              "array([48.726467, 46.19826 , 43.670063, 41.141857, 38.613655, 36.08545 ,\n",
              "       33.55725 , 31.029047, 28.500843, 25.972641], dtype=float32)>"
            ]
          },
          "metadata": {},
          "execution_count": 15
        }
      ]
    },
    {
      "cell_type": "code",
      "source": [
        "y_test.shape, y_pred.shape"
      ],
      "metadata": {
        "colab": {
          "base_uri": "https://localhost:8080/"
        },
        "id": "WxGqU9Lb86YP",
        "outputId": "326ec863-1624-433a-826a-c9adf79cdbce"
      },
      "execution_count": 16,
      "outputs": [
        {
          "output_type": "execute_result",
          "data": {
            "text/plain": [
              "(TensorShape([10]), (10, 1))"
            ]
          },
          "metadata": {},
          "execution_count": 16
        }
      ]
    },
    {
      "cell_type": "code",
      "source": [
        "tf.metrics.mean_absolute_error(y_true=y_test, y_pred=tf.squeeze(y_pred))"
      ],
      "metadata": {
        "colab": {
          "base_uri": "https://localhost:8080/"
        },
        "id": "JNxln7ME74Ah",
        "outputId": "ca4f03c6-f8f1-4130-ec2c-60ccd4c2580a"
      },
      "execution_count": 17,
      "outputs": [
        {
          "output_type": "execute_result",
          "data": {
            "text/plain": [
              "<tf.Tensor: shape=(), dtype=float32, numpy=37.349552>"
            ]
          },
          "metadata": {},
          "execution_count": 17
        }
      ]
    },
    {
      "cell_type": "markdown",
      "source": [
        ""
      ],
      "metadata": {
        "id": "CAcRFG0s9Ruu"
      }
    },
    {
      "cell_type": "code",
      "source": [
        "tf.metrics.mean_squared_error(y_true=y_test, y_pred=tf.squeeze(y_pred))"
      ],
      "metadata": {
        "colab": {
          "base_uri": "https://localhost:8080/"
        },
        "id": "wZcI7Oek8aoR",
        "outputId": "84e946bf-b136-4c39-d764-f3c6c81b7b7d"
      },
      "execution_count": 18,
      "outputs": [
        {
          "output_type": "execute_result",
          "data": {
            "text/plain": [
              "<tf.Tensor: shape=(), dtype=float32, numpy=1412.8602>"
            ]
          },
          "metadata": {},
          "execution_count": 18
        }
      ]
    },
    {
      "cell_type": "code",
      "source": [
        "X_train, y_train"
      ],
      "metadata": {
        "colab": {
          "base_uri": "https://localhost:8080/"
        },
        "id": "ryiqlIM19UAh",
        "outputId": "c0faf499-f0b5-422f-cfdb-5f3d66a8eadb"
      },
      "execution_count": 19,
      "outputs": [
        {
          "output_type": "execute_result",
          "data": {
            "text/plain": [
              "(<tf.Tensor: shape=(40,), dtype=int32, numpy=\n",
              " array([-100,  -96,  -92,  -88,  -84,  -80,  -76,  -72,  -68,  -64,  -60,\n",
              "         -56,  -52,  -48,  -44,  -40,  -36,  -32,  -28,  -24,  -20,  -16,\n",
              "         -12,   -8,   -4,    0,    4,    8,   12,   16,   20,   24,   28,\n",
              "          32,   36,   40,   44,   48,   52,   56], dtype=int32)>,\n",
              " <tf.Tensor: shape=(40,), dtype=int32, numpy=\n",
              " array([-90, -86, -82, -78, -74, -70, -66, -62, -58, -54, -50, -46, -42,\n",
              "        -38, -34, -30, -26, -22, -18, -14, -10,  -6,  -2,   2,   6,  10,\n",
              "         14,  18,  22,  26,  30,  34,  38,  42,  46,  50,  54,  58,  62,\n",
              "         66], dtype=int32)>)"
            ]
          },
          "metadata": {},
          "execution_count": 19
        }
      ]
    },
    {
      "cell_type": "code",
      "source": [
        "tf.random.set_seed = 42\n",
        "\n",
        "model = tf.keras.Sequential([\n",
        "  tf.keras.layers.Dense(1)                             \n",
        "])\n",
        "\n",
        "model.compile(loss=tf.keras.losses.mae,\n",
        "              optimizer=tf.keras.optimizers.SGD(),\n",
        "              metrics=['mae'])\n",
        "\n",
        "model.fit(tf.expand_dims(X_train, axis=1), y_train, epochs=100)"
      ],
      "metadata": {
        "colab": {
          "base_uri": "https://localhost:8080/"
        },
        "id": "pRnY_ADKEM27",
        "outputId": "580897f7-ac0c-4d57-d215-9ac24d6e280c"
      },
      "execution_count": 20,
      "outputs": [
        {
          "output_type": "stream",
          "name": "stdout",
          "text": [
            "Epoch 1/100\n",
            "2/2 [==============================] - 0s 6ms/step - loss: 87.9543 - mae: 87.9543\n",
            "Epoch 2/100\n",
            "2/2 [==============================] - 0s 5ms/step - loss: 58.6816 - mae: 58.6816\n",
            "Epoch 3/100\n",
            "2/2 [==============================] - 0s 6ms/step - loss: 26.1869 - mae: 26.1869\n",
            "Epoch 4/100\n",
            "2/2 [==============================] - 0s 6ms/step - loss: 10.8100 - mae: 10.8100\n",
            "Epoch 5/100\n",
            "2/2 [==============================] - 0s 6ms/step - loss: 19.4422 - mae: 19.4422\n",
            "Epoch 6/100\n",
            "2/2 [==============================] - 0s 6ms/step - loss: 7.7560 - mae: 7.7560\n",
            "Epoch 7/100\n",
            "2/2 [==============================] - 0s 4ms/step - loss: 9.6474 - mae: 9.6474\n",
            "Epoch 8/100\n",
            "2/2 [==============================] - 0s 6ms/step - loss: 10.6473 - mae: 10.6473\n",
            "Epoch 9/100\n",
            "2/2 [==============================] - 0s 8ms/step - loss: 8.1121 - mae: 8.1121\n",
            "Epoch 10/100\n",
            "2/2 [==============================] - 0s 6ms/step - loss: 16.8460 - mae: 16.8460\n",
            "Epoch 11/100\n",
            "2/2 [==============================] - 0s 5ms/step - loss: 16.7164 - mae: 16.7164\n",
            "Epoch 12/100\n",
            "2/2 [==============================] - 0s 5ms/step - loss: 8.4717 - mae: 8.4717\n",
            "Epoch 13/100\n",
            "2/2 [==============================] - 0s 6ms/step - loss: 10.9334 - mae: 10.9334\n",
            "Epoch 14/100\n",
            "2/2 [==============================] - 0s 6ms/step - loss: 8.0173 - mae: 8.0173\n",
            "Epoch 15/100\n",
            "2/2 [==============================] - 0s 6ms/step - loss: 12.3029 - mae: 12.3029\n",
            "Epoch 16/100\n",
            "2/2 [==============================] - 0s 5ms/step - loss: 12.4494 - mae: 12.4494\n",
            "Epoch 17/100\n",
            "2/2 [==============================] - 0s 6ms/step - loss: 10.3503 - mae: 10.3503\n",
            "Epoch 18/100\n",
            "2/2 [==============================] - 0s 5ms/step - loss: 10.4653 - mae: 10.4653\n",
            "Epoch 19/100\n",
            "2/2 [==============================] - 0s 5ms/step - loss: 8.6774 - mae: 8.6774\n",
            "Epoch 20/100\n",
            "2/2 [==============================] - 0s 5ms/step - loss: 9.7164 - mae: 9.7164\n",
            "Epoch 21/100\n",
            "2/2 [==============================] - 0s 5ms/step - loss: 9.4719 - mae: 9.4719\n",
            "Epoch 22/100\n",
            "2/2 [==============================] - 0s 5ms/step - loss: 11.2945 - mae: 11.2945\n",
            "Epoch 23/100\n",
            "2/2 [==============================] - 0s 5ms/step - loss: 9.8804 - mae: 9.8804\n",
            "Epoch 24/100\n",
            "2/2 [==============================] - 0s 9ms/step - loss: 9.5820 - mae: 9.5820\n",
            "Epoch 25/100\n",
            "2/2 [==============================] - 0s 5ms/step - loss: 8.8891 - mae: 8.8891\n",
            "Epoch 26/100\n",
            "2/2 [==============================] - 0s 5ms/step - loss: 13.9371 - mae: 13.9371\n",
            "Epoch 27/100\n",
            "2/2 [==============================] - 0s 5ms/step - loss: 14.7183 - mae: 14.7183\n",
            "Epoch 28/100\n",
            "2/2 [==============================] - 0s 10ms/step - loss: 10.2827 - mae: 10.2827\n",
            "Epoch 29/100\n",
            "2/2 [==============================] - 0s 4ms/step - loss: 11.9036 - mae: 11.9036\n",
            "Epoch 30/100\n",
            "2/2 [==============================] - 0s 6ms/step - loss: 12.8861 - mae: 12.8861\n",
            "Epoch 31/100\n",
            "2/2 [==============================] - 0s 7ms/step - loss: 12.5484 - mae: 12.5484\n",
            "Epoch 32/100\n",
            "2/2 [==============================] - 0s 7ms/step - loss: 10.6314 - mae: 10.6314\n",
            "Epoch 33/100\n",
            "2/2 [==============================] - 0s 4ms/step - loss: 16.5536 - mae: 16.5536\n",
            "Epoch 34/100\n",
            "2/2 [==============================] - 0s 4ms/step - loss: 8.4055 - mae: 8.4055\n",
            "Epoch 35/100\n",
            "2/2 [==============================] - 0s 7ms/step - loss: 13.9304 - mae: 13.9304\n",
            "Epoch 36/100\n",
            "2/2 [==============================] - 0s 4ms/step - loss: 9.7401 - mae: 9.7401\n",
            "Epoch 37/100\n",
            "2/2 [==============================] - 0s 7ms/step - loss: 11.4974 - mae: 11.4974\n",
            "Epoch 38/100\n",
            "2/2 [==============================] - 0s 6ms/step - loss: 13.7937 - mae: 13.7937\n",
            "Epoch 39/100\n",
            "2/2 [==============================] - 0s 5ms/step - loss: 12.4543 - mae: 12.4543\n",
            "Epoch 40/100\n",
            "2/2 [==============================] - 0s 5ms/step - loss: 12.3251 - mae: 12.3251\n",
            "Epoch 41/100\n",
            "2/2 [==============================] - 0s 5ms/step - loss: 9.9454 - mae: 9.9454\n",
            "Epoch 42/100\n",
            "2/2 [==============================] - 0s 5ms/step - loss: 7.2258 - mae: 7.2258\n",
            "Epoch 43/100\n",
            "2/2 [==============================] - 0s 5ms/step - loss: 11.1860 - mae: 11.1860\n",
            "Epoch 44/100\n",
            "2/2 [==============================] - 0s 6ms/step - loss: 8.1609 - mae: 8.1609\n",
            "Epoch 45/100\n",
            "2/2 [==============================] - 0s 5ms/step - loss: 12.5845 - mae: 12.5845\n",
            "Epoch 46/100\n",
            "2/2 [==============================] - 0s 5ms/step - loss: 8.9931 - mae: 8.9931\n",
            "Epoch 47/100\n",
            "2/2 [==============================] - 0s 7ms/step - loss: 13.1005 - mae: 13.1005\n",
            "Epoch 48/100\n",
            "2/2 [==============================] - 0s 7ms/step - loss: 8.5538 - mae: 8.5538\n",
            "Epoch 49/100\n",
            "2/2 [==============================] - 0s 5ms/step - loss: 13.2677 - mae: 13.2677\n",
            "Epoch 50/100\n",
            "2/2 [==============================] - 0s 5ms/step - loss: 10.7561 - mae: 10.7561\n",
            "Epoch 51/100\n",
            "2/2 [==============================] - 0s 6ms/step - loss: 10.6100 - mae: 10.6100\n",
            "Epoch 52/100\n",
            "2/2 [==============================] - 0s 5ms/step - loss: 14.9957 - mae: 14.9957\n",
            "Epoch 53/100\n",
            "2/2 [==============================] - 0s 7ms/step - loss: 9.5877 - mae: 9.5877\n",
            "Epoch 54/100\n",
            "2/2 [==============================] - 0s 8ms/step - loss: 8.8224 - mae: 8.8224\n",
            "Epoch 55/100\n",
            "2/2 [==============================] - 0s 6ms/step - loss: 9.1412 - mae: 9.1412\n",
            "Epoch 56/100\n",
            "2/2 [==============================] - 0s 5ms/step - loss: 11.6500 - mae: 11.6500\n",
            "Epoch 57/100\n",
            "2/2 [==============================] - 0s 6ms/step - loss: 9.3278 - mae: 9.3278\n",
            "Epoch 58/100\n",
            "2/2 [==============================] - 0s 4ms/step - loss: 10.0798 - mae: 10.0798\n",
            "Epoch 59/100\n",
            "2/2 [==============================] - 0s 5ms/step - loss: 8.1430 - mae: 8.1430\n",
            "Epoch 60/100\n",
            "2/2 [==============================] - 0s 5ms/step - loss: 9.7594 - mae: 9.7594\n",
            "Epoch 61/100\n",
            "2/2 [==============================] - 0s 5ms/step - loss: 15.9428 - mae: 15.9428\n",
            "Epoch 62/100\n",
            "2/2 [==============================] - 0s 7ms/step - loss: 9.2066 - mae: 9.2066\n",
            "Epoch 63/100\n",
            "2/2 [==============================] - 0s 8ms/step - loss: 8.0294 - mae: 8.0294\n",
            "Epoch 64/100\n",
            "2/2 [==============================] - 0s 5ms/step - loss: 10.5545 - mae: 10.5545\n",
            "Epoch 65/100\n",
            "2/2 [==============================] - 0s 5ms/step - loss: 7.0192 - mae: 7.0192\n",
            "Epoch 66/100\n",
            "2/2 [==============================] - 0s 4ms/step - loss: 9.6695 - mae: 9.6695\n",
            "Epoch 67/100\n",
            "2/2 [==============================] - 0s 4ms/step - loss: 9.9907 - mae: 9.9907\n",
            "Epoch 68/100\n",
            "2/2 [==============================] - 0s 4ms/step - loss: 7.3660 - mae: 7.3660\n",
            "Epoch 69/100\n",
            "2/2 [==============================] - 0s 5ms/step - loss: 9.6052 - mae: 9.6052\n",
            "Epoch 70/100\n",
            "2/2 [==============================] - 0s 5ms/step - loss: 16.9674 - mae: 16.9674\n",
            "Epoch 71/100\n",
            "2/2 [==============================] - 0s 4ms/step - loss: 9.0298 - mae: 9.0298\n",
            "Epoch 72/100\n",
            "2/2 [==============================] - 0s 5ms/step - loss: 7.8618 - mae: 7.8618\n",
            "Epoch 73/100\n",
            "2/2 [==============================] - 0s 4ms/step - loss: 8.3418 - mae: 8.3418\n",
            "Epoch 74/100\n",
            "2/2 [==============================] - 0s 5ms/step - loss: 10.5032 - mae: 10.5032\n",
            "Epoch 75/100\n",
            "2/2 [==============================] - 0s 5ms/step - loss: 8.1541 - mae: 8.1541\n",
            "Epoch 76/100\n",
            "2/2 [==============================] - 0s 6ms/step - loss: 14.3867 - mae: 14.3867\n",
            "Epoch 77/100\n",
            "2/2 [==============================] - 0s 8ms/step - loss: 12.1796 - mae: 12.1796\n",
            "Epoch 78/100\n",
            "2/2 [==============================] - 0s 5ms/step - loss: 8.8641 - mae: 8.8641\n",
            "Epoch 79/100\n",
            "2/2 [==============================] - 0s 4ms/step - loss: 8.0394 - mae: 8.0394\n",
            "Epoch 80/100\n",
            "2/2 [==============================] - 0s 7ms/step - loss: 9.9601 - mae: 9.9601\n",
            "Epoch 81/100\n",
            "2/2 [==============================] - 0s 5ms/step - loss: 8.1878 - mae: 8.1878\n",
            "Epoch 82/100\n",
            "2/2 [==============================] - 0s 5ms/step - loss: 11.9558 - mae: 11.9558\n",
            "Epoch 83/100\n",
            "2/2 [==============================] - 0s 12ms/step - loss: 9.4001 - mae: 9.4001\n",
            "Epoch 84/100\n",
            "2/2 [==============================] - 0s 4ms/step - loss: 13.6677 - mae: 13.6677\n",
            "Epoch 85/100\n",
            "2/2 [==============================] - 0s 4ms/step - loss: 14.1099 - mae: 14.1099\n",
            "Epoch 86/100\n",
            "2/2 [==============================] - 0s 9ms/step - loss: 16.8901 - mae: 16.8901\n",
            "Epoch 87/100\n",
            "2/2 [==============================] - 0s 5ms/step - loss: 8.1123 - mae: 8.1123\n",
            "Epoch 88/100\n",
            "2/2 [==============================] - 0s 4ms/step - loss: 10.2943 - mae: 10.2943\n",
            "Epoch 89/100\n",
            "2/2 [==============================] - 0s 4ms/step - loss: 7.7407 - mae: 7.7407\n",
            "Epoch 90/100\n",
            "2/2 [==============================] - 0s 5ms/step - loss: 7.6496 - mae: 7.6496\n",
            "Epoch 91/100\n",
            "2/2 [==============================] - 0s 4ms/step - loss: 11.8811 - mae: 11.8811\n",
            "Epoch 92/100\n",
            "2/2 [==============================] - 0s 4ms/step - loss: 17.5618 - mae: 17.5618\n",
            "Epoch 93/100\n",
            "2/2 [==============================] - 0s 4ms/step - loss: 9.5592 - mae: 9.5592\n",
            "Epoch 94/100\n",
            "2/2 [==============================] - 0s 4ms/step - loss: 9.6432 - mae: 9.6432\n",
            "Epoch 95/100\n",
            "2/2 [==============================] - 0s 5ms/step - loss: 9.0071 - mae: 9.0071\n",
            "Epoch 96/100\n",
            "2/2 [==============================] - 0s 4ms/step - loss: 9.1871 - mae: 9.1871\n",
            "Epoch 97/100\n",
            "2/2 [==============================] - 0s 5ms/step - loss: 9.0816 - mae: 9.0816\n",
            "Epoch 98/100\n",
            "2/2 [==============================] - 0s 9ms/step - loss: 7.2300 - mae: 7.2300\n",
            "Epoch 99/100\n",
            "2/2 [==============================] - 0s 9ms/step - loss: 10.2542 - mae: 10.2542\n",
            "Epoch 100/100\n",
            "2/2 [==============================] - 0s 4ms/step - loss: 7.4971 - mae: 7.4971\n"
          ]
        },
        {
          "output_type": "execute_result",
          "data": {
            "text/plain": [
              "<keras.callbacks.History at 0x7f965fe8ae10>"
            ]
          },
          "metadata": {},
          "execution_count": 20
        }
      ]
    },
    {
      "cell_type": "code",
      "source": [
        "y_preds1 = model.predict(X_test)\n",
        "y_preds1"
      ],
      "metadata": {
        "colab": {
          "base_uri": "https://localhost:8080/"
        },
        "id": "6UxPzE-dEXvL",
        "outputId": "aa89132d-c11b-405b-a77a-946562fea5f2"
      },
      "execution_count": 21,
      "outputs": [
        {
          "output_type": "execute_result",
          "data": {
            "text/plain": [
              "array([[ 70.023506],\n",
              "       [ 74.604324],\n",
              "       [ 79.18514 ],\n",
              "       [ 83.76596 ],\n",
              "       [ 88.34678 ],\n",
              "       [ 92.9276  ],\n",
              "       [ 97.50841 ],\n",
              "       [102.089226],\n",
              "       [106.670044],\n",
              "       [111.25086 ]], dtype=float32)"
            ]
          },
          "metadata": {},
          "execution_count": 21
        }
      ]
    },
    {
      "cell_type": "code",
      "source": [
        "plot_predictions(predictions=y_preds1)"
      ],
      "metadata": {
        "colab": {
          "base_uri": "https://localhost:8080/",
          "height": 428
        },
        "id": "bU6Hmh3AFPvC",
        "outputId": "2bd69805-8bed-45cd-f35a-b260faf0e742"
      },
      "execution_count": 22,
      "outputs": [
        {
          "output_type": "display_data",
          "data": {
            "text/plain": [
              "<Figure size 720x504 with 1 Axes>"
            ],
            "image/png": "[encoded data removed]"
          },
          "metadata": {
            "needs_background": "light"
          }
        }
      ]
    },
    {
      "cell_type": "code",
      "source": [
        "mae1 = tf.metrics.mean_absolute_error(y_test, tf.squeeze(y_preds1))\n",
        "mse1 = tf.metrics.mean_squared_error(y_test, tf.squeeze(y_preds1))\n",
        "mae1, mse1"
      ],
      "metadata": {
        "colab": {
          "base_uri": "https://localhost:8080/"
        },
        "id": "GIxpzKf3FUb6",
        "outputId": "a4111d0c-032b-45b0-e5cc-8ced291c5db9"
      },
      "execution_count": 23,
      "outputs": [
        {
          "output_type": "execute_result",
          "data": {
            "text/plain": [
              "(<tf.Tensor: shape=(), dtype=float32, numpy=2.6371849>,\n",
              " <tf.Tensor: shape=(), dtype=float32, numpy=9.737869>)"
            ]
          },
          "metadata": {},
          "execution_count": 23
        }
      ]
    },
    {
      "cell_type": "code",
      "source": [
        "tf.random.set_seed = 42\n",
        "\n",
        "model = tf.keras.Sequential([\n",
        "  tf.keras.layers.Dense(10),\n",
        "  tf.keras.layers.Dense(1),                             \n",
        "])\n",
        "\n",
        "model.compile(loss=tf.keras.losses.mae,\n",
        "              optimizer=tf.keras.optimizers.SGD(),\n",
        "              metrics=['mse'])\n",
        "\n",
        "model.fit(tf.expand_dims(X_train, axis=1), y_train, epochs=100)"
      ],
      "metadata": {
        "id": "PepP7DYbFjti",
        "outputId": "d4e31bf9-9a8c-4a44-d03c-638841ba0b73",
        "colab": {
          "base_uri": "https://localhost:8080/"
        }
      },
      "execution_count": 24,
      "outputs": [
        {
          "output_type": "stream",
          "name": "stdout",
          "text": [
            "Epoch 1/100\n",
            "2/2 [==============================] - 0s 7ms/step - loss: 38.9682 - mse: 2202.1809\n",
            "Epoch 2/100\n",
            "2/2 [==============================] - 0s 6ms/step - loss: 30.8436 - mse: 1320.3435\n",
            "Epoch 3/100\n",
            "2/2 [==============================] - 0s 4ms/step - loss: 7.5952 - mse: 84.3834\n",
            "Epoch 4/100\n",
            "2/2 [==============================] - 0s 6ms/step - loss: 11.7050 - mse: 159.4163\n",
            "Epoch 5/100\n",
            "2/2 [==============================] - 0s 6ms/step - loss: 25.2857 - mse: 927.9861\n",
            "Epoch 6/100\n",
            "2/2 [==============================] - 0s 6ms/step - loss: 13.2126 - mse: 267.8026\n",
            "Epoch 7/100\n",
            "2/2 [==============================] - 0s 6ms/step - loss: 10.2536 - mse: 163.0137\n",
            "Epoch 8/100\n",
            "2/2 [==============================] - 0s 6ms/step - loss: 18.4201 - mse: 456.3293\n",
            "Epoch 9/100\n",
            "2/2 [==============================] - 0s 6ms/step - loss: 9.7086 - mse: 152.3421\n",
            "Epoch 10/100\n",
            "2/2 [==============================] - 0s 6ms/step - loss: 15.2863 - mse: 301.4631\n",
            "Epoch 11/100\n",
            "2/2 [==============================] - 0s 6ms/step - loss: 10.0940 - mse: 114.4647\n",
            "Epoch 12/100\n",
            "2/2 [==============================] - 0s 6ms/step - loss: 31.6088 - mse: 1553.4900\n",
            "Epoch 13/100\n",
            "2/2 [==============================] - 0s 5ms/step - loss: 11.1279 - mse: 147.9509\n",
            "Epoch 14/100\n",
            "2/2 [==============================] - 0s 5ms/step - loss: 16.2766 - mse: 354.4841\n",
            "Epoch 15/100\n",
            "2/2 [==============================] - 0s 5ms/step - loss: 11.7932 - mse: 165.7406\n",
            "Epoch 16/100\n",
            "2/2 [==============================] - 0s 5ms/step - loss: 18.4616 - mse: 513.7573\n",
            "Epoch 17/100\n",
            "2/2 [==============================] - 0s 5ms/step - loss: 10.7097 - mse: 127.2443\n",
            "Epoch 18/100\n",
            "2/2 [==============================] - 0s 6ms/step - loss: 17.8256 - mse: 441.9149\n",
            "Epoch 19/100\n",
            "2/2 [==============================] - 0s 5ms/step - loss: 9.8694 - mse: 155.5350\n",
            "Epoch 20/100\n",
            "2/2 [==============================] - 0s 5ms/step - loss: 17.5741 - mse: 413.9056\n",
            "Epoch 21/100\n",
            "2/2 [==============================] - 0s 5ms/step - loss: 10.2982 - mse: 159.2066\n",
            "Epoch 22/100\n",
            "2/2 [==============================] - 0s 5ms/step - loss: 17.1204 - mse: 436.4015\n",
            "Epoch 23/100\n",
            "2/2 [==============================] - 0s 5ms/step - loss: 27.3451 - mse: 1192.2998\n",
            "Epoch 24/100\n",
            "2/2 [==============================] - 0s 5ms/step - loss: 27.8770 - mse: 1117.2898\n",
            "Epoch 25/100\n",
            "2/2 [==============================] - 0s 9ms/step - loss: 21.9041 - mse: 679.7908\n",
            "Epoch 26/100\n",
            "2/2 [==============================] - 0s 7ms/step - loss: 15.7618 - mse: 346.4777\n",
            "Epoch 27/100\n",
            "2/2 [==============================] - 0s 8ms/step - loss: 10.6733 - mse: 162.9311\n",
            "Epoch 28/100\n",
            "2/2 [==============================] - 0s 7ms/step - loss: 25.1729 - mse: 842.3713\n",
            "Epoch 29/100\n",
            "2/2 [==============================] - 0s 5ms/step - loss: 12.2965 - mse: 227.5302\n",
            "Epoch 30/100\n",
            "2/2 [==============================] - 0s 9ms/step - loss: 25.7766 - mse: 910.5288\n",
            "Epoch 31/100\n",
            "2/2 [==============================] - 0s 7ms/step - loss: 16.2166 - mse: 378.4433\n",
            "Epoch 32/100\n",
            "2/2 [==============================] - 0s 6ms/step - loss: 10.6114 - mse: 194.8673\n",
            "Epoch 33/100\n",
            "2/2 [==============================] - 0s 6ms/step - loss: 16.2868 - mse: 372.9211\n",
            "Epoch 34/100\n",
            "2/2 [==============================] - 0s 6ms/step - loss: 15.5769 - mse: 324.9491\n",
            "Epoch 35/100\n",
            "2/2 [==============================] - 0s 8ms/step - loss: 16.5131 - mse: 363.7700\n",
            "Epoch 36/100\n",
            "2/2 [==============================] - 0s 7ms/step - loss: 8.2653 - mse: 106.9526\n",
            "Epoch 37/100\n",
            "2/2 [==============================] - 0s 6ms/step - loss: 16.0047 - mse: 328.8137\n",
            "Epoch 38/100\n",
            "2/2 [==============================] - 0s 6ms/step - loss: 17.4658 - mse: 405.4559\n",
            "Epoch 39/100\n",
            "2/2 [==============================] - 0s 8ms/step - loss: 7.2314 - mse: 89.5654\n",
            "Epoch 40/100\n",
            "2/2 [==============================] - 0s 7ms/step - loss: 9.1882 - mse: 146.1647\n",
            "Epoch 41/100\n",
            "2/2 [==============================] - 0s 9ms/step - loss: 14.7644 - mse: 299.7361\n",
            "Epoch 42/100\n",
            "2/2 [==============================] - 0s 5ms/step - loss: 9.8397 - mse: 155.5155\n",
            "Epoch 43/100\n",
            "2/2 [==============================] - 0s 5ms/step - loss: 10.4964 - mse: 156.2897\n",
            "Epoch 44/100\n",
            "2/2 [==============================] - 0s 5ms/step - loss: 19.6311 - mse: 628.4496\n",
            "Epoch 45/100\n",
            "2/2 [==============================] - 0s 6ms/step - loss: 13.4568 - mse: 270.9630\n",
            "Epoch 46/100\n",
            "2/2 [==============================] - 0s 5ms/step - loss: 10.5546 - mse: 126.5873\n",
            "Epoch 47/100\n",
            "2/2 [==============================] - 0s 4ms/step - loss: 16.5235 - mse: 407.5450\n",
            "Epoch 48/100\n",
            "2/2 [==============================] - 0s 5ms/step - loss: 10.5097 - mse: 124.8457\n",
            "Epoch 49/100\n",
            "2/2 [==============================] - 0s 5ms/step - loss: 21.4109 - mse: 659.9153\n",
            "Epoch 50/100\n",
            "2/2 [==============================] - 0s 5ms/step - loss: 11.0599 - mse: 157.2331\n",
            "Epoch 51/100\n",
            "2/2 [==============================] - 0s 5ms/step - loss: 19.9618 - mse: 544.1514\n",
            "Epoch 52/100\n",
            "2/2 [==============================] - 0s 4ms/step - loss: 9.9485 - mse: 117.6646\n",
            "Epoch 53/100\n",
            "2/2 [==============================] - 0s 5ms/step - loss: 18.7059 - mse: 461.9095\n",
            "Epoch 54/100\n",
            "2/2 [==============================] - 0s 6ms/step - loss: 11.2124 - mse: 146.9842\n",
            "Epoch 55/100\n",
            "2/2 [==============================] - 0s 5ms/step - loss: 15.4172 - mse: 358.0602\n",
            "Epoch 56/100\n",
            "2/2 [==============================] - 0s 5ms/step - loss: 10.2049 - mse: 160.7807\n",
            "Epoch 57/100\n",
            "2/2 [==============================] - 0s 5ms/step - loss: 12.1726 - mse: 180.3605\n",
            "Epoch 58/100\n",
            "2/2 [==============================] - 0s 6ms/step - loss: 11.3707 - mse: 159.2924\n",
            "Epoch 59/100\n",
            "2/2 [==============================] - 0s 6ms/step - loss: 36.5422 - mse: 1899.0082\n",
            "Epoch 60/100\n",
            "2/2 [==============================] - 0s 6ms/step - loss: 11.3897 - mse: 180.8412\n",
            "Epoch 61/100\n",
            "2/2 [==============================] - 0s 6ms/step - loss: 18.4119 - mse: 518.1261\n",
            "Epoch 62/100\n",
            "2/2 [==============================] - 0s 6ms/step - loss: 12.0104 - mse: 170.4768\n",
            "Epoch 63/100\n",
            "2/2 [==============================] - 0s 5ms/step - loss: 26.4215 - mse: 1071.0901\n",
            "Epoch 64/100\n",
            "2/2 [==============================] - 0s 6ms/step - loss: 10.0454 - mse: 118.1403\n",
            "Epoch 65/100\n",
            "2/2 [==============================] - 0s 5ms/step - loss: 20.5068 - mse: 632.9336\n",
            "Epoch 66/100\n",
            "2/2 [==============================] - 0s 7ms/step - loss: 15.8093 - mse: 364.2415\n",
            "Epoch 67/100\n",
            "2/2 [==============================] - 0s 5ms/step - loss: 8.2961 - mse: 108.1724\n",
            "Epoch 68/100\n",
            "2/2 [==============================] - 0s 5ms/step - loss: 14.0523 - mse: 275.1180\n",
            "Epoch 69/100\n",
            "2/2 [==============================] - 0s 5ms/step - loss: 13.7323 - mse: 274.3210\n",
            "Epoch 70/100\n",
            "2/2 [==============================] - 0s 6ms/step - loss: 14.8715 - mse: 329.7536\n",
            "Epoch 71/100\n",
            "2/2 [==============================] - 0s 6ms/step - loss: 13.9333 - mse: 262.4162\n",
            "Epoch 72/100\n",
            "2/2 [==============================] - 0s 5ms/step - loss: 24.8558 - mse: 936.2952\n",
            "Epoch 73/100\n",
            "2/2 [==============================] - 0s 5ms/step - loss: 9.2029 - mse: 94.6636\n",
            "Epoch 74/100\n",
            "2/2 [==============================] - 0s 11ms/step - loss: 9.9119 - mse: 111.4089\n",
            "Epoch 75/100\n",
            "2/2 [==============================] - 0s 5ms/step - loss: 23.8514 - mse: 805.4827\n",
            "Epoch 76/100\n",
            "2/2 [==============================] - 0s 5ms/step - loss: 11.8321 - mse: 209.8089\n",
            "Epoch 77/100\n",
            "2/2 [==============================] - 0s 5ms/step - loss: 11.4147 - mse: 167.6876\n",
            "Epoch 78/100\n",
            "2/2 [==============================] - 0s 6ms/step - loss: 11.2049 - mse: 173.1396\n",
            "Epoch 79/100\n",
            "2/2 [==============================] - 0s 5ms/step - loss: 30.7753 - mse: 1478.9076\n",
            "Epoch 80/100\n",
            "2/2 [==============================] - 0s 5ms/step - loss: 8.7999 - mse: 90.8382\n",
            "Epoch 81/100\n",
            "2/2 [==============================] - 0s 5ms/step - loss: 17.2712 - mse: 444.6360\n",
            "Epoch 82/100\n",
            "2/2 [==============================] - 0s 5ms/step - loss: 12.3090 - mse: 200.8367\n",
            "Epoch 83/100\n",
            "2/2 [==============================] - 0s 7ms/step - loss: 9.9444 - mse: 123.8542\n",
            "Epoch 84/100\n",
            "2/2 [==============================] - 0s 5ms/step - loss: 10.9284 - mse: 166.7828\n",
            "Epoch 85/100\n",
            "2/2 [==============================] - 0s 5ms/step - loss: 7.4440 - mse: 81.0658\n",
            "Epoch 86/100\n",
            "2/2 [==============================] - 0s 5ms/step - loss: 23.4207 - mse: 895.6105\n",
            "Epoch 87/100\n",
            "2/2 [==============================] - 0s 5ms/step - loss: 10.5527 - mse: 198.4501\n",
            "Epoch 88/100\n",
            "2/2 [==============================] - 0s 5ms/step - loss: 20.4912 - mse: 652.8891\n",
            "Epoch 89/100\n",
            "2/2 [==============================] - 0s 5ms/step - loss: 17.3798 - mse: 428.2559\n",
            "Epoch 90/100\n",
            "2/2 [==============================] - 0s 5ms/step - loss: 13.4560 - mse: 282.3590\n",
            "Epoch 91/100\n",
            "2/2 [==============================] - 0s 5ms/step - loss: 10.7521 - mse: 148.0621\n",
            "Epoch 92/100\n",
            "2/2 [==============================] - 0s 5ms/step - loss: 25.0755 - mse: 955.6112\n",
            "Epoch 93/100\n",
            "2/2 [==============================] - 0s 5ms/step - loss: 10.3919 - mse: 130.7531\n",
            "Epoch 94/100\n",
            "2/2 [==============================] - 0s 6ms/step - loss: 15.8256 - mse: 380.7896\n",
            "Epoch 95/100\n",
            "2/2 [==============================] - 0s 5ms/step - loss: 9.4422 - mse: 102.6507\n",
            "Epoch 96/100\n",
            "2/2 [==============================] - 0s 5ms/step - loss: 14.1445 - mse: 305.2796\n",
            "Epoch 97/100\n",
            "2/2 [==============================] - 0s 5ms/step - loss: 9.3311 - mse: 102.2759\n",
            "Epoch 98/100\n",
            "2/2 [==============================] - 0s 8ms/step - loss: 30.4053 - mse: 1379.7252\n",
            "Epoch 99/100\n",
            "2/2 [==============================] - 0s 5ms/step - loss: 8.3610 - mse: 107.1997\n",
            "Epoch 100/100\n",
            "2/2 [==============================] - 0s 4ms/step - loss: 11.0802 - mse: 213.6759\n"
          ]
        },
        {
          "output_type": "execute_result",
          "data": {
            "text/plain": [
              "<keras.callbacks.History at 0x7f96e663bfd0>"
            ]
          },
          "metadata": {},
          "execution_count": 24
        }
      ]
    },
    {
      "cell_type": "code",
      "source": [
        "y_pred2 = model.predict(X_test)\n",
        "y_pred2"
      ],
      "metadata": {
        "id": "FBlcl8KwcZkH",
        "outputId": "fcfcd29b-87ee-4f84-e04b-734d2e80c1ba",
        "colab": {
          "base_uri": "https://localhost:8080/"
        }
      },
      "execution_count": 25,
      "outputs": [
        {
          "output_type": "execute_result",
          "data": {
            "text/plain": [
              "array([[36.45333 ],\n",
              "       [38.78523 ],\n",
              "       [41.117126],\n",
              "       [43.449024],\n",
              "       [45.780922],\n",
              "       [48.11282 ],\n",
              "       [50.444725],\n",
              "       [52.77662 ],\n",
              "       [55.108517],\n",
              "       [57.440414]], dtype=float32)"
            ]
          },
          "metadata": {},
          "execution_count": 25
        }
      ]
    },
    {
      "cell_type": "code",
      "source": [
        "plot_predictions(predictions=y_pred2)"
      ],
      "metadata": {
        "id": "n8TShFh7cxxu",
        "outputId": "8432fb68-938b-4dd2-8fc1-fecd2a98e222",
        "colab": {
          "base_uri": "https://localhost:8080/",
          "height": 428
        }
      },
      "execution_count": 26,
      "outputs": [
        {
          "output_type": "display_data",
          "data": {
            "text/plain": [
              "<Figure size 720x504 with 1 Axes>"
            ],
            "image/png": "[encoded data removed]"
          },
          "metadata": {
            "needs_background": "light"
          }
        }
      ]
    },
    {
      "cell_type": "code",
      "source": [
        "mae2 = tf.metrics.mean_absolute_error(y_test, tf.squeeze(y_pred2))\n",
        "mse2 = tf.metrics.mean_squared_error(y_test, tf.squeeze(y_pred2))\n",
        "mae2, mse2"
      ],
      "metadata": {
        "id": "3aGSbWZoc8z-",
        "outputId": "a4ca59a2-3bed-48aa-eac8-69e20798a48b",
        "colab": {
          "base_uri": "https://localhost:8080/"
        }
      },
      "execution_count": 27,
      "outputs": [
        {
          "output_type": "execute_result",
          "data": {
            "text/plain": [
              "(<tf.Tensor: shape=(), dtype=float32, numpy=41.053123>,\n",
              " <tf.Tensor: shape=(), dtype=float32, numpy=1708.3154>)"
            ]
          },
          "metadata": {},
          "execution_count": 27
        }
      ]
    },
    {
      "cell_type": "code",
      "source": [
        "import pandas as pd\n",
        "\n",
        "model_results = [[\"model1\", mae1.numpy(), mse1.numpy()],\n",
        "                 ['model2', mae2.numpy(), mse2.numpy()]\n",
        "                 ]\n",
        "\n",
        "model_metrics = pd.DataFrame(model_results, columns=['model', 'mae', 'mse'])   \n",
        "model_metrics\n",
        "             "
      ],
      "metadata": {
        "id": "gekVVjRgdYcO",
        "outputId": "97186a09-e774-4276-8142-039e0c5a29ec",
        "colab": {
          "base_uri": "https://localhost:8080/",
          "height": 112
        }
      },
      "execution_count": 28,
      "outputs": [
        {
          "output_type": "execute_result",
          "data": {
            "text/plain": [
              "    model        mae          mse\n",
              "0  model1   2.637185     9.737869\n",
              "1  model2  41.053123  1708.315430"
            ],
            "text/html": [
              "\n",
              "  <div id=\"df-b6803089-abf1-4452-81d3-e50f1a997d4f\">\n",
              "    <div class=\"colab-df-container\">\n",
              "      <div>\n",
              "<style scoped>\n",
              "    .dataframe tbody tr th:only-of-type {\n",
              "        vertical-align: middle;\n",
              "    }\n",
              "\n",
              "    .dataframe tbody tr th {\n",
              "        vertical-align: top;\n",
              "    }\n",
              "\n",
              "    .dataframe thead th {\n",
              "        text-align: right;\n",
              "    }\n",
              "</style>\n",
              "<table border=\"1\" class=\"dataframe\">\n",
              "  <thead>\n",
              "    <tr style=\"text-align: right;\">\n",
              "      <th></th>\n",
              "      <th>model</th>\n",
              "      <th>mae</th>\n",
              "      <th>mse</th>\n",
              "    </tr>\n",
              "  </thead>\n",
              "  <tbody>\n",
              "    <tr>\n",
              "      <th>0</th>\n",
              "      <td>model1</td>\n",
              "      <td>2.637185</td>\n",
              "      <td>9.737869</td>\n",
              "    </tr>\n",
              "    <tr>\n",
              "      <th>1</th>\n",
              "      <td>model2</td>\n",
              "      <td>41.053123</td>\n",
              "      <td>1708.315430</td>\n",
              "    </tr>\n",
              "  </tbody>\n",
              "</table>\n",
              "</div>\n",
              "      <button class=\"colab-df-convert\" onclick=\"convertToInteractive('df-b6803089-abf1-4452-81d3-e50f1a997d4f')\"\n",
              "              title=\"Convert this dataframe to an interactive table.\"\n",
              "              style=\"display:none;\">\n",
              "        \n",
              "  <svg xmlns=\"http://www.w3.org/2000/svg\" height=\"24px\"viewBox=\"0 0 24 24\"\n",
              "       width=\"24px\">\n",
              "    <path d=\"M0 0h24v24H0V0z\" fill=\"none\"/>\n",
              "    <path d=\"M18.56 5.44l.94 2.06.94-2.06 2.06-.94-2.06-.94-.94-2.06-.94 2.06-2.06.94zm-11 1L8.5 8.5l.94-2.06 2.06-.94-2.06-.94L8.5 2.5l-.94 2.06-2.06.94zm10 10l.94 2.06.94-2.06 2.06-.94-2.06-.94-.94-2.06-.94 2.06-2.06.94z\"/><path d=\"M17.41 7.96l-1.37-1.37c-.4-.4-.92-.59-1.43-.59-.52 0-1.04.2-1.43.59L10.3 9.45l-7.72 7.72c-.78.78-.78 2.05 0 2.83L4 21.41c.39.39.9.59 1.41.59.51 0 1.02-.2 1.41-.59l7.78-7.78 2.81-2.81c.8-.78.8-2.07 0-2.86zM5.41 20L4 18.59l7.72-7.72 1.47 1.35L5.41 20z\"/>\n",
              "  </svg>\n",
              "      </button>\n",
              "      \n",
              "  <style>\n",
              "    .colab-df-container {\n",
              "      display:flex;\n",
              "      flex-wrap:wrap;\n",
              "      gap: 12px;\n",
              "    }\n",
              "\n",
              "    .colab-df-convert {\n",
              "      background-color: #E8F0FE;\n",
              "      border: none;\n",
              "      border-radius: 50%;\n",
              "      cursor: pointer;\n",
              "      display: none;\n",
              "      fill: #1967D2;\n",
              "      height: 32px;\n",
              "      padding: 0 0 0 0;\n",
              "      width: 32px;\n",
              "    }\n",
              "\n",
              "    .colab-df-convert:hover {\n",
              "      background-color: #E2EBFA;\n",
              "      box-shadow: 0px 1px 2px rgba(60, 64, 67, 0.3), 0px 1px 3px 1px rgba(60, 64, 67, 0.15);\n",
              "      fill: #174EA6;\n",
              "    }\n",
              "\n",
              "    [theme=dark] .colab-df-convert {\n",
              "      background-color: #3B4455;\n",
              "      fill: #D2E3FC;\n",
              "    }\n",
              "\n",
              "    [theme=dark] .colab-df-convert:hover {\n",
              "      background-color: #434B5C;\n",
              "      box-shadow: 0px 1px 3px 1px rgba(0, 0, 0, 0.15);\n",
              "      filter: drop-shadow(0px 1px 2px rgba(0, 0, 0, 0.3));\n",
              "      fill: #FFFFFF;\n",
              "    }\n",
              "  </style>\n",
              "\n",
              "      <script>\n",
              "        const buttonEl =\n",
              "          document.querySelector('#df-b6803089-abf1-4452-81d3-e50f1a997d4f button.colab-df-convert');\n",
              "        buttonEl.style.display =\n",
              "          google.colab.kernel.accessAllowed ? 'block' : 'none';\n",
              "\n",
              "        async function convertToInteractive(key) {\n",
              "          const element = document.querySelector('#df-b6803089-abf1-4452-81d3-e50f1a997d4f');\n",
              "          const dataTable =\n",
              "            await google.colab.kernel.invokeFunction('convertToInteractive',\n",
              "                                                     [key], {});\n",
              "          if (!dataTable) return;\n",
              "\n",
              "          const docLinkHtml = 'Like what you see? Visit the ' +\n",
              "            '<a target=\"_blank\" href=https://colab.research.google.com/notebooks/data_table.ipynb>data table notebook</a>'\n",
              "            + ' to learn more about interactive tables.';\n",
              "          element.innerHTML = '';\n",
              "          dataTable['output_type'] = 'display_data';\n",
              "          await google.colab.output.renderOutput(dataTable, element);\n",
              "          const docLink = document.createElement('div');\n",
              "          docLink.innerHTML = docLinkHtml;\n",
              "          element.appendChild(docLink);\n",
              "        }\n",
              "      </script>\n",
              "    </div>\n",
              "  </div>\n",
              "  "
            ]
          },
          "metadata": {},
          "execution_count": 28
        }
      ]
    },
    {
      "cell_type": "markdown",
      "source": [
        "**TensorBoard** - it is a tensorflow library to help track modeling experiments<br>\n",
        "**Weights & Biases** - it is a tool for tracking all kinds of machine learing experiments and it's not specific to library"
      ],
      "metadata": {
        "id": "lADWUGLuP3O9"
      }
    },
    {
      "cell_type": "markdown",
      "source": [
        "Model can save in below 2 formats\n",
        "1. SavedModel format\n",
        "2. HDF5 format <br>\n",
        "\n",
        "The save file includes <br>\n",
        "-> model architecture <br>\n",
        "-> model weights <br>\n",
        "-> state of optimizer, allowing to resume training exactly where you left off"
      ],
      "metadata": {
        "id": "OAvjKr9QPcc_"
      }
    },
    {
      "cell_type": "code",
      "source": [
        "model.save(\"best_model_savedmodel_format\")"
      ],
      "metadata": {
        "id": "jaLdXsGeQxNl",
        "outputId": "8cf5ccda-63f0-42ef-ab29-6281f78ca0de",
        "colab": {
          "base_uri": "https://localhost:8080/"
        }
      },
      "execution_count": 29,
      "outputs": [
        {
          "output_type": "stream",
          "name": "stdout",
          "text": [
            "INFO:tensorflow:Assets written to: best_model_savedmodel_format/assets\n"
          ]
        }
      ]
    },
    {
      "cell_type": "code",
      "source": [
        "model.save(\"best_model_HDF5_fromat.h5\")"
      ],
      "metadata": {
        "id": "oxhNs_k1Q3r_"
      },
      "execution_count": 30,
      "outputs": []
    },
    {
      "cell_type": "code",
      "source": [
        "load_savedmodle_foramt = tf.keras.models.load_model(\"best_model_savedmodel_format\")\n",
        "load_savedmodle_foramt.summary()"
      ],
      "metadata": {
        "id": "b0DUefumRviF",
        "outputId": "c79f1d6e-3381-40e6-cd02-a556fc3bee9a",
        "colab": {
          "base_uri": "https://localhost:8080/"
        }
      },
      "execution_count": 31,
      "outputs": [
        {
          "output_type": "stream",
          "name": "stdout",
          "text": [
            "Model: \"sequential_2\"\n",
            "_________________________________________________________________\n",
            " Layer (type)                Output Shape              Param #   \n",
            "=================================================================\n",
            " dense_1 (Dense)             (None, 10)                20        \n",
            "                                                                 \n",
            " dense_2 (Dense)             (None, 1)                 11        \n",
            "                                                                 \n",
            "=================================================================\n",
            "Total params: 31\n",
            "Trainable params: 31\n",
            "Non-trainable params: 0\n",
            "_________________________________________________________________\n"
          ]
        }
      ]
    },
    {
      "cell_type": "code",
      "source": [
        "import tensorflow as tf\n",
        "import pandas as pd\n",
        "import matplotlib.pyplot as plt\n",
        "\n",
        "insurance = pd.read_csv(\"https://raw.githubusercontent.com/stedy/Machine-Learning-with-R-datasets/master/insurance.csv\")\n",
        "insurance"
      ],
      "metadata": {
        "id": "DAMMEwcuVS06",
        "outputId": "7cb4f45c-2809-4bb5-ced5-82d09986e50e",
        "colab": {
          "base_uri": "https://localhost:8080/",
          "height": 423
        }
      },
      "execution_count": 34,
      "outputs": [
        {
          "output_type": "execute_result",
          "data": {
            "text/plain": [
              "      age     sex     bmi  children smoker     region      charges\n",
              "0      19  female  27.900         0    yes  southwest  16884.92400\n",
              "1      18    male  33.770         1     no  southeast   1725.55230\n",
              "2      28    male  33.000         3     no  southeast   4449.46200\n",
              "3      33    male  22.705         0     no  northwest  21984.47061\n",
              "4      32    male  28.880         0     no  northwest   3866.85520\n",
              "...   ...     ...     ...       ...    ...        ...          ...\n",
              "1333   50    male  30.970         3     no  northwest  10600.54830\n",
              "1334   18  female  31.920         0     no  northeast   2205.98080\n",
              "1335   18  female  36.850         0     no  southeast   1629.83350\n",
              "1336   21  female  25.800         0     no  southwest   2007.94500\n",
              "1337   61  female  29.070         0    yes  northwest  29141.36030\n",
              "\n",
              "[1338 rows x 7 columns]"
            ],
            "text/html": [
              "\n",
              "  <div id=\"df-975d9720-1d3a-4bd7-b9fe-6624fcc348fe\">\n",
              "    <div class=\"colab-df-container\">\n",
              "      <div>\n",
              "<style scoped>\n",
              "    .dataframe tbody tr th:only-of-type {\n",
              "        vertical-align: middle;\n",
              "    }\n",
              "\n",
              "    .dataframe tbody tr th {\n",
              "        vertical-align: top;\n",
              "    }\n",
              "\n",
              "    .dataframe thead th {\n",
              "        text-align: right;\n",
              "    }\n",
              "</style>\n",
              "<table border=\"1\" class=\"dataframe\">\n",
              "  <thead>\n",
              "    <tr style=\"text-align: right;\">\n",
              "      <th></th>\n",
              "      <th>age</th>\n",
              "      <th>sex</th>\n",
              "      <th>bmi</th>\n",
              "      <th>children</th>\n",
              "      <th>smoker</th>\n",
              "      <th>region</th>\n",
              "      <th>charges</th>\n",
              "    </tr>\n",
              "  </thead>\n",
              "  <tbody>\n",
              "    <tr>\n",
              "      <th>0</th>\n",
              "      <td>19</td>\n",
              "      <td>female</td>\n",
              "      <td>27.900</td>\n",
              "      <td>0</td>\n",
              "      <td>yes</td>\n",
              "      <td>southwest</td>\n",
              "      <td>16884.92400</td>\n",
              "    </tr>\n",
              "    <tr>\n",
              "      <th>1</th>\n",
              "      <td>18</td>\n",
              "      <td>male</td>\n",
              "      <td>33.770</td>\n",
              "      <td>1</td>\n",
              "      <td>no</td>\n",
              "      <td>southeast</td>\n",
              "      <td>1725.55230</td>\n",
              "    </tr>\n",
              "    <tr>\n",
              "      <th>2</th>\n",
              "      <td>28</td>\n",
              "      <td>male</td>\n",
              "      <td>33.000</td>\n",
              "      <td>3</td>\n",
              "      <td>no</td>\n",
              "      <td>southeast</td>\n",
              "      <td>4449.46200</td>\n",
              "    </tr>\n",
              "    <tr>\n",
              "      <th>3</th>\n",
              "      <td>33</td>\n",
              "      <td>male</td>\n",
              "      <td>22.705</td>\n",
              "      <td>0</td>\n",
              "      <td>no</td>\n",
              "      <td>northwest</td>\n",
              "      <td>21984.47061</td>\n",
              "    </tr>\n",
              "    <tr>\n",
              "      <th>4</th>\n",
              "      <td>32</td>\n",
              "      <td>male</td>\n",
              "      <td>28.880</td>\n",
              "      <td>0</td>\n",
              "      <td>no</td>\n",
              "      <td>northwest</td>\n",
              "      <td>3866.85520</td>\n",
              "    </tr>\n",
              "    <tr>\n",
              "      <th>...</th>\n",
              "      <td>...</td>\n",
              "      <td>...</td>\n",
              "      <td>...</td>\n",
              "      <td>...</td>\n",
              "      <td>...</td>\n",
              "      <td>...</td>\n",
              "      <td>...</td>\n",
              "    </tr>\n",
              "    <tr>\n",
              "      <th>1333</th>\n",
              "      <td>50</td>\n",
              "      <td>male</td>\n",
              "      <td>30.970</td>\n",
              "      <td>3</td>\n",
              "      <td>no</td>\n",
              "      <td>northwest</td>\n",
              "      <td>10600.54830</td>\n",
              "    </tr>\n",
              "    <tr>\n",
              "      <th>1334</th>\n",
              "      <td>18</td>\n",
              "      <td>female</td>\n",
              "      <td>31.920</td>\n",
              "      <td>0</td>\n",
              "      <td>no</td>\n",
              "      <td>northeast</td>\n",
              "      <td>2205.98080</td>\n",
              "    </tr>\n",
              "    <tr>\n",
              "      <th>1335</th>\n",
              "      <td>18</td>\n",
              "      <td>female</td>\n",
              "      <td>36.850</td>\n",
              "      <td>0</td>\n",
              "      <td>no</td>\n",
              "      <td>southeast</td>\n",
              "      <td>1629.83350</td>\n",
              "    </tr>\n",
              "    <tr>\n",
              "      <th>1336</th>\n",
              "      <td>21</td>\n",
              "      <td>female</td>\n",
              "      <td>25.800</td>\n",
              "      <td>0</td>\n",
              "      <td>no</td>\n",
              "      <td>southwest</td>\n",
              "      <td>2007.94500</td>\n",
              "    </tr>\n",
              "    <tr>\n",
              "      <th>1337</th>\n",
              "      <td>61</td>\n",
              "      <td>female</td>\n",
              "      <td>29.070</td>\n",
              "      <td>0</td>\n",
              "      <td>yes</td>\n",
              "      <td>northwest</td>\n",
              "      <td>29141.36030</td>\n",
              "    </tr>\n",
              "  </tbody>\n",
              "</table>\n",
              "<p>1338 rows × 7 columns</p>\n",
              "</div>\n",
              "      <button class=\"colab-df-convert\" onclick=\"convertToInteractive('df-975d9720-1d3a-4bd7-b9fe-6624fcc348fe')\"\n",
              "              title=\"Convert this dataframe to an interactive table.\"\n",
              "              style=\"display:none;\">\n",
              "        \n",
              "  <svg xmlns=\"http://www.w3.org/2000/svg\" height=\"24px\"viewBox=\"0 0 24 24\"\n",
              "       width=\"24px\">\n",
              "    <path d=\"M0 0h24v24H0V0z\" fill=\"none\"/>\n",
              "    <path d=\"M18.56 5.44l.94 2.06.94-2.06 2.06-.94-2.06-.94-.94-2.06-.94 2.06-2.06.94zm-11 1L8.5 8.5l.94-2.06 2.06-.94-2.06-.94L8.5 2.5l-.94 2.06-2.06.94zm10 10l.94 2.06.94-2.06 2.06-.94-2.06-.94-.94-2.06-.94 2.06-2.06.94z\"/><path d=\"M17.41 7.96l-1.37-1.37c-.4-.4-.92-.59-1.43-.59-.52 0-1.04.2-1.43.59L10.3 9.45l-7.72 7.72c-.78.78-.78 2.05 0 2.83L4 21.41c.39.39.9.59 1.41.59.51 0 1.02-.2 1.41-.59l7.78-7.78 2.81-2.81c.8-.78.8-2.07 0-2.86zM5.41 20L4 18.59l7.72-7.72 1.47 1.35L5.41 20z\"/>\n",
              "  </svg>\n",
              "      </button>\n",
              "      \n",
              "  <style>\n",
              "    .colab-df-container {\n",
              "      display:flex;\n",
              "      flex-wrap:wrap;\n",
              "      gap: 12px;\n",
              "    }\n",
              "\n",
              "    .colab-df-convert {\n",
              "      background-color: #E8F0FE;\n",
              "      border: none;\n",
              "      border-radius: 50%;\n",
              "      cursor: pointer;\n",
              "      display: none;\n",
              "      fill: #1967D2;\n",
              "      height: 32px;\n",
              "      padding: 0 0 0 0;\n",
              "      width: 32px;\n",
              "    }\n",
              "\n",
              "    .colab-df-convert:hover {\n",
              "      background-color: #E2EBFA;\n",
              "      box-shadow: 0px 1px 2px rgba(60, 64, 67, 0.3), 0px 1px 3px 1px rgba(60, 64, 67, 0.15);\n",
              "      fill: #174EA6;\n",
              "    }\n",
              "\n",
              "    [theme=dark] .colab-df-convert {\n",
              "      background-color: #3B4455;\n",
              "      fill: #D2E3FC;\n",
              "    }\n",
              "\n",
              "    [theme=dark] .colab-df-convert:hover {\n",
              "      background-color: #434B5C;\n",
              "      box-shadow: 0px 1px 3px 1px rgba(0, 0, 0, 0.15);\n",
              "      filter: drop-shadow(0px 1px 2px rgba(0, 0, 0, 0.3));\n",
              "      fill: #FFFFFF;\n",
              "    }\n",
              "  </style>\n",
              "\n",
              "      <script>\n",
              "        const buttonEl =\n",
              "          document.querySelector('#df-975d9720-1d3a-4bd7-b9fe-6624fcc348fe button.colab-df-convert');\n",
              "        buttonEl.style.display =\n",
              "          google.colab.kernel.accessAllowed ? 'block' : 'none';\n",
              "\n",
              "        async function convertToInteractive(key) {\n",
              "          const element = document.querySelector('#df-975d9720-1d3a-4bd7-b9fe-6624fcc348fe');\n",
              "          const dataTable =\n",
              "            await google.colab.kernel.invokeFunction('convertToInteractive',\n",
              "                                                     [key], {});\n",
              "          if (!dataTable) return;\n",
              "\n",
              "          const docLinkHtml = 'Like what you see? Visit the ' +\n",
              "            '<a target=\"_blank\" href=https://colab.research.google.com/notebooks/data_table.ipynb>data table notebook</a>'\n",
              "            + ' to learn more about interactive tables.';\n",
              "          element.innerHTML = '';\n",
              "          dataTable['output_type'] = 'display_data';\n",
              "          await google.colab.output.renderOutput(dataTable, element);\n",
              "          const docLink = document.createElement('div');\n",
              "          docLink.innerHTML = docLinkHtml;\n",
              "          element.appendChild(docLink);\n",
              "        }\n",
              "      </script>\n",
              "    </div>\n",
              "  </div>\n",
              "  "
            ]
          },
          "metadata": {},
          "execution_count": 34
        }
      ]
    },
    {
      "cell_type": "code",
      "source": [
        "insurance_onehot =  pd.get_dummies(insurance)\n",
        "insurance_onehot"
      ],
      "metadata": {
        "id": "klPIlYpnVmdR",
        "outputId": "5443f40d-3b31-41c4-b269-2c0829634587",
        "colab": {
          "base_uri": "https://localhost:8080/",
          "height": 423
        }
      },
      "execution_count": 35,
      "outputs": [
        {
          "output_type": "execute_result",
          "data": {
            "text/plain": [
              "      age     bmi  children      charges  sex_female  sex_male  smoker_no  \\\n",
              "0      19  27.900         0  16884.92400           1         0          0   \n",
              "1      18  33.770         1   1725.55230           0         1          1   \n",
              "2      28  33.000         3   4449.46200           0         1          1   \n",
              "3      33  22.705         0  21984.47061           0         1          1   \n",
              "4      32  28.880         0   3866.85520           0         1          1   \n",
              "...   ...     ...       ...          ...         ...       ...        ...   \n",
              "1333   50  30.970         3  10600.54830           0         1          1   \n",
              "1334   18  31.920         0   2205.98080           1         0          1   \n",
              "1335   18  36.850         0   1629.83350           1         0          1   \n",
              "1336   21  25.800         0   2007.94500           1         0          1   \n",
              "1337   61  29.070         0  29141.36030           1         0          0   \n",
              "\n",
              "      smoker_yes  region_northeast  region_northwest  region_southeast  \\\n",
              "0              1                 0                 0                 0   \n",
              "1              0                 0                 0                 1   \n",
              "2              0                 0                 0                 1   \n",
              "3              0                 0                 1                 0   \n",
              "4              0                 0                 1                 0   \n",
              "...          ...               ...               ...               ...   \n",
              "1333           0                 0                 1                 0   \n",
              "1334           0                 1                 0                 0   \n",
              "1335           0                 0                 0                 1   \n",
              "1336           0                 0                 0                 0   \n",
              "1337           1                 0                 1                 0   \n",
              "\n",
              "      region_southwest  \n",
              "0                    1  \n",
              "1                    0  \n",
              "2                    0  \n",
              "3                    0  \n",
              "4                    0  \n",
              "...                ...  \n",
              "1333                 0  \n",
              "1334                 0  \n",
              "1335                 0  \n",
              "1336                 1  \n",
              "1337                 0  \n",
              "\n",
              "[1338 rows x 12 columns]"
            ],
            "text/html": [
              "\n",
              "  <div id=\"df-57f69ff3-7a5a-4c76-929f-556056fefa12\">\n",
              "    <div class=\"colab-df-container\">\n",
              "      <div>\n",
              "<style scoped>\n",
              "    .dataframe tbody tr th:only-of-type {\n",
              "        vertical-align: middle;\n",
              "    }\n",
              "\n",
              "    .dataframe tbody tr th {\n",
              "        vertical-align: top;\n",
              "    }\n",
              "\n",
              "    .dataframe thead th {\n",
              "        text-align: right;\n",
              "    }\n",
              "</style>\n",
              "<table border=\"1\" class=\"dataframe\">\n",
              "  <thead>\n",
              "    <tr style=\"text-align: right;\">\n",
              "      <th></th>\n",
              "      <th>age</th>\n",
              "      <th>bmi</th>\n",
              "      <th>children</th>\n",
              "      <th>charges</th>\n",
              "      <th>sex_female</th>\n",
              "      <th>sex_male</th>\n",
              "      <th>smoker_no</th>\n",
              "      <th>smoker_yes</th>\n",
              "      <th>region_northeast</th>\n",
              "      <th>region_northwest</th>\n",
              "      <th>region_southeast</th>\n",
              "      <th>region_southwest</th>\n",
              "    </tr>\n",
              "  </thead>\n",
              "  <tbody>\n",
              "    <tr>\n",
              "      <th>0</th>\n",
              "      <td>19</td>\n",
              "      <td>27.900</td>\n",
              "      <td>0</td>\n",
              "      <td>16884.92400</td>\n",
              "      <td>1</td>\n",
              "      <td>0</td>\n",
              "      <td>0</td>\n",
              "      <td>1</td>\n",
              "      <td>0</td>\n",
              "      <td>0</td>\n",
              "      <td>0</td>\n",
              "      <td>1</td>\n",
              "    </tr>\n",
              "    <tr>\n",
              "      <th>1</th>\n",
              "      <td>18</td>\n",
              "      <td>33.770</td>\n",
              "      <td>1</td>\n",
              "      <td>1725.55230</td>\n",
              "      <td>0</td>\n",
              "      <td>1</td>\n",
              "      <td>1</td>\n",
              "      <td>0</td>\n",
              "      <td>0</td>\n",
              "      <td>0</td>\n",
              "      <td>1</td>\n",
              "      <td>0</td>\n",
              "    </tr>\n",
              "    <tr>\n",
              "      <th>2</th>\n",
              "      <td>28</td>\n",
              "      <td>33.000</td>\n",
              "      <td>3</td>\n",
              "      <td>4449.46200</td>\n",
              "      <td>0</td>\n",
              "      <td>1</td>\n",
              "      <td>1</td>\n",
              "      <td>0</td>\n",
              "      <td>0</td>\n",
              "      <td>0</td>\n",
              "      <td>1</td>\n",
              "      <td>0</td>\n",
              "    </tr>\n",
              "    <tr>\n",
              "      <th>3</th>\n",
              "      <td>33</td>\n",
              "      <td>22.705</td>\n",
              "      <td>0</td>\n",
              "      <td>21984.47061</td>\n",
              "      <td>0</td>\n",
              "      <td>1</td>\n",
              "      <td>1</td>\n",
              "      <td>0</td>\n",
              "      <td>0</td>\n",
              "      <td>1</td>\n",
              "      <td>0</td>\n",
              "      <td>0</td>\n",
              "    </tr>\n",
              "    <tr>\n",
              "      <th>4</th>\n",
              "      <td>32</td>\n",
              "      <td>28.880</td>\n",
              "      <td>0</td>\n",
              "      <td>3866.85520</td>\n",
              "      <td>0</td>\n",
              "      <td>1</td>\n",
              "      <td>1</td>\n",
              "      <td>0</td>\n",
              "      <td>0</td>\n",
              "      <td>1</td>\n",
              "      <td>0</td>\n",
              "      <td>0</td>\n",
              "    </tr>\n",
              "    <tr>\n",
              "      <th>...</th>\n",
              "      <td>...</td>\n",
              "      <td>...</td>\n",
              "      <td>...</td>\n",
              "      <td>...</td>\n",
              "      <td>...</td>\n",
              "      <td>...</td>\n",
              "      <td>...</td>\n",
              "      <td>...</td>\n",
              "      <td>...</td>\n",
              "      <td>...</td>\n",
              "      <td>...</td>\n",
              "      <td>...</td>\n",
              "    </tr>\n",
              "    <tr>\n",
              "      <th>1333</th>\n",
              "      <td>50</td>\n",
              "      <td>30.970</td>\n",
              "      <td>3</td>\n",
              "      <td>10600.54830</td>\n",
              "      <td>0</td>\n",
              "      <td>1</td>\n",
              "      <td>1</td>\n",
              "      <td>0</td>\n",
              "      <td>0</td>\n",
              "      <td>1</td>\n",
              "      <td>0</td>\n",
              "      <td>0</td>\n",
              "    </tr>\n",
              "    <tr>\n",
              "      <th>1334</th>\n",
              "      <td>18</td>\n",
              "      <td>31.920</td>\n",
              "      <td>0</td>\n",
              "      <td>2205.98080</td>\n",
              "      <td>1</td>\n",
              "      <td>0</td>\n",
              "      <td>1</td>\n",
              "      <td>0</td>\n",
              "      <td>1</td>\n",
              "      <td>0</td>\n",
              "      <td>0</td>\n",
              "      <td>0</td>\n",
              "    </tr>\n",
              "    <tr>\n",
              "      <th>1335</th>\n",
              "      <td>18</td>\n",
              "      <td>36.850</td>\n",
              "      <td>0</td>\n",
              "      <td>1629.83350</td>\n",
              "      <td>1</td>\n",
              "      <td>0</td>\n",
              "      <td>1</td>\n",
              "      <td>0</td>\n",
              "      <td>0</td>\n",
              "      <td>0</td>\n",
              "      <td>1</td>\n",
              "      <td>0</td>\n",
              "    </tr>\n",
              "    <tr>\n",
              "      <th>1336</th>\n",
              "      <td>21</td>\n",
              "      <td>25.800</td>\n",
              "      <td>0</td>\n",
              "      <td>2007.94500</td>\n",
              "      <td>1</td>\n",
              "      <td>0</td>\n",
              "      <td>1</td>\n",
              "      <td>0</td>\n",
              "      <td>0</td>\n",
              "      <td>0</td>\n",
              "      <td>0</td>\n",
              "      <td>1</td>\n",
              "    </tr>\n",
              "    <tr>\n",
              "      <th>1337</th>\n",
              "      <td>61</td>\n",
              "      <td>29.070</td>\n",
              "      <td>0</td>\n",
              "      <td>29141.36030</td>\n",
              "      <td>1</td>\n",
              "      <td>0</td>\n",
              "      <td>0</td>\n",
              "      <td>1</td>\n",
              "      <td>0</td>\n",
              "      <td>1</td>\n",
              "      <td>0</td>\n",
              "      <td>0</td>\n",
              "    </tr>\n",
              "  </tbody>\n",
              "</table>\n",
              "<p>1338 rows × 12 columns</p>\n",
              "</div>\n",
              "      <button class=\"colab-df-convert\" onclick=\"convertToInteractive('df-57f69ff3-7a5a-4c76-929f-556056fefa12')\"\n",
              "              title=\"Convert this dataframe to an interactive table.\"\n",
              "              style=\"display:none;\">\n",
              "        \n",
              "  <svg xmlns=\"http://www.w3.org/2000/svg\" height=\"24px\"viewBox=\"0 0 24 24\"\n",
              "       width=\"24px\">\n",
              "    <path d=\"M0 0h24v24H0V0z\" fill=\"none\"/>\n",
              "    <path d=\"M18.56 5.44l.94 2.06.94-2.06 2.06-.94-2.06-.94-.94-2.06-.94 2.06-2.06.94zm-11 1L8.5 8.5l.94-2.06 2.06-.94-2.06-.94L8.5 2.5l-.94 2.06-2.06.94zm10 10l.94 2.06.94-2.06 2.06-.94-2.06-.94-.94-2.06-.94 2.06-2.06.94z\"/><path d=\"M17.41 7.96l-1.37-1.37c-.4-.4-.92-.59-1.43-.59-.52 0-1.04.2-1.43.59L10.3 9.45l-7.72 7.72c-.78.78-.78 2.05 0 2.83L4 21.41c.39.39.9.59 1.41.59.51 0 1.02-.2 1.41-.59l7.78-7.78 2.81-2.81c.8-.78.8-2.07 0-2.86zM5.41 20L4 18.59l7.72-7.72 1.47 1.35L5.41 20z\"/>\n",
              "  </svg>\n",
              "      </button>\n",
              "      \n",
              "  <style>\n",
              "    .colab-df-container {\n",
              "      display:flex;\n",
              "      flex-wrap:wrap;\n",
              "      gap: 12px;\n",
              "    }\n",
              "\n",
              "    .colab-df-convert {\n",
              "      background-color: #E8F0FE;\n",
              "      border: none;\n",
              "      border-radius: 50%;\n",
              "      cursor: pointer;\n",
              "      display: none;\n",
              "      fill: #1967D2;\n",
              "      height: 32px;\n",
              "      padding: 0 0 0 0;\n",
              "      width: 32px;\n",
              "    }\n",
              "\n",
              "    .colab-df-convert:hover {\n",
              "      background-color: #E2EBFA;\n",
              "      box-shadow: 0px 1px 2px rgba(60, 64, 67, 0.3), 0px 1px 3px 1px rgba(60, 64, 67, 0.15);\n",
              "      fill: #174EA6;\n",
              "    }\n",
              "\n",
              "    [theme=dark] .colab-df-convert {\n",
              "      background-color: #3B4455;\n",
              "      fill: #D2E3FC;\n",
              "    }\n",
              "\n",
              "    [theme=dark] .colab-df-convert:hover {\n",
              "      background-color: #434B5C;\n",
              "      box-shadow: 0px 1px 3px 1px rgba(0, 0, 0, 0.15);\n",
              "      filter: drop-shadow(0px 1px 2px rgba(0, 0, 0, 0.3));\n",
              "      fill: #FFFFFF;\n",
              "    }\n",
              "  </style>\n",
              "\n",
              "      <script>\n",
              "        const buttonEl =\n",
              "          document.querySelector('#df-57f69ff3-7a5a-4c76-929f-556056fefa12 button.colab-df-convert');\n",
              "        buttonEl.style.display =\n",
              "          google.colab.kernel.accessAllowed ? 'block' : 'none';\n",
              "\n",
              "        async function convertToInteractive(key) {\n",
              "          const element = document.querySelector('#df-57f69ff3-7a5a-4c76-929f-556056fefa12');\n",
              "          const dataTable =\n",
              "            await google.colab.kernel.invokeFunction('convertToInteractive',\n",
              "                                                     [key], {});\n",
              "          if (!dataTable) return;\n",
              "\n",
              "          const docLinkHtml = 'Like what you see? Visit the ' +\n",
              "            '<a target=\"_blank\" href=https://colab.research.google.com/notebooks/data_table.ipynb>data table notebook</a>'\n",
              "            + ' to learn more about interactive tables.';\n",
              "          element.innerHTML = '';\n",
              "          dataTable['output_type'] = 'display_data';\n",
              "          await google.colab.output.renderOutput(dataTable, element);\n",
              "          const docLink = document.createElement('div');\n",
              "          docLink.innerHTML = docLinkHtml;\n",
              "          element.appendChild(docLink);\n",
              "        }\n",
              "      </script>\n",
              "    </div>\n",
              "  </div>\n",
              "  "
            ]
          },
          "metadata": {},
          "execution_count": 35
        }
      ]
    },
    {
      "cell_type": "code",
      "source": [
        "insurance_onehot.head()"
      ],
      "metadata": {
        "id": "As192nhxWRYA",
        "outputId": "3ffe35c6-83d3-4d75-c6fb-94acac155312",
        "colab": {
          "base_uri": "https://localhost:8080/",
          "height": 206
        }
      },
      "execution_count": 36,
      "outputs": [
        {
          "output_type": "execute_result",
          "data": {
            "text/plain": [
              "   age     bmi  children      charges  sex_female  sex_male  smoker_no  \\\n",
              "0   19  27.900         0  16884.92400           1         0          0   \n",
              "1   18  33.770         1   1725.55230           0         1          1   \n",
              "2   28  33.000         3   4449.46200           0         1          1   \n",
              "3   33  22.705         0  21984.47061           0         1          1   \n",
              "4   32  28.880         0   3866.85520           0         1          1   \n",
              "\n",
              "   smoker_yes  region_northeast  region_northwest  region_southeast  \\\n",
              "0           1                 0                 0                 0   \n",
              "1           0                 0                 0                 1   \n",
              "2           0                 0                 0                 1   \n",
              "3           0                 0                 1                 0   \n",
              "4           0                 0                 1                 0   \n",
              "\n",
              "   region_southwest  \n",
              "0                 1  \n",
              "1                 0  \n",
              "2                 0  \n",
              "3                 0  \n",
              "4                 0  "
            ],
            "text/html": [
              "\n",
              "  <div id=\"df-f1b6a106-a767-4b15-94d8-725c203cf388\">\n",
              "    <div class=\"colab-df-container\">\n",
              "      <div>\n",
              "<style scoped>\n",
              "    .dataframe tbody tr th:only-of-type {\n",
              "        vertical-align: middle;\n",
              "    }\n",
              "\n",
              "    .dataframe tbody tr th {\n",
              "        vertical-align: top;\n",
              "    }\n",
              "\n",
              "    .dataframe thead th {\n",
              "        text-align: right;\n",
              "    }\n",
              "</style>\n",
              "<table border=\"1\" class=\"dataframe\">\n",
              "  <thead>\n",
              "    <tr style=\"text-align: right;\">\n",
              "      <th></th>\n",
              "      <th>age</th>\n",
              "      <th>bmi</th>\n",
              "      <th>children</th>\n",
              "      <th>charges</th>\n",
              "      <th>sex_female</th>\n",
              "      <th>sex_male</th>\n",
              "      <th>smoker_no</th>\n",
              "      <th>smoker_yes</th>\n",
              "      <th>region_northeast</th>\n",
              "      <th>region_northwest</th>\n",
              "      <th>region_southeast</th>\n",
              "      <th>region_southwest</th>\n",
              "    </tr>\n",
              "  </thead>\n",
              "  <tbody>\n",
              "    <tr>\n",
              "      <th>0</th>\n",
              "      <td>19</td>\n",
              "      <td>27.900</td>\n",
              "      <td>0</td>\n",
              "      <td>16884.92400</td>\n",
              "      <td>1</td>\n",
              "      <td>0</td>\n",
              "      <td>0</td>\n",
              "      <td>1</td>\n",
              "      <td>0</td>\n",
              "      <td>0</td>\n",
              "      <td>0</td>\n",
              "      <td>1</td>\n",
              "    </tr>\n",
              "    <tr>\n",
              "      <th>1</th>\n",
              "      <td>18</td>\n",
              "      <td>33.770</td>\n",
              "      <td>1</td>\n",
              "      <td>1725.55230</td>\n",
              "      <td>0</td>\n",
              "      <td>1</td>\n",
              "      <td>1</td>\n",
              "      <td>0</td>\n",
              "      <td>0</td>\n",
              "      <td>0</td>\n",
              "      <td>1</td>\n",
              "      <td>0</td>\n",
              "    </tr>\n",
              "    <tr>\n",
              "      <th>2</th>\n",
              "      <td>28</td>\n",
              "      <td>33.000</td>\n",
              "      <td>3</td>\n",
              "      <td>4449.46200</td>\n",
              "      <td>0</td>\n",
              "      <td>1</td>\n",
              "      <td>1</td>\n",
              "      <td>0</td>\n",
              "      <td>0</td>\n",
              "      <td>0</td>\n",
              "      <td>1</td>\n",
              "      <td>0</td>\n",
              "    </tr>\n",
              "    <tr>\n",
              "      <th>3</th>\n",
              "      <td>33</td>\n",
              "      <td>22.705</td>\n",
              "      <td>0</td>\n",
              "      <td>21984.47061</td>\n",
              "      <td>0</td>\n",
              "      <td>1</td>\n",
              "      <td>1</td>\n",
              "      <td>0</td>\n",
              "      <td>0</td>\n",
              "      <td>1</td>\n",
              "      <td>0</td>\n",
              "      <td>0</td>\n",
              "    </tr>\n",
              "    <tr>\n",
              "      <th>4</th>\n",
              "      <td>32</td>\n",
              "      <td>28.880</td>\n",
              "      <td>0</td>\n",
              "      <td>3866.85520</td>\n",
              "      <td>0</td>\n",
              "      <td>1</td>\n",
              "      <td>1</td>\n",
              "      <td>0</td>\n",
              "      <td>0</td>\n",
              "      <td>1</td>\n",
              "      <td>0</td>\n",
              "      <td>0</td>\n",
              "    </tr>\n",
              "  </tbody>\n",
              "</table>\n",
              "</div>\n",
              "      <button class=\"colab-df-convert\" onclick=\"convertToInteractive('df-f1b6a106-a767-4b15-94d8-725c203cf388')\"\n",
              "              title=\"Convert this dataframe to an interactive table.\"\n",
              "              style=\"display:none;\">\n",
              "        \n",
              "  <svg xmlns=\"http://www.w3.org/2000/svg\" height=\"24px\"viewBox=\"0 0 24 24\"\n",
              "       width=\"24px\">\n",
              "    <path d=\"M0 0h24v24H0V0z\" fill=\"none\"/>\n",
              "    <path d=\"M18.56 5.44l.94 2.06.94-2.06 2.06-.94-2.06-.94-.94-2.06-.94 2.06-2.06.94zm-11 1L8.5 8.5l.94-2.06 2.06-.94-2.06-.94L8.5 2.5l-.94 2.06-2.06.94zm10 10l.94 2.06.94-2.06 2.06-.94-2.06-.94-.94-2.06-.94 2.06-2.06.94z\"/><path d=\"M17.41 7.96l-1.37-1.37c-.4-.4-.92-.59-1.43-.59-.52 0-1.04.2-1.43.59L10.3 9.45l-7.72 7.72c-.78.78-.78 2.05 0 2.83L4 21.41c.39.39.9.59 1.41.59.51 0 1.02-.2 1.41-.59l7.78-7.78 2.81-2.81c.8-.78.8-2.07 0-2.86zM5.41 20L4 18.59l7.72-7.72 1.47 1.35L5.41 20z\"/>\n",
              "  </svg>\n",
              "      </button>\n",
              "      \n",
              "  <style>\n",
              "    .colab-df-container {\n",
              "      display:flex;\n",
              "      flex-wrap:wrap;\n",
              "      gap: 12px;\n",
              "    }\n",
              "\n",
              "    .colab-df-convert {\n",
              "      background-color: #E8F0FE;\n",
              "      border: none;\n",
              "      border-radius: 50%;\n",
              "      cursor: pointer;\n",
              "      display: none;\n",
              "      fill: #1967D2;\n",
              "      height: 32px;\n",
              "      padding: 0 0 0 0;\n",
              "      width: 32px;\n",
              "    }\n",
              "\n",
              "    .colab-df-convert:hover {\n",
              "      background-color: #E2EBFA;\n",
              "      box-shadow: 0px 1px 2px rgba(60, 64, 67, 0.3), 0px 1px 3px 1px rgba(60, 64, 67, 0.15);\n",
              "      fill: #174EA6;\n",
              "    }\n",
              "\n",
              "    [theme=dark] .colab-df-convert {\n",
              "      background-color: #3B4455;\n",
              "      fill: #D2E3FC;\n",
              "    }\n",
              "\n",
              "    [theme=dark] .colab-df-convert:hover {\n",
              "      background-color: #434B5C;\n",
              "      box-shadow: 0px 1px 3px 1px rgba(0, 0, 0, 0.15);\n",
              "      filter: drop-shadow(0px 1px 2px rgba(0, 0, 0, 0.3));\n",
              "      fill: #FFFFFF;\n",
              "    }\n",
              "  </style>\n",
              "\n",
              "      <script>\n",
              "        const buttonEl =\n",
              "          document.querySelector('#df-f1b6a106-a767-4b15-94d8-725c203cf388 button.colab-df-convert');\n",
              "        buttonEl.style.display =\n",
              "          google.colab.kernel.accessAllowed ? 'block' : 'none';\n",
              "\n",
              "        async function convertToInteractive(key) {\n",
              "          const element = document.querySelector('#df-f1b6a106-a767-4b15-94d8-725c203cf388');\n",
              "          const dataTable =\n",
              "            await google.colab.kernel.invokeFunction('convertToInteractive',\n",
              "                                                     [key], {});\n",
              "          if (!dataTable) return;\n",
              "\n",
              "          const docLinkHtml = 'Like what you see? Visit the ' +\n",
              "            '<a target=\"_blank\" href=https://colab.research.google.com/notebooks/data_table.ipynb>data table notebook</a>'\n",
              "            + ' to learn more about interactive tables.';\n",
              "          element.innerHTML = '';\n",
              "          dataTable['output_type'] = 'display_data';\n",
              "          await google.colab.output.renderOutput(dataTable, element);\n",
              "          const docLink = document.createElement('div');\n",
              "          docLink.innerHTML = docLinkHtml;\n",
              "          element.appendChild(docLink);\n",
              "        }\n",
              "      </script>\n",
              "    </div>\n",
              "  </div>\n",
              "  "
            ]
          },
          "metadata": {},
          "execution_count": 36
        }
      ]
    },
    {
      "cell_type": "code",
      "source": [
        "X = insurance_onehot.drop(\"charges\", axis=1)\n",
        "y = insurance_onehot[\"charges\"]"
      ],
      "metadata": {
        "id": "x5dpxUtGWjmZ"
      },
      "execution_count": 37,
      "outputs": []
    },
    {
      "cell_type": "code",
      "source": [
        "X.head()"
      ],
      "metadata": {
        "id": "TwSeIx6Va97W",
        "outputId": "325f4b4b-eeed-42c5-8278-93807f27cded",
        "colab": {
          "base_uri": "https://localhost:8080/",
          "height": 206
        }
      },
      "execution_count": 38,
      "outputs": [
        {
          "output_type": "execute_result",
          "data": {
            "text/plain": [
              "   age     bmi  children  sex_female  sex_male  smoker_no  smoker_yes  \\\n",
              "0   19  27.900         0           1         0          0           1   \n",
              "1   18  33.770         1           0         1          1           0   \n",
              "2   28  33.000         3           0         1          1           0   \n",
              "3   33  22.705         0           0         1          1           0   \n",
              "4   32  28.880         0           0         1          1           0   \n",
              "\n",
              "   region_northeast  region_northwest  region_southeast  region_southwest  \n",
              "0                 0                 0                 0                 1  \n",
              "1                 0                 0                 1                 0  \n",
              "2                 0                 0                 1                 0  \n",
              "3                 0                 1                 0                 0  \n",
              "4                 0                 1                 0                 0  "
            ],
            "text/html": [
              "\n",
              "  <div id=\"df-f759b50a-a418-43e3-89df-1daf07dd0ae0\">\n",
              "    <div class=\"colab-df-container\">\n",
              "      <div>\n",
              "<style scoped>\n",
              "    .dataframe tbody tr th:only-of-type {\n",
              "        vertical-align: middle;\n",
              "    }\n",
              "\n",
              "    .dataframe tbody tr th {\n",
              "        vertical-align: top;\n",
              "    }\n",
              "\n",
              "    .dataframe thead th {\n",
              "        text-align: right;\n",
              "    }\n",
              "</style>\n",
              "<table border=\"1\" class=\"dataframe\">\n",
              "  <thead>\n",
              "    <tr style=\"text-align: right;\">\n",
              "      <th></th>\n",
              "      <th>age</th>\n",
              "      <th>bmi</th>\n",
              "      <th>children</th>\n",
              "      <th>sex_female</th>\n",
              "      <th>sex_male</th>\n",
              "      <th>smoker_no</th>\n",
              "      <th>smoker_yes</th>\n",
              "      <th>region_northeast</th>\n",
              "      <th>region_northwest</th>\n",
              "      <th>region_southeast</th>\n",
              "      <th>region_southwest</th>\n",
              "    </tr>\n",
              "  </thead>\n",
              "  <tbody>\n",
              "    <tr>\n",
              "      <th>0</th>\n",
              "      <td>19</td>\n",
              "      <td>27.900</td>\n",
              "      <td>0</td>\n",
              "      <td>1</td>\n",
              "      <td>0</td>\n",
              "      <td>0</td>\n",
              "      <td>1</td>\n",
              "      <td>0</td>\n",
              "      <td>0</td>\n",
              "      <td>0</td>\n",
              "      <td>1</td>\n",
              "    </tr>\n",
              "    <tr>\n",
              "      <th>1</th>\n",
              "      <td>18</td>\n",
              "      <td>33.770</td>\n",
              "      <td>1</td>\n",
              "      <td>0</td>\n",
              "      <td>1</td>\n",
              "      <td>1</td>\n",
              "      <td>0</td>\n",
              "      <td>0</td>\n",
              "      <td>0</td>\n",
              "      <td>1</td>\n",
              "      <td>0</td>\n",
              "    </tr>\n",
              "    <tr>\n",
              "      <th>2</th>\n",
              "      <td>28</td>\n",
              "      <td>33.000</td>\n",
              "      <td>3</td>\n",
              "      <td>0</td>\n",
              "      <td>1</td>\n",
              "      <td>1</td>\n",
              "      <td>0</td>\n",
              "      <td>0</td>\n",
              "      <td>0</td>\n",
              "      <td>1</td>\n",
              "      <td>0</td>\n",
              "    </tr>\n",
              "    <tr>\n",
              "      <th>3</th>\n",
              "      <td>33</td>\n",
              "      <td>22.705</td>\n",
              "      <td>0</td>\n",
              "      <td>0</td>\n",
              "      <td>1</td>\n",
              "      <td>1</td>\n",
              "      <td>0</td>\n",
              "      <td>0</td>\n",
              "      <td>1</td>\n",
              "      <td>0</td>\n",
              "      <td>0</td>\n",
              "    </tr>\n",
              "    <tr>\n",
              "      <th>4</th>\n",
              "      <td>32</td>\n",
              "      <td>28.880</td>\n",
              "      <td>0</td>\n",
              "      <td>0</td>\n",
              "      <td>1</td>\n",
              "      <td>1</td>\n",
              "      <td>0</td>\n",
              "      <td>0</td>\n",
              "      <td>1</td>\n",
              "      <td>0</td>\n",
              "      <td>0</td>\n",
              "    </tr>\n",
              "  </tbody>\n",
              "</table>\n",
              "</div>\n",
              "      <button class=\"colab-df-convert\" onclick=\"convertToInteractive('df-f759b50a-a418-43e3-89df-1daf07dd0ae0')\"\n",
              "              title=\"Convert this dataframe to an interactive table.\"\n",
              "              style=\"display:none;\">\n",
              "        \n",
              "  <svg xmlns=\"http://www.w3.org/2000/svg\" height=\"24px\"viewBox=\"0 0 24 24\"\n",
              "       width=\"24px\">\n",
              "    <path d=\"M0 0h24v24H0V0z\" fill=\"none\"/>\n",
              "    <path d=\"M18.56 5.44l.94 2.06.94-2.06 2.06-.94-2.06-.94-.94-2.06-.94 2.06-2.06.94zm-11 1L8.5 8.5l.94-2.06 2.06-.94-2.06-.94L8.5 2.5l-.94 2.06-2.06.94zm10 10l.94 2.06.94-2.06 2.06-.94-2.06-.94-.94-2.06-.94 2.06-2.06.94z\"/><path d=\"M17.41 7.96l-1.37-1.37c-.4-.4-.92-.59-1.43-.59-.52 0-1.04.2-1.43.59L10.3 9.45l-7.72 7.72c-.78.78-.78 2.05 0 2.83L4 21.41c.39.39.9.59 1.41.59.51 0 1.02-.2 1.41-.59l7.78-7.78 2.81-2.81c.8-.78.8-2.07 0-2.86zM5.41 20L4 18.59l7.72-7.72 1.47 1.35L5.41 20z\"/>\n",
              "  </svg>\n",
              "      </button>\n",
              "      \n",
              "  <style>\n",
              "    .colab-df-container {\n",
              "      display:flex;\n",
              "      flex-wrap:wrap;\n",
              "      gap: 12px;\n",
              "    }\n",
              "\n",
              "    .colab-df-convert {\n",
              "      background-color: #E8F0FE;\n",
              "      border: none;\n",
              "      border-radius: 50%;\n",
              "      cursor: pointer;\n",
              "      display: none;\n",
              "      fill: #1967D2;\n",
              "      height: 32px;\n",
              "      padding: 0 0 0 0;\n",
              "      width: 32px;\n",
              "    }\n",
              "\n",
              "    .colab-df-convert:hover {\n",
              "      background-color: #E2EBFA;\n",
              "      box-shadow: 0px 1px 2px rgba(60, 64, 67, 0.3), 0px 1px 3px 1px rgba(60, 64, 67, 0.15);\n",
              "      fill: #174EA6;\n",
              "    }\n",
              "\n",
              "    [theme=dark] .colab-df-convert {\n",
              "      background-color: #3B4455;\n",
              "      fill: #D2E3FC;\n",
              "    }\n",
              "\n",
              "    [theme=dark] .colab-df-convert:hover {\n",
              "      background-color: #434B5C;\n",
              "      box-shadow: 0px 1px 3px 1px rgba(0, 0, 0, 0.15);\n",
              "      filter: drop-shadow(0px 1px 2px rgba(0, 0, 0, 0.3));\n",
              "      fill: #FFFFFF;\n",
              "    }\n",
              "  </style>\n",
              "\n",
              "      <script>\n",
              "        const buttonEl =\n",
              "          document.querySelector('#df-f759b50a-a418-43e3-89df-1daf07dd0ae0 button.colab-df-convert');\n",
              "        buttonEl.style.display =\n",
              "          google.colab.kernel.accessAllowed ? 'block' : 'none';\n",
              "\n",
              "        async function convertToInteractive(key) {\n",
              "          const element = document.querySelector('#df-f759b50a-a418-43e3-89df-1daf07dd0ae0');\n",
              "          const dataTable =\n",
              "            await google.colab.kernel.invokeFunction('convertToInteractive',\n",
              "                                                     [key], {});\n",
              "          if (!dataTable) return;\n",
              "\n",
              "          const docLinkHtml = 'Like what you see? Visit the ' +\n",
              "            '<a target=\"_blank\" href=https://colab.research.google.com/notebooks/data_table.ipynb>data table notebook</a>'\n",
              "            + ' to learn more about interactive tables.';\n",
              "          element.innerHTML = '';\n",
              "          dataTable['output_type'] = 'display_data';\n",
              "          await google.colab.output.renderOutput(dataTable, element);\n",
              "          const docLink = document.createElement('div');\n",
              "          docLink.innerHTML = docLinkHtml;\n",
              "          element.appendChild(docLink);\n",
              "        }\n",
              "      </script>\n",
              "    </div>\n",
              "  </div>\n",
              "  "
            ]
          },
          "metadata": {},
          "execution_count": 38
        }
      ]
    },
    {
      "cell_type": "code",
      "source": [
        "y.head()"
      ],
      "metadata": {
        "id": "5OOewLv-bRLd",
        "outputId": "e0c83ebf-853a-4a57-c372-e0d38fe56ed5",
        "colab": {
          "base_uri": "https://localhost:8080/"
        }
      },
      "execution_count": 39,
      "outputs": [
        {
          "output_type": "execute_result",
          "data": {
            "text/plain": [
              "0    16884.92400\n",
              "1     1725.55230\n",
              "2     4449.46200\n",
              "3    21984.47061\n",
              "4     3866.85520\n",
              "Name: charges, dtype: float64"
            ]
          },
          "metadata": {},
          "execution_count": 39
        }
      ]
    },
    {
      "cell_type": "code",
      "source": [
        "from sklearn.model_selection import train_test_split\n",
        "X_train, X_test, y_train, y_test = train_test_split(X, y, test_size= 0.2, random_state=42)"
      ],
      "metadata": {
        "id": "if6iV_qGbV_d"
      },
      "execution_count": 40,
      "outputs": []
    },
    {
      "cell_type": "code",
      "source": [
        "tf.random.set_seed = 42\n",
        "\n",
        "insurance_model = tf.keras.Sequential([\n",
        "  tf.keras.layers.Dense(1),\n",
        "  tf.keras.layers.Dense(10)                                       \n",
        "])\n",
        "\n",
        "insurance_model.compile(loss = tf.keras.losses.mae,\n",
        "                        optimizer = tf.keras.optimizers.SGD(),\n",
        "                        metrics=[\"mae\"])\n",
        "\n",
        "insurance_model.fit(X_train, y_train, epochs=100)"
      ],
      "metadata": {
        "id": "tZJgEAgJcy82"
      },
      "execution_count": null,
      "outputs": []
    },
    {
      "cell_type": "code",
      "source": [
        "insurance_model.evaluate(X_test, y_test)"
      ],
      "metadata": {
        "id": "oiC-Irybdpnc",
        "outputId": "f3229216-9bba-4a85-f117-670b78d0b9b8",
        "colab": {
          "base_uri": "https://localhost:8080/"
        }
      },
      "execution_count": 42,
      "outputs": [
        {
          "output_type": "stream",
          "name": "stdout",
          "text": [
            "9/9 [==============================] - 0s 2ms/step - loss: 6415.5664 - mae: 6415.5664\n"
          ]
        },
        {
          "output_type": "execute_result",
          "data": {
            "text/plain": [
              "[6415.56640625, 6415.56640625]"
            ]
          },
          "metadata": {},
          "execution_count": 42
        }
      ]
    },
    {
      "cell_type": "code",
      "source": [
        "tf.random.set_seed = 42\n",
        "\n",
        "insurance_model_2 = tf.keras.Sequential([\n",
        "  tf.keras.layers.Dense(100),\n",
        "  tf.keras.layers.Dense(10),\n",
        "  tf.keras.layers.Dense(1)                                       \n",
        "])\n",
        "\n",
        "insurance_model_2.compile(loss = tf.keras.losses.mae,\n",
        "                        optimizer = tf.keras.optimizers.Adam(),\n",
        "                        metrics=[\"mae\"])\n",
        "\n",
        "insurance_model_2.fit(X_train, y_train, epochs=100)"
      ],
      "metadata": {
        "id": "E9v5gGN4d0Ar",
        "outputId": "81e65405-b404-4b49-a445-ad2797a63dcb",
        "colab": {
          "base_uri": "https://localhost:8080/"
        }
      },
      "execution_count": 43,
      "outputs": [
        {
          "output_type": "stream",
          "name": "stdout",
          "text": [
            "Epoch 1/100\n",
            "34/34 [==============================] - 1s 2ms/step - loss: 13280.9844 - mae: 13280.9844\n",
            "Epoch 2/100\n",
            "34/34 [==============================] - 0s 2ms/step - loss: 13114.8789 - mae: 13114.8789\n",
            "Epoch 3/100\n",
            "34/34 [==============================] - 0s 2ms/step - loss: 12765.4961 - mae: 12765.4961\n",
            "Epoch 4/100\n",
            "34/34 [==============================] - 0s 2ms/step - loss: 12089.3350 - mae: 12089.3350\n",
            "Epoch 5/100\n",
            "34/34 [==============================] - 0s 2ms/step - loss: 10958.6309 - mae: 10958.6309\n",
            "Epoch 6/100\n",
            "34/34 [==============================] - 0s 2ms/step - loss: 9517.2686 - mae: 9517.2686\n",
            "Epoch 7/100\n",
            "34/34 [==============================] - 0s 2ms/step - loss: 8194.3535 - mae: 8194.3535\n",
            "Epoch 8/100\n",
            "34/34 [==============================] - 0s 2ms/step - loss: 7535.8521 - mae: 7535.8521\n",
            "Epoch 9/100\n",
            "34/34 [==============================] - 0s 2ms/step - loss: 7421.5093 - mae: 7421.5093\n",
            "Epoch 10/100\n",
            "34/34 [==============================] - 0s 2ms/step - loss: 7403.9727 - mae: 7403.9727\n",
            "Epoch 11/100\n",
            "34/34 [==============================] - 0s 2ms/step - loss: 7383.4526 - mae: 7383.4526\n",
            "Epoch 12/100\n",
            "34/34 [==============================] - 0s 2ms/step - loss: 7364.5269 - mae: 7364.5269\n",
            "Epoch 13/100\n",
            "34/34 [==============================] - 0s 2ms/step - loss: 7344.2422 - mae: 7344.2422\n",
            "Epoch 14/100\n",
            "34/34 [==============================] - 0s 3ms/step - loss: 7323.3960 - mae: 7323.3960\n",
            "Epoch 15/100\n",
            "34/34 [==============================] - 0s 2ms/step - loss: 7302.0015 - mae: 7302.0015\n",
            "Epoch 16/100\n",
            "34/34 [==============================] - 0s 2ms/step - loss: 7281.6958 - mae: 7281.6958\n",
            "Epoch 17/100\n",
            "34/34 [==============================] - 0s 2ms/step - loss: 7260.0415 - mae: 7260.0415\n",
            "Epoch 18/100\n",
            "34/34 [==============================] - 0s 2ms/step - loss: 7240.8706 - mae: 7240.8706\n",
            "Epoch 19/100\n",
            "34/34 [==============================] - 0s 2ms/step - loss: 7218.7861 - mae: 7218.7861\n",
            "Epoch 20/100\n",
            "34/34 [==============================] - 0s 2ms/step - loss: 7196.2651 - mae: 7196.2651\n",
            "Epoch 21/100\n",
            "34/34 [==============================] - 0s 2ms/step - loss: 7172.2710 - mae: 7172.2710\n",
            "Epoch 22/100\n",
            "34/34 [==============================] - 0s 2ms/step - loss: 7147.0098 - mae: 7147.0098\n",
            "Epoch 23/100\n",
            "34/34 [==============================] - 0s 2ms/step - loss: 7122.0693 - mae: 7122.0693\n",
            "Epoch 24/100\n",
            "34/34 [==============================] - 0s 2ms/step - loss: 7098.1831 - mae: 7098.1831\n",
            "Epoch 25/100\n",
            "34/34 [==============================] - 0s 2ms/step - loss: 7070.9189 - mae: 7070.9189\n",
            "Epoch 26/100\n",
            "34/34 [==============================] - 0s 2ms/step - loss: 7048.3350 - mae: 7048.3350\n",
            "Epoch 27/100\n",
            "34/34 [==============================] - 0s 2ms/step - loss: 7018.1323 - mae: 7018.1323\n",
            "Epoch 28/100\n",
            "34/34 [==============================] - 0s 2ms/step - loss: 6990.0776 - mae: 6990.0776\n",
            "Epoch 29/100\n",
            "34/34 [==============================] - 0s 2ms/step - loss: 6958.9165 - mae: 6958.9165\n",
            "Epoch 30/100\n",
            "34/34 [==============================] - 0s 2ms/step - loss: 6931.9155 - mae: 6931.9155\n",
            "Epoch 31/100\n",
            "34/34 [==============================] - 0s 2ms/step - loss: 6898.9253 - mae: 6898.9253\n",
            "Epoch 32/100\n",
            "34/34 [==============================] - 0s 2ms/step - loss: 6869.7227 - mae: 6869.7227\n",
            "Epoch 33/100\n",
            "34/34 [==============================] - 0s 2ms/step - loss: 6836.8047 - mae: 6836.8047\n",
            "Epoch 34/100\n",
            "34/34 [==============================] - 0s 2ms/step - loss: 6802.1431 - mae: 6802.1431\n",
            "Epoch 35/100\n",
            "34/34 [==============================] - 0s 2ms/step - loss: 6770.8115 - mae: 6770.8115\n",
            "Epoch 36/100\n",
            "34/34 [==============================] - 0s 2ms/step - loss: 6734.8232 - mae: 6734.8232\n",
            "Epoch 37/100\n",
            "34/34 [==============================] - 0s 2ms/step - loss: 6698.4409 - mae: 6698.4409\n",
            "Epoch 38/100\n",
            "34/34 [==============================] - 0s 2ms/step - loss: 6662.1021 - mae: 6662.1021\n",
            "Epoch 39/100\n",
            "34/34 [==============================] - 0s 2ms/step - loss: 6627.5898 - mae: 6627.5898\n",
            "Epoch 40/100\n",
            "34/34 [==============================] - 0s 2ms/step - loss: 6591.7324 - mae: 6591.7324\n",
            "Epoch 41/100\n",
            "34/34 [==============================] - 0s 2ms/step - loss: 6560.2754 - mae: 6560.2754\n",
            "Epoch 42/100\n",
            "34/34 [==============================] - 0s 2ms/step - loss: 6535.9385 - mae: 6535.9385\n",
            "Epoch 43/100\n",
            "34/34 [==============================] - 0s 2ms/step - loss: 6512.8413 - mae: 6512.8413\n",
            "Epoch 44/100\n",
            "34/34 [==============================] - 0s 2ms/step - loss: 6494.6113 - mae: 6494.6113\n",
            "Epoch 45/100\n",
            "34/34 [==============================] - 0s 2ms/step - loss: 6481.4121 - mae: 6481.4121\n",
            "Epoch 46/100\n",
            "34/34 [==============================] - 0s 2ms/step - loss: 6462.9639 - mae: 6462.9639\n",
            "Epoch 47/100\n",
            "34/34 [==============================] - 0s 2ms/step - loss: 6448.0918 - mae: 6448.0918\n",
            "Epoch 48/100\n",
            "34/34 [==============================] - 0s 2ms/step - loss: 6437.3623 - mae: 6437.3623\n",
            "Epoch 49/100\n",
            "34/34 [==============================] - 0s 2ms/step - loss: 6425.4512 - mae: 6425.4512\n",
            "Epoch 50/100\n",
            "34/34 [==============================] - 0s 2ms/step - loss: 6411.2896 - mae: 6411.2896\n",
            "Epoch 51/100\n",
            "34/34 [==============================] - 0s 3ms/step - loss: 6396.8149 - mae: 6396.8149\n",
            "Epoch 52/100\n",
            "34/34 [==============================] - 0s 2ms/step - loss: 6385.4082 - mae: 6385.4082\n",
            "Epoch 53/100\n",
            "34/34 [==============================] - 0s 2ms/step - loss: 6372.2949 - mae: 6372.2949\n",
            "Epoch 54/100\n",
            "34/34 [==============================] - 0s 2ms/step - loss: 6355.3530 - mae: 6355.3530\n",
            "Epoch 55/100\n",
            "34/34 [==============================] - 0s 2ms/step - loss: 6351.2642 - mae: 6351.2642\n",
            "Epoch 56/100\n",
            "34/34 [==============================] - 0s 2ms/step - loss: 6336.9121 - mae: 6336.9121\n",
            "Epoch 57/100\n",
            "34/34 [==============================] - 0s 2ms/step - loss: 6317.7944 - mae: 6317.7944\n",
            "Epoch 58/100\n",
            "34/34 [==============================] - 0s 2ms/step - loss: 6303.4370 - mae: 6303.4370\n",
            "Epoch 59/100\n",
            "34/34 [==============================] - 0s 2ms/step - loss: 6291.1450 - mae: 6291.1450\n",
            "Epoch 60/100\n",
            "34/34 [==============================] - 0s 2ms/step - loss: 6276.1089 - mae: 6276.1089\n",
            "Epoch 61/100\n",
            "34/34 [==============================] - 0s 2ms/step - loss: 6260.6157 - mae: 6260.6157\n",
            "Epoch 62/100\n",
            "34/34 [==============================] - 0s 2ms/step - loss: 6245.1104 - mae: 6245.1104\n",
            "Epoch 63/100\n",
            "34/34 [==============================] - 0s 2ms/step - loss: 6232.0312 - mae: 6232.0312\n",
            "Epoch 64/100\n",
            "34/34 [==============================] - 0s 2ms/step - loss: 6215.2549 - mae: 6215.2549\n",
            "Epoch 65/100\n",
            "34/34 [==============================] - 0s 2ms/step - loss: 6200.2559 - mae: 6200.2559\n",
            "Epoch 66/100\n",
            "34/34 [==============================] - 0s 2ms/step - loss: 6180.9995 - mae: 6180.9995\n",
            "Epoch 67/100\n",
            "34/34 [==============================] - 0s 2ms/step - loss: 6164.6768 - mae: 6164.6768\n",
            "Epoch 68/100\n",
            "34/34 [==============================] - 0s 2ms/step - loss: 6152.2607 - mae: 6152.2607\n",
            "Epoch 69/100\n",
            "34/34 [==============================] - 0s 2ms/step - loss: 6133.7510 - mae: 6133.7510\n",
            "Epoch 70/100\n",
            "34/34 [==============================] - 0s 2ms/step - loss: 6110.3447 - mae: 6110.3447\n",
            "Epoch 71/100\n",
            "34/34 [==============================] - 0s 2ms/step - loss: 6091.3789 - mae: 6091.3789\n",
            "Epoch 72/100\n",
            "34/34 [==============================] - 0s 2ms/step - loss: 6073.3735 - mae: 6073.3735\n",
            "Epoch 73/100\n",
            "34/34 [==============================] - 0s 2ms/step - loss: 6053.0356 - mae: 6053.0356\n",
            "Epoch 74/100\n",
            "34/34 [==============================] - 0s 2ms/step - loss: 6040.1084 - mae: 6040.1084\n",
            "Epoch 75/100\n",
            "34/34 [==============================] - 0s 2ms/step - loss: 6028.3823 - mae: 6028.3823\n",
            "Epoch 76/100\n",
            "34/34 [==============================] - 0s 2ms/step - loss: 5998.1919 - mae: 5998.1919\n",
            "Epoch 77/100\n",
            "34/34 [==============================] - 0s 2ms/step - loss: 5974.9624 - mae: 5974.9624\n",
            "Epoch 78/100\n",
            "34/34 [==============================] - 0s 2ms/step - loss: 5953.1274 - mae: 5953.1274\n",
            "Epoch 79/100\n",
            "34/34 [==============================] - 0s 2ms/step - loss: 5924.6323 - mae: 5924.6323\n",
            "Epoch 80/100\n",
            "34/34 [==============================] - 0s 2ms/step - loss: 5900.3574 - mae: 5900.3574\n",
            "Epoch 81/100\n",
            "34/34 [==============================] - 0s 2ms/step - loss: 5877.5576 - mae: 5877.5576\n",
            "Epoch 82/100\n",
            "34/34 [==============================] - 0s 2ms/step - loss: 5847.4199 - mae: 5847.4199\n",
            "Epoch 83/100\n",
            "34/34 [==============================] - 0s 2ms/step - loss: 5819.2539 - mae: 5819.2539\n",
            "Epoch 84/100\n",
            "34/34 [==============================] - 0s 2ms/step - loss: 5793.9619 - mae: 5793.9619\n",
            "Epoch 85/100\n",
            "34/34 [==============================] - 0s 2ms/step - loss: 5762.5303 - mae: 5762.5303\n",
            "Epoch 86/100\n",
            "34/34 [==============================] - 0s 2ms/step - loss: 5731.5078 - mae: 5731.5078\n",
            "Epoch 87/100\n",
            "34/34 [==============================] - 0s 2ms/step - loss: 5698.9336 - mae: 5698.9336\n",
            "Epoch 88/100\n",
            "34/34 [==============================] - 0s 3ms/step - loss: 5663.8379 - mae: 5663.8379\n",
            "Epoch 89/100\n",
            "34/34 [==============================] - 0s 2ms/step - loss: 5630.9429 - mae: 5630.9429\n",
            "Epoch 90/100\n",
            "34/34 [==============================] - 0s 2ms/step - loss: 5594.5015 - mae: 5594.5015\n",
            "Epoch 91/100\n",
            "34/34 [==============================] - 0s 2ms/step - loss: 5556.6411 - mae: 5556.6411\n",
            "Epoch 92/100\n",
            "34/34 [==============================] - 0s 2ms/step - loss: 5513.6143 - mae: 5513.6143\n",
            "Epoch 93/100\n",
            "34/34 [==============================] - 0s 2ms/step - loss: 5473.1182 - mae: 5473.1182\n",
            "Epoch 94/100\n",
            "34/34 [==============================] - 0s 2ms/step - loss: 5432.6001 - mae: 5432.6001\n",
            "Epoch 95/100\n",
            "34/34 [==============================] - 0s 2ms/step - loss: 5382.7915 - mae: 5382.7915\n",
            "Epoch 96/100\n",
            "34/34 [==============================] - 0s 2ms/step - loss: 5338.3013 - mae: 5338.3013\n",
            "Epoch 97/100\n",
            "34/34 [==============================] - 0s 2ms/step - loss: 5290.4902 - mae: 5290.4902\n",
            "Epoch 98/100\n",
            "34/34 [==============================] - 0s 2ms/step - loss: 5232.7266 - mae: 5232.7266\n",
            "Epoch 99/100\n",
            "34/34 [==============================] - 0s 2ms/step - loss: 5173.6416 - mae: 5173.6416\n",
            "Epoch 100/100\n",
            "34/34 [==============================] - 0s 2ms/step - loss: 5127.6113 - mae: 5127.6113\n"
          ]
        },
        {
          "output_type": "execute_result",
          "data": {
            "text/plain": [
              "<keras.callbacks.History at 0x7f9659826e90>"
            ]
          },
          "metadata": {},
          "execution_count": 43
        }
      ]
    },
    {
      "cell_type": "code",
      "source": [
        "insurance_model_2.evaluate(X_test, y_test)"
      ],
      "metadata": {
        "id": "wTiCn1EeethT",
        "outputId": "3e1a199b-12c2-4b9b-b2cb-30cf888e3970",
        "colab": {
          "base_uri": "https://localhost:8080/"
        }
      },
      "execution_count": 44,
      "outputs": [
        {
          "output_type": "stream",
          "name": "stdout",
          "text": [
            "9/9 [==============================] - 0s 2ms/step - loss: 4992.4092 - mae: 4992.4092\n"
          ]
        },
        {
          "output_type": "execute_result",
          "data": {
            "text/plain": [
              "[4992.4091796875, 4992.4091796875]"
            ]
          },
          "metadata": {},
          "execution_count": 44
        }
      ]
    },
    {
      "cell_type": "code",
      "source": [
        "tf.random.set_seed = 42\n",
        "\n",
        "insurance_model_3 = tf.keras.Sequential([\n",
        "  tf.keras.layers.Dense(100),\n",
        "  tf.keras.layers.Dense(10),\n",
        "  tf.keras.layers.Dense(1)                                       \n",
        "])\n",
        "\n",
        "insurance_model_3.compile(loss = tf.keras.losses.mae,\n",
        "                        optimizer = tf.keras.optimizers.Adam(),\n",
        "                        metrics=[\"mae\"])\n",
        "\n",
        "history = insurance_model_3.fit(X_train, y_train, epochs=200)"
      ],
      "metadata": {
        "id": "MNFCuoVLe0mB",
        "outputId": "d5c1aa84-8c5f-4c96-ab69-a3c69b5bfc2c",
        "colab": {
          "base_uri": "https://localhost:8080/"
        }
      },
      "execution_count": 45,
      "outputs": [
        {
          "output_type": "stream",
          "name": "stdout",
          "text": [
            "Epoch 1/200\n",
            "34/34 [==============================] - 0s 2ms/step - loss: 13323.7061 - mae: 13323.7061\n",
            "Epoch 2/200\n",
            "34/34 [==============================] - 0s 2ms/step - loss: 13233.5928 - mae: 13233.5928\n",
            "Epoch 3/200\n",
            "34/34 [==============================] - 0s 2ms/step - loss: 13016.2480 - mae: 13016.2480\n",
            "Epoch 4/200\n",
            "34/34 [==============================] - 0s 2ms/step - loss: 12530.7715 - mae: 12530.7715\n",
            "Epoch 5/200\n",
            "34/34 [==============================] - 0s 2ms/step - loss: 11615.8633 - mae: 11615.8633\n",
            "Epoch 6/200\n",
            "34/34 [==============================] - 0s 2ms/step - loss: 10248.1738 - mae: 10248.1738\n",
            "Epoch 7/200\n",
            "34/34 [==============================] - 0s 2ms/step - loss: 8756.5732 - mae: 8756.5732\n",
            "Epoch 8/200\n",
            "34/34 [==============================] - 0s 2ms/step - loss: 7724.5234 - mae: 7724.5234\n",
            "Epoch 9/200\n",
            "34/34 [==============================] - 0s 2ms/step - loss: 7446.3125 - mae: 7446.3125\n",
            "Epoch 10/200\n",
            "34/34 [==============================] - 0s 2ms/step - loss: 7409.2388 - mae: 7409.2388\n",
            "Epoch 11/200\n",
            "34/34 [==============================] - 0s 2ms/step - loss: 7389.9800 - mae: 7389.9800\n",
            "Epoch 12/200\n",
            "34/34 [==============================] - 0s 2ms/step - loss: 7369.4556 - mae: 7369.4556\n",
            "Epoch 13/200\n",
            "34/34 [==============================] - 0s 2ms/step - loss: 7350.8037 - mae: 7350.8037\n",
            "Epoch 14/200\n",
            "34/34 [==============================] - 0s 2ms/step - loss: 7330.7056 - mae: 7330.7056\n",
            "Epoch 15/200\n",
            "34/34 [==============================] - 0s 2ms/step - loss: 7308.9946 - mae: 7308.9946\n",
            "Epoch 16/200\n",
            "34/34 [==============================] - 0s 2ms/step - loss: 7287.3188 - mae: 7287.3188\n",
            "Epoch 17/200\n",
            "34/34 [==============================] - 0s 2ms/step - loss: 7267.4116 - mae: 7267.4116\n",
            "Epoch 18/200\n",
            "34/34 [==============================] - 0s 2ms/step - loss: 7244.9033 - mae: 7244.9033\n",
            "Epoch 19/200\n",
            "34/34 [==============================] - 0s 2ms/step - loss: 7222.0928 - mae: 7222.0928\n",
            "Epoch 20/200\n",
            "34/34 [==============================] - 0s 2ms/step - loss: 7202.1099 - mae: 7202.1099\n",
            "Epoch 21/200\n",
            "34/34 [==============================] - 0s 2ms/step - loss: 7178.8359 - mae: 7178.8359\n",
            "Epoch 22/200\n",
            "34/34 [==============================] - 0s 2ms/step - loss: 7157.2251 - mae: 7157.2251\n",
            "Epoch 23/200\n",
            "34/34 [==============================] - 0s 2ms/step - loss: 7131.7031 - mae: 7131.7031\n",
            "Epoch 24/200\n",
            "34/34 [==============================] - 0s 2ms/step - loss: 7106.0889 - mae: 7106.0889\n",
            "Epoch 25/200\n",
            "34/34 [==============================] - 0s 2ms/step - loss: 7081.9141 - mae: 7081.9141\n",
            "Epoch 26/200\n",
            "34/34 [==============================] - 0s 2ms/step - loss: 7053.1797 - mae: 7053.1797\n",
            "Epoch 27/200\n",
            "34/34 [==============================] - 0s 2ms/step - loss: 7026.9360 - mae: 7026.9360\n",
            "Epoch 28/200\n",
            "34/34 [==============================] - 0s 3ms/step - loss: 7004.1333 - mae: 7004.1333\n",
            "Epoch 29/200\n",
            "34/34 [==============================] - 0s 2ms/step - loss: 6970.2993 - mae: 6970.2993\n",
            "Epoch 30/200\n",
            "34/34 [==============================] - 0s 2ms/step - loss: 6940.2944 - mae: 6940.2944\n",
            "Epoch 31/200\n",
            "34/34 [==============================] - 0s 2ms/step - loss: 6909.7554 - mae: 6909.7554\n",
            "Epoch 32/200\n",
            "34/34 [==============================] - 0s 3ms/step - loss: 6879.6831 - mae: 6879.6831\n",
            "Epoch 33/200\n",
            "34/34 [==============================] - 0s 2ms/step - loss: 6850.4595 - mae: 6850.4595\n",
            "Epoch 34/200\n",
            "34/34 [==============================] - 0s 3ms/step - loss: 6816.9946 - mae: 6816.9946\n",
            "Epoch 35/200\n",
            "34/34 [==============================] - 0s 2ms/step - loss: 6784.1328 - mae: 6784.1328\n",
            "Epoch 36/200\n",
            "34/34 [==============================] - 0s 2ms/step - loss: 6751.0771 - mae: 6751.0771\n",
            "Epoch 37/200\n",
            "34/34 [==============================] - 0s 2ms/step - loss: 6717.0659 - mae: 6717.0659\n",
            "Epoch 38/200\n",
            "34/34 [==============================] - 0s 3ms/step - loss: 6685.0771 - mae: 6685.0771\n",
            "Epoch 39/200\n",
            "34/34 [==============================] - 0s 2ms/step - loss: 6651.0908 - mae: 6651.0908\n",
            "Epoch 40/200\n",
            "34/34 [==============================] - 0s 2ms/step - loss: 6615.7974 - mae: 6615.7974\n",
            "Epoch 41/200\n",
            "34/34 [==============================] - 0s 2ms/step - loss: 6585.4404 - mae: 6585.4404\n",
            "Epoch 42/200\n",
            "34/34 [==============================] - 0s 2ms/step - loss: 6558.9292 - mae: 6558.9292\n",
            "Epoch 43/200\n",
            "34/34 [==============================] - 0s 2ms/step - loss: 6535.1084 - mae: 6535.1084\n",
            "Epoch 44/200\n",
            "34/34 [==============================] - 0s 2ms/step - loss: 6513.7988 - mae: 6513.7988\n",
            "Epoch 45/200\n",
            "34/34 [==============================] - 0s 2ms/step - loss: 6500.5742 - mae: 6500.5742\n",
            "Epoch 46/200\n",
            "34/34 [==============================] - 0s 2ms/step - loss: 6487.3970 - mae: 6487.3970\n",
            "Epoch 47/200\n",
            "34/34 [==============================] - 0s 2ms/step - loss: 6470.1802 - mae: 6470.1802\n",
            "Epoch 48/200\n",
            "34/34 [==============================] - 0s 2ms/step - loss: 6456.3711 - mae: 6456.3711\n",
            "Epoch 49/200\n",
            "34/34 [==============================] - 0s 2ms/step - loss: 6445.1113 - mae: 6445.1113\n",
            "Epoch 50/200\n",
            "34/34 [==============================] - 0s 2ms/step - loss: 6440.8857 - mae: 6440.8857\n",
            "Epoch 51/200\n",
            "34/34 [==============================] - 0s 2ms/step - loss: 6422.6401 - mae: 6422.6401\n",
            "Epoch 52/200\n",
            "34/34 [==============================] - 0s 2ms/step - loss: 6409.6777 - mae: 6409.6777\n",
            "Epoch 53/200\n",
            "34/34 [==============================] - 0s 2ms/step - loss: 6397.8535 - mae: 6397.8535\n",
            "Epoch 54/200\n",
            "34/34 [==============================] - 0s 2ms/step - loss: 6384.7021 - mae: 6384.7021\n",
            "Epoch 55/200\n",
            "34/34 [==============================] - 0s 2ms/step - loss: 6373.3096 - mae: 6373.3096\n",
            "Epoch 56/200\n",
            "34/34 [==============================] - 0s 3ms/step - loss: 6362.9502 - mae: 6362.9502\n",
            "Epoch 57/200\n",
            "34/34 [==============================] - 0s 2ms/step - loss: 6348.5518 - mae: 6348.5518\n",
            "Epoch 58/200\n",
            "34/34 [==============================] - 0s 2ms/step - loss: 6336.3159 - mae: 6336.3159\n",
            "Epoch 59/200\n",
            "34/34 [==============================] - 0s 2ms/step - loss: 6322.6050 - mae: 6322.6050\n",
            "Epoch 60/200\n",
            "34/34 [==============================] - 0s 2ms/step - loss: 6309.4854 - mae: 6309.4854\n",
            "Epoch 61/200\n",
            "34/34 [==============================] - 0s 2ms/step - loss: 6298.3799 - mae: 6298.3799\n",
            "Epoch 62/200\n",
            "34/34 [==============================] - 0s 2ms/step - loss: 6282.4619 - mae: 6282.4619\n",
            "Epoch 63/200\n",
            "34/34 [==============================] - 0s 3ms/step - loss: 6270.5059 - mae: 6270.5059\n",
            "Epoch 64/200\n",
            "34/34 [==============================] - 0s 2ms/step - loss: 6258.6147 - mae: 6258.6147\n",
            "Epoch 65/200\n",
            "34/34 [==============================] - 0s 2ms/step - loss: 6240.0581 - mae: 6240.0581\n",
            "Epoch 66/200\n",
            "34/34 [==============================] - 0s 2ms/step - loss: 6226.6943 - mae: 6226.6943\n",
            "Epoch 67/200\n",
            "34/34 [==============================] - 0s 2ms/step - loss: 6214.6206 - mae: 6214.6206\n",
            "Epoch 68/200\n",
            "34/34 [==============================] - 0s 2ms/step - loss: 6195.1616 - mae: 6195.1616\n",
            "Epoch 69/200\n",
            "34/34 [==============================] - 0s 2ms/step - loss: 6180.5928 - mae: 6180.5928\n",
            "Epoch 70/200\n",
            "34/34 [==============================] - 0s 2ms/step - loss: 6163.3823 - mae: 6163.3823\n",
            "Epoch 71/200\n",
            "34/34 [==============================] - 0s 2ms/step - loss: 6148.6904 - mae: 6148.6904\n",
            "Epoch 72/200\n",
            "34/34 [==============================] - 0s 2ms/step - loss: 6130.1528 - mae: 6130.1528\n",
            "Epoch 73/200\n",
            "34/34 [==============================] - 0s 2ms/step - loss: 6113.4858 - mae: 6113.4858\n",
            "Epoch 74/200\n",
            "34/34 [==============================] - 0s 2ms/step - loss: 6096.0366 - mae: 6096.0366\n",
            "Epoch 75/200\n",
            "34/34 [==============================] - 0s 2ms/step - loss: 6080.6123 - mae: 6080.6123\n",
            "Epoch 76/200\n",
            "34/34 [==============================] - 0s 2ms/step - loss: 6059.4912 - mae: 6059.4912\n",
            "Epoch 77/200\n",
            "34/34 [==============================] - 0s 2ms/step - loss: 6040.5039 - mae: 6040.5039\n",
            "Epoch 78/200\n",
            "34/34 [==============================] - 0s 2ms/step - loss: 6018.5034 - mae: 6018.5034\n",
            "Epoch 79/200\n",
            "34/34 [==============================] - 0s 2ms/step - loss: 5999.1289 - mae: 5999.1289\n",
            "Epoch 80/200\n",
            "34/34 [==============================] - 0s 2ms/step - loss: 5976.4404 - mae: 5976.4404\n",
            "Epoch 81/200\n",
            "34/34 [==============================] - 0s 2ms/step - loss: 5954.2358 - mae: 5954.2358\n",
            "Epoch 82/200\n",
            "34/34 [==============================] - 0s 2ms/step - loss: 5932.5859 - mae: 5932.5859\n",
            "Epoch 83/200\n",
            "34/34 [==============================] - 0s 2ms/step - loss: 5908.0054 - mae: 5908.0054\n",
            "Epoch 84/200\n",
            "34/34 [==============================] - 0s 2ms/step - loss: 5881.4590 - mae: 5881.4590\n",
            "Epoch 85/200\n",
            "34/34 [==============================] - 0s 2ms/step - loss: 5858.2554 - mae: 5858.2554\n",
            "Epoch 86/200\n",
            "34/34 [==============================] - 0s 2ms/step - loss: 5832.8379 - mae: 5832.8379\n",
            "Epoch 87/200\n",
            "34/34 [==============================] - 0s 2ms/step - loss: 5811.1670 - mae: 5811.1670\n",
            "Epoch 88/200\n",
            "34/34 [==============================] - 0s 3ms/step - loss: 5784.0762 - mae: 5784.0762\n",
            "Epoch 89/200\n",
            "34/34 [==============================] - 0s 2ms/step - loss: 5742.3706 - mae: 5742.3706\n",
            "Epoch 90/200\n",
            "34/34 [==============================] - 0s 2ms/step - loss: 5712.1416 - mae: 5712.1416\n",
            "Epoch 91/200\n",
            "34/34 [==============================] - 0s 2ms/step - loss: 5681.8809 - mae: 5681.8809\n",
            "Epoch 92/200\n",
            "34/34 [==============================] - 0s 2ms/step - loss: 5654.3223 - mae: 5654.3223\n",
            "Epoch 93/200\n",
            "34/34 [==============================] - 0s 2ms/step - loss: 5608.0767 - mae: 5608.0767\n",
            "Epoch 94/200\n",
            "34/34 [==============================] - 0s 2ms/step - loss: 5569.5298 - mae: 5569.5298\n",
            "Epoch 95/200\n",
            "34/34 [==============================] - 0s 2ms/step - loss: 5536.9814 - mae: 5536.9814\n",
            "Epoch 96/200\n",
            "34/34 [==============================] - 0s 2ms/step - loss: 5491.0010 - mae: 5491.0010\n",
            "Epoch 97/200\n",
            "34/34 [==============================] - 0s 2ms/step - loss: 5450.3896 - mae: 5450.3896\n",
            "Epoch 98/200\n",
            "34/34 [==============================] - 0s 2ms/step - loss: 5410.0762 - mae: 5410.0762\n",
            "Epoch 99/200\n",
            "34/34 [==============================] - 0s 2ms/step - loss: 5360.3281 - mae: 5360.3281\n",
            "Epoch 100/200\n",
            "34/34 [==============================] - 0s 2ms/step - loss: 5317.9653 - mae: 5317.9653\n",
            "Epoch 101/200\n",
            "34/34 [==============================] - 0s 2ms/step - loss: 5255.3438 - mae: 5255.3438\n",
            "Epoch 102/200\n",
            "34/34 [==============================] - 0s 3ms/step - loss: 5204.5884 - mae: 5204.5884\n",
            "Epoch 103/200\n",
            "34/34 [==============================] - 0s 2ms/step - loss: 5148.9409 - mae: 5148.9409\n",
            "Epoch 104/200\n",
            "34/34 [==============================] - 0s 2ms/step - loss: 5097.2334 - mae: 5097.2334\n",
            "Epoch 105/200\n",
            "34/34 [==============================] - 0s 2ms/step - loss: 5027.6401 - mae: 5027.6401\n",
            "Epoch 106/200\n",
            "34/34 [==============================] - 0s 2ms/step - loss: 4965.9897 - mae: 4965.9897\n",
            "Epoch 107/200\n",
            "34/34 [==============================] - 0s 2ms/step - loss: 4903.2485 - mae: 4903.2485\n",
            "Epoch 108/200\n",
            "34/34 [==============================] - 0s 2ms/step - loss: 4826.1489 - mae: 4826.1489\n",
            "Epoch 109/200\n",
            "34/34 [==============================] - 0s 2ms/step - loss: 4752.2583 - mae: 4752.2583\n",
            "Epoch 110/200\n",
            "34/34 [==============================] - 0s 2ms/step - loss: 4680.7183 - mae: 4680.7183\n",
            "Epoch 111/200\n",
            "34/34 [==============================] - 0s 2ms/step - loss: 4598.7227 - mae: 4598.7227\n",
            "Epoch 112/200\n",
            "34/34 [==============================] - 0s 3ms/step - loss: 4509.1504 - mae: 4509.1504\n",
            "Epoch 113/200\n",
            "34/34 [==============================] - 0s 2ms/step - loss: 4426.8833 - mae: 4426.8833\n",
            "Epoch 114/200\n",
            "34/34 [==============================] - 0s 2ms/step - loss: 4349.3955 - mae: 4349.3955\n",
            "Epoch 115/200\n",
            "34/34 [==============================] - 0s 2ms/step - loss: 4263.8730 - mae: 4263.8730\n",
            "Epoch 116/200\n",
            "34/34 [==============================] - 0s 2ms/step - loss: 4179.8916 - mae: 4179.8916\n",
            "Epoch 117/200\n",
            "34/34 [==============================] - 0s 2ms/step - loss: 4113.7622 - mae: 4113.7622\n",
            "Epoch 118/200\n",
            "34/34 [==============================] - 0s 2ms/step - loss: 4053.5183 - mae: 4053.5183\n",
            "Epoch 119/200\n",
            "34/34 [==============================] - 0s 2ms/step - loss: 4017.0696 - mae: 4017.0696\n",
            "Epoch 120/200\n",
            "34/34 [==============================] - 0s 2ms/step - loss: 3951.9050 - mae: 3951.9050\n",
            "Epoch 121/200\n",
            "34/34 [==============================] - 0s 3ms/step - loss: 3926.2771 - mae: 3926.2771\n",
            "Epoch 122/200\n",
            "34/34 [==============================] - 0s 2ms/step - loss: 3888.7700 - mae: 3888.7700\n",
            "Epoch 123/200\n",
            "34/34 [==============================] - 0s 2ms/step - loss: 3873.2488 - mae: 3873.2488\n",
            "Epoch 124/200\n",
            "34/34 [==============================] - 0s 2ms/step - loss: 3855.9619 - mae: 3855.9619\n",
            "Epoch 125/200\n",
            "34/34 [==============================] - 0s 2ms/step - loss: 3838.8169 - mae: 3838.8169\n",
            "Epoch 126/200\n",
            "34/34 [==============================] - 0s 2ms/step - loss: 3829.2937 - mae: 3829.2937\n",
            "Epoch 127/200\n",
            "34/34 [==============================] - 0s 2ms/step - loss: 3826.8923 - mae: 3826.8923\n",
            "Epoch 128/200\n",
            "34/34 [==============================] - 0s 2ms/step - loss: 3826.0728 - mae: 3826.0728\n",
            "Epoch 129/200\n",
            "34/34 [==============================] - 0s 2ms/step - loss: 3809.0781 - mae: 3809.0781\n",
            "Epoch 130/200\n",
            "34/34 [==============================] - 0s 2ms/step - loss: 3821.6624 - mae: 3821.6624\n",
            "Epoch 131/200\n",
            "34/34 [==============================] - 0s 2ms/step - loss: 3800.5740 - mae: 3800.5740\n",
            "Epoch 132/200\n",
            "34/34 [==============================] - 0s 2ms/step - loss: 3801.6428 - mae: 3801.6428\n",
            "Epoch 133/200\n",
            "34/34 [==============================] - 0s 2ms/step - loss: 3786.3772 - mae: 3786.3772\n",
            "Epoch 134/200\n",
            "34/34 [==============================] - 0s 2ms/step - loss: 3789.4119 - mae: 3789.4119\n",
            "Epoch 135/200\n",
            "34/34 [==============================] - 0s 2ms/step - loss: 3781.4324 - mae: 3781.4324\n",
            "Epoch 136/200\n",
            "34/34 [==============================] - 0s 2ms/step - loss: 3782.2891 - mae: 3782.2891\n",
            "Epoch 137/200\n",
            "34/34 [==============================] - 0s 2ms/step - loss: 3775.5417 - mae: 3775.5417\n",
            "Epoch 138/200\n",
            "34/34 [==============================] - 0s 2ms/step - loss: 3773.9990 - mae: 3773.9990\n",
            "Epoch 139/200\n",
            "34/34 [==============================] - 0s 2ms/step - loss: 3772.1292 - mae: 3772.1292\n",
            "Epoch 140/200\n",
            "34/34 [==============================] - 0s 2ms/step - loss: 3771.8455 - mae: 3771.8455\n",
            "Epoch 141/200\n",
            "34/34 [==============================] - 0s 2ms/step - loss: 3772.3508 - mae: 3772.3508\n",
            "Epoch 142/200\n",
            "34/34 [==============================] - 0s 2ms/step - loss: 3774.9966 - mae: 3774.9966\n",
            "Epoch 143/200\n",
            "34/34 [==============================] - 0s 2ms/step - loss: 3777.9707 - mae: 3777.9707\n",
            "Epoch 144/200\n",
            "34/34 [==============================] - 0s 2ms/step - loss: 3779.0820 - mae: 3779.0820\n",
            "Epoch 145/200\n",
            "34/34 [==============================] - 0s 2ms/step - loss: 3770.6094 - mae: 3770.6094\n",
            "Epoch 146/200\n",
            "34/34 [==============================] - 0s 2ms/step - loss: 3760.1528 - mae: 3760.1528\n",
            "Epoch 147/200\n",
            "34/34 [==============================] - 0s 3ms/step - loss: 3758.7363 - mae: 3758.7363\n",
            "Epoch 148/200\n",
            "34/34 [==============================] - 0s 2ms/step - loss: 3758.9817 - mae: 3758.9817\n",
            "Epoch 149/200\n",
            "34/34 [==============================] - 0s 2ms/step - loss: 3766.4253 - mae: 3766.4253\n",
            "Epoch 150/200\n",
            "34/34 [==============================] - 0s 2ms/step - loss: 3761.0906 - mae: 3761.0906\n",
            "Epoch 151/200\n",
            "34/34 [==============================] - 0s 2ms/step - loss: 3752.7532 - mae: 3752.7532\n",
            "Epoch 152/200\n",
            "34/34 [==============================] - 0s 2ms/step - loss: 3753.1938 - mae: 3753.1938\n",
            "Epoch 153/200\n",
            "34/34 [==============================] - 0s 2ms/step - loss: 3745.9517 - mae: 3745.9517\n",
            "Epoch 154/200\n",
            "34/34 [==============================] - 0s 2ms/step - loss: 3764.4719 - mae: 3764.4719\n",
            "Epoch 155/200\n",
            "34/34 [==============================] - 0s 2ms/step - loss: 3750.3525 - mae: 3750.3525\n",
            "Epoch 156/200\n",
            "34/34 [==============================] - 0s 2ms/step - loss: 3753.8833 - mae: 3753.8833\n",
            "Epoch 157/200\n",
            "34/34 [==============================] - 0s 2ms/step - loss: 3748.2639 - mae: 3748.2639\n",
            "Epoch 158/200\n",
            "34/34 [==============================] - 0s 2ms/step - loss: 3748.0732 - mae: 3748.0732\n",
            "Epoch 159/200\n",
            "34/34 [==============================] - 0s 2ms/step - loss: 3748.0461 - mae: 3748.0461\n",
            "Epoch 160/200\n",
            "34/34 [==============================] - 0s 2ms/step - loss: 3739.0884 - mae: 3739.0884\n",
            "Epoch 161/200\n",
            "34/34 [==============================] - 0s 2ms/step - loss: 3738.5085 - mae: 3738.5085\n",
            "Epoch 162/200\n",
            "34/34 [==============================] - 0s 2ms/step - loss: 3736.9333 - mae: 3736.9333\n",
            "Epoch 163/200\n",
            "34/34 [==============================] - 0s 2ms/step - loss: 3732.1228 - mae: 3732.1228\n",
            "Epoch 164/200\n",
            "34/34 [==============================] - 0s 2ms/step - loss: 3733.4358 - mae: 3733.4358\n",
            "Epoch 165/200\n",
            "34/34 [==============================] - 0s 2ms/step - loss: 3728.4636 - mae: 3728.4636\n",
            "Epoch 166/200\n",
            "34/34 [==============================] - 0s 2ms/step - loss: 3727.8508 - mae: 3727.8508\n",
            "Epoch 167/200\n",
            "34/34 [==============================] - 0s 2ms/step - loss: 3739.2056 - mae: 3739.2056\n",
            "Epoch 168/200\n",
            "34/34 [==============================] - 0s 2ms/step - loss: 3722.7844 - mae: 3722.7844\n",
            "Epoch 169/200\n",
            "34/34 [==============================] - 0s 2ms/step - loss: 3722.8438 - mae: 3722.8438\n",
            "Epoch 170/200\n",
            "34/34 [==============================] - 0s 2ms/step - loss: 3722.2969 - mae: 3722.2969\n",
            "Epoch 171/200\n",
            "34/34 [==============================] - 0s 3ms/step - loss: 3727.9814 - mae: 3727.9814\n",
            "Epoch 172/200\n",
            "34/34 [==============================] - 0s 2ms/step - loss: 3723.5632 - mae: 3723.5632\n",
            "Epoch 173/200\n",
            "34/34 [==============================] - 0s 2ms/step - loss: 3723.7224 - mae: 3723.7224\n",
            "Epoch 174/200\n",
            "34/34 [==============================] - 0s 2ms/step - loss: 3725.7009 - mae: 3725.7009\n",
            "Epoch 175/200\n",
            "34/34 [==============================] - 0s 2ms/step - loss: 3721.6418 - mae: 3721.6418\n",
            "Epoch 176/200\n",
            "34/34 [==============================] - 0s 2ms/step - loss: 3713.9978 - mae: 3713.9978\n",
            "Epoch 177/200\n",
            "34/34 [==============================] - 0s 2ms/step - loss: 3713.0574 - mae: 3713.0574\n",
            "Epoch 178/200\n",
            "34/34 [==============================] - 0s 2ms/step - loss: 3713.8550 - mae: 3713.8550\n",
            "Epoch 179/200\n",
            "34/34 [==============================] - 0s 2ms/step - loss: 3733.2988 - mae: 3733.2988\n",
            "Epoch 180/200\n",
            "34/34 [==============================] - 0s 2ms/step - loss: 3707.4136 - mae: 3707.4136\n",
            "Epoch 181/200\n",
            "34/34 [==============================] - 0s 3ms/step - loss: 3708.0764 - mae: 3708.0764\n",
            "Epoch 182/200\n",
            "34/34 [==============================] - 0s 3ms/step - loss: 3706.0020 - mae: 3706.0020\n",
            "Epoch 183/200\n",
            "34/34 [==============================] - 0s 2ms/step - loss: 3706.2749 - mae: 3706.2749\n",
            "Epoch 184/200\n",
            "34/34 [==============================] - 0s 3ms/step - loss: 3703.6399 - mae: 3703.6399\n",
            "Epoch 185/200\n",
            "34/34 [==============================] - 0s 3ms/step - loss: 3705.3169 - mae: 3705.3169\n",
            "Epoch 186/200\n",
            "34/34 [==============================] - 0s 3ms/step - loss: 3703.9863 - mae: 3703.9863\n",
            "Epoch 187/200\n",
            "34/34 [==============================] - 0s 2ms/step - loss: 3696.9116 - mae: 3696.9116\n",
            "Epoch 188/200\n",
            "34/34 [==============================] - 0s 2ms/step - loss: 3705.9985 - mae: 3705.9985\n",
            "Epoch 189/200\n",
            "34/34 [==============================] - 0s 2ms/step - loss: 3700.3347 - mae: 3700.3347\n",
            "Epoch 190/200\n",
            "34/34 [==============================] - 0s 2ms/step - loss: 3692.8584 - mae: 3692.8584\n",
            "Epoch 191/200\n",
            "34/34 [==============================] - 0s 2ms/step - loss: 3692.9080 - mae: 3692.9080\n",
            "Epoch 192/200\n",
            "34/34 [==============================] - 0s 2ms/step - loss: 3691.1025 - mae: 3691.1025\n",
            "Epoch 193/200\n",
            "34/34 [==============================] - 0s 3ms/step - loss: 3684.9771 - mae: 3684.9771\n",
            "Epoch 194/200\n",
            "34/34 [==============================] - 0s 2ms/step - loss: 3689.3884 - mae: 3689.3884\n",
            "Epoch 195/200\n",
            "34/34 [==============================] - 0s 2ms/step - loss: 3692.1167 - mae: 3692.1167\n",
            "Epoch 196/200\n",
            "34/34 [==============================] - 0s 2ms/step - loss: 3686.6523 - mae: 3686.6523\n",
            "Epoch 197/200\n",
            "34/34 [==============================] - 0s 2ms/step - loss: 3683.9600 - mae: 3683.9600\n",
            "Epoch 198/200\n",
            "34/34 [==============================] - 0s 3ms/step - loss: 3681.2375 - mae: 3681.2375\n",
            "Epoch 199/200\n",
            "34/34 [==============================] - 0s 2ms/step - loss: 3679.2178 - mae: 3679.2180\n",
            "Epoch 200/200\n",
            "34/34 [==============================] - 0s 2ms/step - loss: 3681.2725 - mae: 3681.2725\n"
          ]
        }
      ]
    },
    {
      "cell_type": "code",
      "source": [
        "insurance_model_3.evaluate(X_test, y_test)"
      ],
      "metadata": {
        "id": "lmGvcpn4fB76",
        "outputId": "d5aa7fb6-8a58-4862-89ae-715af7abc828",
        "colab": {
          "base_uri": "https://localhost:8080/"
        }
      },
      "execution_count": 46,
      "outputs": [
        {
          "output_type": "stream",
          "name": "stdout",
          "text": [
            "9/9 [==============================] - 0s 2ms/step - loss: 3504.7190 - mae: 3504.7190\n"
          ]
        },
        {
          "output_type": "execute_result",
          "data": {
            "text/plain": [
              "[3504.718994140625, 3504.718994140625]"
            ]
          },
          "metadata": {},
          "execution_count": 46
        }
      ]
    },
    {
      "cell_type": "code",
      "source": [
        "pd.DataFrame(history.history).plot()\n",
        "plt.xlable = \"epochs\"\n",
        "plt.ylabel = \"loss\""
      ],
      "metadata": {
        "id": "mbAE7DeLfx84",
        "outputId": "15acb807-684d-4250-f4f7-81f68cf8125e",
        "colab": {
          "base_uri": "https://localhost:8080/",
          "height": 265
        }
      },
      "execution_count": 47,
      "outputs": [
        {
          "output_type": "display_data",
          "data": {
            "text/plain": [
              "<Figure size 432x288 with 1 Axes>"
            ],
            "image/png": "[encoded data removed]"
          },
          "metadata": {
            "needs_background": "light"
          }
        }
      ]
    },
    {
      "cell_type": "code",
      "source": [
        "X[\"age\"].plot(kind='hist')"
      ],
      "metadata": {
        "id": "hnt9wbAygMJR",
        "outputId": "f63df333-b2e8-41e5-ab9c-4390345c59e4",
        "colab": {
          "base_uri": "https://localhost:8080/",
          "height": 282
        }
      },
      "execution_count": 48,
      "outputs": [
        {
          "output_type": "execute_result",
          "data": {
            "text/plain": [
              "<matplotlib.axes._subplots.AxesSubplot at 0x7f96594e3390>"
            ]
          },
          "metadata": {},
          "execution_count": 48
        },
        {
          "output_type": "display_data",
          "data": {
            "text/plain": [
              "<Figure size 432x288 with 1 Axes>"
            ],
            "image/png": "[encoded data removed]"
          },
          "metadata": {
            "needs_background": "light"
          }
        }
      ]
    },
    {
      "cell_type": "code",
      "source": [
        "X[\"bmi\"].plot(kind='hist')"
      ],
      "metadata": {
        "id": "qvY5QT7wnqAD",
        "outputId": "d49b7b93-fca0-4e3e-d774-679ba7215313",
        "colab": {
          "base_uri": "https://localhost:8080/",
          "height": 282
        }
      },
      "execution_count": 49,
      "outputs": [
        {
          "output_type": "execute_result",
          "data": {
            "text/plain": [
              "<matplotlib.axes._subplots.AxesSubplot at 0x7f96594136d0>"
            ]
          },
          "metadata": {},
          "execution_count": 49
        },
        {
          "output_type": "display_data",
          "data": {
            "text/plain": [
              "<Figure size 432x288 with 1 Axes>"
            ],
            "image/png": "[encoded data removed]"
          },
          "metadata": {
            "needs_background": "light"
          }
        }
      ]
    },
    {
      "cell_type": "code",
      "source": [
        "X[\"children\"].value_counts()"
      ],
      "metadata": {
        "id": "jXV4JarNn0Ka",
        "outputId": "6345066d-6e99-4ef3-980e-8a860f3d093f",
        "colab": {
          "base_uri": "https://localhost:8080/"
        }
      },
      "execution_count": 50,
      "outputs": [
        {
          "output_type": "execute_result",
          "data": {
            "text/plain": [
              "0    574\n",
              "1    324\n",
              "2    240\n",
              "3    157\n",
              "4     25\n",
              "5     18\n",
              "Name: children, dtype: int64"
            ]
          },
          "metadata": {},
          "execution_count": 50
        }
      ]
    }
  ]
}