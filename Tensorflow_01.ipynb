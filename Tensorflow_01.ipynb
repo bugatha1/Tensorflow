{
  "nbformat": 4,
  "nbformat_minor": 0,
  "metadata": {
    "colab": {
      "name": "Tensorflow_01.ipynb",
      "provenance": [],
      "authorship_tag": "ABX9TyMVUzpM3CgseohX6/AOzuUZ",
      "include_colab_link": true
    },
    "kernelspec": {
      "name": "python3",
      "display_name": "Python 3"
    },
    "language_info": {
      "name": "python"
    }
  },
  "cells": [
    {
      "cell_type": "markdown",
      "metadata": {
        "id": "view-in-github",
        "colab_type": "text"
      },
      "source": [
        "<a href=\"https://colab.research.google.com/github/bugatha1/Tensorflow/blob/main/Tensorflow_01.ipynb\" target=\"_parent\"><img src=\"https://colab.research.google.com/assets/colab-badge.svg\" alt=\"Open In Colab\"/></a>"
      ]
    },
    {
      "cell_type": "code",
      "execution_count": 1,
      "metadata": {
        "colab": {
          "base_uri": "https://localhost:8080/",
          "height": 35
        },
        "id": "XioNP-fWNz2Y",
        "outputId": "bfc18613-3174-4fb0-ca3f-efa27d27f7db"
      },
      "outputs": [
        {
          "output_type": "execute_result",
          "data": {
            "text/plain": [
              "'2.8.0'"
            ],
            "application/vnd.google.colaboratory.intrinsic+json": {
              "type": "string"
            }
          },
          "metadata": {},
          "execution_count": 1
        }
      ],
      "source": [
        "import tensorflow as tf\n",
        "tf.__version__"
      ]
    },
    {
      "cell_type": "code",
      "source": [
        "X = tf.range(-100, 100, 4)\n",
        "X"
      ],
      "metadata": {
        "colab": {
          "base_uri": "https://localhost:8080/"
        },
        "id": "1M07RZKZN8Dw",
        "outputId": "f4f70556-ca73-4fa3-bf73-0c9b243d3ceb"
      },
      "execution_count": 2,
      "outputs": [
        {
          "output_type": "execute_result",
          "data": {
            "text/plain": [
              "<tf.Tensor: shape=(50,), dtype=int32, numpy=\n",
              "array([-100,  -96,  -92,  -88,  -84,  -80,  -76,  -72,  -68,  -64,  -60,\n",
              "        -56,  -52,  -48,  -44,  -40,  -36,  -32,  -28,  -24,  -20,  -16,\n",
              "        -12,   -8,   -4,    0,    4,    8,   12,   16,   20,   24,   28,\n",
              "         32,   36,   40,   44,   48,   52,   56,   60,   64,   68,   72,\n",
              "         76,   80,   84,   88,   92,   96], dtype=int32)>"
            ]
          },
          "metadata": {},
          "execution_count": 2
        }
      ]
    },
    {
      "cell_type": "code",
      "source": [
        "y = X + 10\n",
        "y"
      ],
      "metadata": {
        "colab": {
          "base_uri": "https://localhost:8080/"
        },
        "id": "mV1liQhFOs5I",
        "outputId": "e8d84f81-5932-4960-eeab-86dbfe7316d5"
      },
      "execution_count": 3,
      "outputs": [
        {
          "output_type": "execute_result",
          "data": {
            "text/plain": [
              "<tf.Tensor: shape=(50,), dtype=int32, numpy=\n",
              "array([-90, -86, -82, -78, -74, -70, -66, -62, -58, -54, -50, -46, -42,\n",
              "       -38, -34, -30, -26, -22, -18, -14, -10,  -6,  -2,   2,   6,  10,\n",
              "        14,  18,  22,  26,  30,  34,  38,  42,  46,  50,  54,  58,  62,\n",
              "        66,  70,  74,  78,  82,  86,  90,  94,  98, 102, 106], dtype=int32)>"
            ]
          },
          "metadata": {},
          "execution_count": 3
        }
      ]
    },
    {
      "cell_type": "code",
      "source": [
        "X_train = X[:40]\n",
        "X_test = X[40:]\n",
        "\n",
        "y_train = y[:40]\n",
        "y_test = y[40:]"
      ],
      "metadata": {
        "id": "OkvOybZNRgbQ"
      },
      "execution_count": 4,
      "outputs": []
    },
    {
      "cell_type": "code",
      "source": [
        "model = tf.keras.Sequential([\n",
        "  tf.keras.layers.Dense(10, input_shape=[1], name='input_layer'),\n",
        "  tf.keras.layers.Dense(1, name='output_layer')                             \n",
        "])\n",
        "\n",
        "model.compile(loss=tf.keras.losses.mae,\n",
        "              optimizer = tf.keras.optimizers.SGD(),\n",
        "              metrics=['mae'])"
      ],
      "metadata": {
        "id": "C8lSd6B4OxO3"
      },
      "execution_count": 5,
      "outputs": []
    },
    {
      "cell_type": "code",
      "source": [
        "model.summary()"
      ],
      "metadata": {
        "colab": {
          "base_uri": "https://localhost:8080/"
        },
        "id": "_48JBRZlPoR3",
        "outputId": "861a1afe-5eea-4de2-aa35-0d813755f6cc"
      },
      "execution_count": 6,
      "outputs": [
        {
          "output_type": "stream",
          "name": "stdout",
          "text": [
            "Model: \"sequential\"\n",
            "_________________________________________________________________\n",
            " Layer (type)                Output Shape              Param #   \n",
            "=================================================================\n",
            " input_layer (Dense)         (None, 10)                20        \n",
            "                                                                 \n",
            " output_layer (Dense)        (None, 1)                 11        \n",
            "                                                                 \n",
            "=================================================================\n",
            "Total params: 31\n",
            "Trainable params: 31\n",
            "Non-trainable params: 0\n",
            "_________________________________________________________________\n"
          ]
        }
      ]
    },
    {
      "cell_type": "markdown",
      "source": [
        "Total params : total number of parameters in the model.<br>\n",
        "Trainable params: these are the parameters (patterns) the model can update as it trains.<br>\n",
        "Non-Trainalbe params : these are the parameters aren't updated during training (this is typically when you bring in already learn patterns or parameters from other models during **transfer learning** <br>\n"
      ],
      "metadata": {
        "id": "BwpJyggHQfyF"
      }
    },
    {
      "cell_type": "code",
      "source": [
        "model.fit(X_train, y_train, epochs=100, verbose=1)"
      ],
      "metadata": {
        "id": "iJPkPP7ZR7ys",
        "colab": {
          "base_uri": "https://localhost:8080/"
        },
        "outputId": "5acaa145-7ef4-4042-929d-022e811105ed"
      },
      "execution_count": 7,
      "outputs": [
        {
          "output_type": "stream",
          "name": "stdout",
          "text": [
            "Epoch 1/100\n",
            "2/2 [==============================] - 1s 6ms/step - loss: 35.9509 - mae: 35.9509\n",
            "Epoch 2/100\n",
            "2/2 [==============================] - 0s 6ms/step - loss: 28.9044 - mae: 28.9044\n",
            "Epoch 3/100\n",
            "2/2 [==============================] - 0s 7ms/step - loss: 20.3825 - mae: 20.3825\n",
            "Epoch 4/100\n",
            "2/2 [==============================] - 0s 6ms/step - loss: 17.3335 - mae: 17.3335\n",
            "Epoch 5/100\n",
            "2/2 [==============================] - 0s 7ms/step - loss: 25.9813 - mae: 25.9813\n",
            "Epoch 6/100\n",
            "2/2 [==============================] - 0s 8ms/step - loss: 19.6677 - mae: 19.6677\n",
            "Epoch 7/100\n",
            "2/2 [==============================] - 0s 10ms/step - loss: 13.5643 - mae: 13.5643\n",
            "Epoch 8/100\n",
            "2/2 [==============================] - 0s 10ms/step - loss: 12.0685 - mae: 12.0685\n",
            "Epoch 9/100\n",
            "2/2 [==============================] - 0s 11ms/step - loss: 11.3429 - mae: 11.3429\n",
            "Epoch 10/100\n",
            "2/2 [==============================] - 0s 6ms/step - loss: 13.7579 - mae: 13.7579\n",
            "Epoch 11/100\n",
            "2/2 [==============================] - 0s 6ms/step - loss: 17.3014 - mae: 17.3014\n",
            "Epoch 12/100\n",
            "2/2 [==============================] - 0s 6ms/step - loss: 26.0703 - mae: 26.0703\n",
            "Epoch 13/100\n",
            "2/2 [==============================] - 0s 5ms/step - loss: 25.7392 - mae: 25.7392\n",
            "Epoch 14/100\n",
            "2/2 [==============================] - 0s 6ms/step - loss: 8.9360 - mae: 8.9360\n",
            "Epoch 15/100\n",
            "2/2 [==============================] - 0s 5ms/step - loss: 14.7522 - mae: 14.7522\n",
            "Epoch 16/100\n",
            "2/2 [==============================] - 0s 6ms/step - loss: 8.4278 - mae: 8.4278\n",
            "Epoch 17/100\n",
            "2/2 [==============================] - 0s 6ms/step - loss: 18.9300 - mae: 18.9300\n",
            "Epoch 18/100\n",
            "2/2 [==============================] - 0s 6ms/step - loss: 23.5347 - mae: 23.5347\n",
            "Epoch 19/100\n",
            "2/2 [==============================] - 0s 6ms/step - loss: 22.9741 - mae: 22.9741\n",
            "Epoch 20/100\n",
            "2/2 [==============================] - 0s 6ms/step - loss: 18.5746 - mae: 18.5746\n",
            "Epoch 21/100\n",
            "2/2 [==============================] - 0s 7ms/step - loss: 8.4585 - mae: 8.4585\n",
            "Epoch 22/100\n",
            "2/2 [==============================] - 0s 7ms/step - loss: 14.7224 - mae: 14.7224\n",
            "Epoch 23/100\n",
            "2/2 [==============================] - 0s 7ms/step - loss: 21.4109 - mae: 21.4109\n",
            "Epoch 24/100\n",
            "2/2 [==============================] - 0s 6ms/step - loss: 12.5644 - mae: 12.5644\n",
            "Epoch 25/100\n",
            "2/2 [==============================] - 0s 6ms/step - loss: 21.5765 - mae: 21.5765\n",
            "Epoch 26/100\n",
            "2/2 [==============================] - 0s 6ms/step - loss: 18.7047 - mae: 18.7047\n",
            "Epoch 27/100\n",
            "2/2 [==============================] - 0s 7ms/step - loss: 12.2869 - mae: 12.2869\n",
            "Epoch 28/100\n",
            "2/2 [==============================] - 0s 5ms/step - loss: 11.4072 - mae: 11.4072\n",
            "Epoch 29/100\n",
            "2/2 [==============================] - 0s 6ms/step - loss: 22.5754 - mae: 22.5754\n",
            "Epoch 30/100\n",
            "2/2 [==============================] - 0s 14ms/step - loss: 10.7705 - mae: 10.7705\n",
            "Epoch 31/100\n",
            "2/2 [==============================] - 0s 6ms/step - loss: 13.6227 - mae: 13.6227\n",
            "Epoch 32/100\n",
            "2/2 [==============================] - 0s 6ms/step - loss: 12.2010 - mae: 12.2010\n",
            "Epoch 33/100\n",
            "2/2 [==============================] - 0s 5ms/step - loss: 19.3198 - mae: 19.3198\n",
            "Epoch 34/100\n",
            "2/2 [==============================] - 0s 5ms/step - loss: 9.8629 - mae: 9.8629\n",
            "Epoch 35/100\n",
            "2/2 [==============================] - 0s 6ms/step - loss: 18.5702 - mae: 18.5702\n",
            "Epoch 36/100\n",
            "2/2 [==============================] - 0s 6ms/step - loss: 10.0361 - mae: 10.0361\n",
            "Epoch 37/100\n",
            "2/2 [==============================] - 0s 6ms/step - loss: 33.3539 - mae: 33.3539\n",
            "Epoch 38/100\n",
            "2/2 [==============================] - 0s 7ms/step - loss: 7.2372 - mae: 7.2372\n",
            "Epoch 39/100\n",
            "2/2 [==============================] - 0s 7ms/step - loss: 11.1042 - mae: 11.1042\n",
            "Epoch 40/100\n",
            "2/2 [==============================] - 0s 7ms/step - loss: 24.8933 - mae: 24.8933\n",
            "Epoch 41/100\n",
            "2/2 [==============================] - 0s 6ms/step - loss: 9.2520 - mae: 9.2520\n",
            "Epoch 42/100\n",
            "2/2 [==============================] - 0s 6ms/step - loss: 25.0682 - mae: 25.0682\n",
            "Epoch 43/100\n",
            "2/2 [==============================] - 0s 7ms/step - loss: 19.9443 - mae: 19.9443\n",
            "Epoch 44/100\n",
            "2/2 [==============================] - 0s 7ms/step - loss: 10.6498 - mae: 10.6498\n",
            "Epoch 45/100\n",
            "2/2 [==============================] - 0s 7ms/step - loss: 24.5050 - mae: 24.5050\n",
            "Epoch 46/100\n",
            "2/2 [==============================] - 0s 6ms/step - loss: 11.6374 - mae: 11.6374\n",
            "Epoch 47/100\n",
            "2/2 [==============================] - 0s 7ms/step - loss: 14.9700 - mae: 14.9700\n",
            "Epoch 48/100\n",
            "2/2 [==============================] - 0s 6ms/step - loss: 11.3260 - mae: 11.3260\n",
            "Epoch 49/100\n",
            "2/2 [==============================] - 0s 7ms/step - loss: 17.2729 - mae: 17.2729\n",
            "Epoch 50/100\n",
            "2/2 [==============================] - 0s 6ms/step - loss: 9.4075 - mae: 9.4075\n",
            "Epoch 51/100\n",
            "2/2 [==============================] - 0s 7ms/step - loss: 11.6687 - mae: 11.6687\n",
            "Epoch 52/100\n",
            "2/2 [==============================] - 0s 7ms/step - loss: 12.2400 - mae: 12.2400\n",
            "Epoch 53/100\n",
            "2/2 [==============================] - 0s 8ms/step - loss: 24.1021 - mae: 24.1021\n",
            "Epoch 54/100\n",
            "2/2 [==============================] - 0s 11ms/step - loss: 8.9771 - mae: 8.9771\n",
            "Epoch 55/100\n",
            "2/2 [==============================] - 0s 6ms/step - loss: 9.7261 - mae: 9.7261\n",
            "Epoch 56/100\n",
            "2/2 [==============================] - 0s 6ms/step - loss: 10.4462 - mae: 10.4462\n",
            "Epoch 57/100\n",
            "2/2 [==============================] - 0s 6ms/step - loss: 13.6830 - mae: 13.6830\n",
            "Epoch 58/100\n",
            "2/2 [==============================] - 0s 12ms/step - loss: 12.3123 - mae: 12.3123\n",
            "Epoch 59/100\n",
            "2/2 [==============================] - 0s 5ms/step - loss: 18.8046 - mae: 18.8046\n",
            "Epoch 60/100\n",
            "2/2 [==============================] - 0s 6ms/step - loss: 13.5150 - mae: 13.5150\n",
            "Epoch 61/100\n",
            "2/2 [==============================] - 0s 6ms/step - loss: 13.3923 - mae: 13.3923\n",
            "Epoch 62/100\n",
            "2/2 [==============================] - 0s 8ms/step - loss: 9.5208 - mae: 9.5208\n",
            "Epoch 63/100\n",
            "2/2 [==============================] - 0s 6ms/step - loss: 20.6154 - mae: 20.6154\n",
            "Epoch 64/100\n",
            "2/2 [==============================] - 0s 7ms/step - loss: 17.6865 - mae: 17.6865\n",
            "Epoch 65/100\n",
            "2/2 [==============================] - 0s 6ms/step - loss: 12.8592 - mae: 12.8592\n",
            "Epoch 66/100\n",
            "2/2 [==============================] - 0s 7ms/step - loss: 23.6772 - mae: 23.6772\n",
            "Epoch 67/100\n",
            "2/2 [==============================] - 0s 6ms/step - loss: 13.8040 - mae: 13.8040\n",
            "Epoch 68/100\n",
            "2/2 [==============================] - 0s 9ms/step - loss: 28.3389 - mae: 28.3389\n",
            "Epoch 69/100\n",
            "2/2 [==============================] - 0s 6ms/step - loss: 7.6736 - mae: 7.6736\n",
            "Epoch 70/100\n",
            "2/2 [==============================] - 0s 10ms/step - loss: 15.3961 - mae: 15.3961\n",
            "Epoch 71/100\n",
            "2/2 [==============================] - 0s 10ms/step - loss: 11.2053 - mae: 11.2053\n",
            "Epoch 72/100\n",
            "2/2 [==============================] - 0s 7ms/step - loss: 9.7503 - mae: 9.7503\n",
            "Epoch 73/100\n",
            "2/2 [==============================] - 0s 8ms/step - loss: 13.0004 - mae: 13.0004\n",
            "Epoch 74/100\n",
            "2/2 [==============================] - 0s 9ms/step - loss: 9.9639 - mae: 9.9639\n",
            "Epoch 75/100\n",
            "2/2 [==============================] - 0s 10ms/step - loss: 23.2205 - mae: 23.2205\n",
            "Epoch 76/100\n",
            "2/2 [==============================] - 0s 8ms/step - loss: 9.4187 - mae: 9.4187\n",
            "Epoch 77/100\n",
            "2/2 [==============================] - 0s 9ms/step - loss: 24.4322 - mae: 24.4322\n",
            "Epoch 78/100\n",
            "2/2 [==============================] - 0s 8ms/step - loss: 9.6218 - mae: 9.6218\n",
            "Epoch 79/100\n",
            "2/2 [==============================] - 0s 8ms/step - loss: 16.5650 - mae: 16.5650\n",
            "Epoch 80/100\n",
            "2/2 [==============================] - 0s 6ms/step - loss: 12.4662 - mae: 12.4662\n",
            "Epoch 81/100\n",
            "2/2 [==============================] - 0s 8ms/step - loss: 26.1314 - mae: 26.1314\n",
            "Epoch 82/100\n",
            "2/2 [==============================] - 0s 9ms/step - loss: 6.5794 - mae: 6.5794\n",
            "Epoch 83/100\n",
            "2/2 [==============================] - 0s 8ms/step - loss: 9.6580 - mae: 9.6580\n",
            "Epoch 84/100\n",
            "2/2 [==============================] - 0s 8ms/step - loss: 29.6726 - mae: 29.6726\n",
            "Epoch 85/100\n",
            "2/2 [==============================] - 0s 8ms/step - loss: 8.3353 - mae: 8.3353\n",
            "Epoch 86/100\n",
            "2/2 [==============================] - 0s 7ms/step - loss: 9.6464 - mae: 9.6464\n",
            "Epoch 87/100\n",
            "2/2 [==============================] - 0s 6ms/step - loss: 12.6884 - mae: 12.6884\n",
            "Epoch 88/100\n",
            "2/2 [==============================] - 0s 7ms/step - loss: 18.5428 - mae: 18.5428\n",
            "Epoch 89/100\n",
            "2/2 [==============================] - 0s 7ms/step - loss: 11.0635 - mae: 11.0635\n",
            "Epoch 90/100\n",
            "2/2 [==============================] - 0s 7ms/step - loss: 11.6202 - mae: 11.6202\n",
            "Epoch 91/100\n",
            "2/2 [==============================] - 0s 6ms/step - loss: 9.1748 - mae: 9.1748\n",
            "Epoch 92/100\n",
            "2/2 [==============================] - 0s 8ms/step - loss: 38.7998 - mae: 38.7998\n",
            "Epoch 93/100\n",
            "2/2 [==============================] - 0s 14ms/step - loss: 10.4039 - mae: 10.4039\n",
            "Epoch 94/100\n",
            "2/2 [==============================] - 0s 5ms/step - loss: 8.8338 - mae: 8.8338\n",
            "Epoch 95/100\n",
            "2/2 [==============================] - 0s 6ms/step - loss: 29.2826 - mae: 29.2826\n",
            "Epoch 96/100\n",
            "2/2 [==============================] - 0s 5ms/step - loss: 27.4203 - mae: 27.4203\n",
            "Epoch 97/100\n",
            "2/2 [==============================] - 0s 5ms/step - loss: 9.7348 - mae: 9.7348\n",
            "Epoch 98/100\n",
            "2/2 [==============================] - 0s 6ms/step - loss: 14.1861 - mae: 14.1861\n",
            "Epoch 99/100\n",
            "2/2 [==============================] - 0s 10ms/step - loss: 8.5298 - mae: 8.5298\n",
            "Epoch 100/100\n",
            "2/2 [==============================] - 0s 7ms/step - loss: 13.6267 - mae: 13.6267\n"
          ]
        },
        {
          "output_type": "execute_result",
          "data": {
            "text/plain": [
              "<keras.callbacks.History at 0x7f403795b410>"
            ]
          },
          "metadata": {},
          "execution_count": 7
        }
      ]
    },
    {
      "cell_type": "code",
      "source": [
        "model.summary()"
      ],
      "metadata": {
        "colab": {
          "base_uri": "https://localhost:8080/"
        },
        "id": "z9SLIMamSel7",
        "outputId": "3ea2d3cc-9292-47da-fdff-20efa5e90d4e"
      },
      "execution_count": 8,
      "outputs": [
        {
          "output_type": "stream",
          "name": "stdout",
          "text": [
            "Model: \"sequential\"\n",
            "_________________________________________________________________\n",
            " Layer (type)                Output Shape              Param #   \n",
            "=================================================================\n",
            " input_layer (Dense)         (None, 10)                20        \n",
            "                                                                 \n",
            " output_layer (Dense)        (None, 1)                 11        \n",
            "                                                                 \n",
            "=================================================================\n",
            "Total params: 31\n",
            "Trainable params: 31\n",
            "Non-trainable params: 0\n",
            "_________________________________________________________________\n"
          ]
        }
      ]
    },
    {
      "cell_type": "code",
      "source": [
        "from tensorflow.keras.utils import plot_model\n",
        "\n",
        "plot_model(model = model, show_shapes=True)"
      ],
      "metadata": {
        "colab": {
          "base_uri": "https://localhost:8080/",
          "height": 312
        },
        "id": "LWfe9zYLSuaL",
        "outputId": "7e79bbfb-ba2c-4983-c7c1-2ba98be27887"
      },
      "execution_count": 9,
      "outputs": [
        {
          "output_type": "execute_result",
          "data": {
            "text/plain": [
              "<IPython.core.display.Image object>"
            ],
            "image/png": "[encoded data removed]"
          },
          "metadata": {},
          "execution_count": 9
        }
      ]
    },
    {
      "cell_type": "code",
      "source": [
        "y_pred = model.predict(X_test)\n",
        "y_pred"
      ],
      "metadata": {
        "colab": {
          "base_uri": "https://localhost:8080/"
        },
        "id": "lrbo4HInTOkj",
        "outputId": "a08a2cdc-91c1-45f6-dbba-4e9d25a8bbcf"
      },
      "execution_count": 10,
      "outputs": [
        {
          "output_type": "execute_result",
          "data": {
            "text/plain": [
              "array([[39.4056  ],\n",
              "       [41.933693],\n",
              "       [44.461777],\n",
              "       [46.989864],\n",
              "       [49.51795 ],\n",
              "       [52.046036],\n",
              "       [54.574123],\n",
              "       [57.10221 ],\n",
              "       [59.6303  ],\n",
              "       [62.158382]], dtype=float32)"
            ]
          },
          "metadata": {},
          "execution_count": 10
        }
      ]
    },
    {
      "cell_type": "code",
      "source": [
        "y_test"
      ],
      "metadata": {
        "colab": {
          "base_uri": "https://localhost:8080/"
        },
        "id": "xwy0KPfImXGE",
        "outputId": "e3a00c09-5457-4827-b8fd-d2266ee74d63"
      },
      "execution_count": 11,
      "outputs": [
        {
          "output_type": "execute_result",
          "data": {
            "text/plain": [
              "<tf.Tensor: shape=(10,), dtype=int32, numpy=array([ 70,  74,  78,  82,  86,  90,  94,  98, 102, 106], dtype=int32)>"
            ]
          },
          "metadata": {},
          "execution_count": 11
        }
      ]
    },
    {
      "cell_type": "code",
      "source": [
        "import matplotlib.pyplot as plt\n",
        "\n",
        "def plot_predictions(train_data=X_train,\n",
        "                     train_labels = y_train,\n",
        "                     test_data = X_test,\n",
        "                     test_labels = y_test,\n",
        "                     predictions = y_pred):\n",
        "  plt.figure(figsize=(10, 7))\n",
        "  plt.scatter(train_data, train_labels, c='r', label='training data')\n",
        "  plt.scatter(test_data, test_labels, c='b', label='testing data')\n",
        "  plt.scatter(test_data, predictions, c='g', label='predicton data')\n",
        "  plt.legend();\n"
      ],
      "metadata": {
        "id": "3mi3_RVZmZPi"
      },
      "execution_count": 12,
      "outputs": []
    },
    {
      "cell_type": "code",
      "source": [
        "plot_predictions()"
      ],
      "metadata": {
        "colab": {
          "base_uri": "https://localhost:8080/",
          "height": 428
        },
        "id": "-eVsST-EobRq",
        "outputId": "ad30de6e-aaa1-4282-eae8-0484cacd3745"
      },
      "execution_count": 13,
      "outputs": [
        {
          "output_type": "display_data",
          "data": {
            "text/plain": [
              "<Figure size 720x504 with 1 Axes>"
            ],
            "image/png": "[encoded data removed]"
          },
          "metadata": {
            "needs_background": "light"
          }
        }
      ]
    },
    {
      "cell_type": "code",
      "source": [
        "model.evaluate(X_test, y_test)"
      ],
      "metadata": {
        "id": "9a5JAKxcor8p",
        "colab": {
          "base_uri": "https://localhost:8080/"
        },
        "outputId": "a1154afd-ff6c-4ddb-82a0-6b34c8ccb1ea"
      },
      "execution_count": 14,
      "outputs": [
        {
          "output_type": "stream",
          "name": "stdout",
          "text": [
            "1/1 [==============================] - 0s 159ms/step - loss: 37.2180 - mae: 37.2180\n"
          ]
        },
        {
          "output_type": "execute_result",
          "data": {
            "text/plain": [
              "[37.2180061340332, 37.2180061340332]"
            ]
          },
          "metadata": {},
          "execution_count": 14
        }
      ]
    },
    {
      "cell_type": "code",
      "source": [
        "tf.metrics.mean_absolute_error(y_true=y_test, y_pred=y_pred)"
      ],
      "metadata": {
        "colab": {
          "base_uri": "https://localhost:8080/"
        },
        "id": "QLV_TfDy6jtE",
        "outputId": "ef2b8ec6-558b-43d2-d877-6fcb6c3eff37"
      },
      "execution_count": 15,
      "outputs": [
        {
          "output_type": "execute_result",
          "data": {
            "text/plain": [
              "<tf.Tensor: shape=(10,), dtype=float32, numpy=\n",
              "array([48.5944  , 46.066307, 43.538223, 41.010136, 38.48205 , 35.953964,\n",
              "       33.425877, 30.89779 , 28.369701, 25.841618], dtype=float32)>"
            ]
          },
          "metadata": {},
          "execution_count": 15
        }
      ]
    },
    {
      "cell_type": "code",
      "source": [
        "y_test.shape, y_pred.shape"
      ],
      "metadata": {
        "colab": {
          "base_uri": "https://localhost:8080/"
        },
        "id": "WxGqU9Lb86YP",
        "outputId": "d31555d9-15dd-448c-ddd5-4aea04cc386d"
      },
      "execution_count": 16,
      "outputs": [
        {
          "output_type": "execute_result",
          "data": {
            "text/plain": [
              "(TensorShape([10]), (10, 1))"
            ]
          },
          "metadata": {},
          "execution_count": 16
        }
      ]
    },
    {
      "cell_type": "code",
      "source": [
        "tf.metrics.mean_absolute_error(y_true=y_test, y_pred=tf.squeeze(y_pred))"
      ],
      "metadata": {
        "colab": {
          "base_uri": "https://localhost:8080/"
        },
        "id": "JNxln7ME74Ah",
        "outputId": "1a88e1f8-24e7-4541-90fd-a5d47a3333ae"
      },
      "execution_count": 17,
      "outputs": [
        {
          "output_type": "execute_result",
          "data": {
            "text/plain": [
              "<tf.Tensor: shape=(), dtype=float32, numpy=37.218006>"
            ]
          },
          "metadata": {},
          "execution_count": 17
        }
      ]
    },
    {
      "cell_type": "markdown",
      "source": [
        ""
      ],
      "metadata": {
        "id": "CAcRFG0s9Ruu"
      }
    },
    {
      "cell_type": "code",
      "source": [
        "tf.metrics.mean_squared_error(y_true=y_test, y_pred=tf.squeeze(y_pred))"
      ],
      "metadata": {
        "colab": {
          "base_uri": "https://localhost:8080/"
        },
        "id": "wZcI7Oek8aoR",
        "outputId": "9e75a08e-2943-4388-bc93-297f0e87eebd"
      },
      "execution_count": 18,
      "outputs": [
        {
          "output_type": "execute_result",
          "data": {
            "text/plain": [
              "<tf.Tensor: shape=(), dtype=float32, numpy=1403.054>"
            ]
          },
          "metadata": {},
          "execution_count": 18
        }
      ]
    },
    {
      "cell_type": "code",
      "source": [
        "X_train, y_train"
      ],
      "metadata": {
        "colab": {
          "base_uri": "https://localhost:8080/"
        },
        "id": "ryiqlIM19UAh",
        "outputId": "f395b1ed-9743-4252-aaac-cc2598865cc3"
      },
      "execution_count": 19,
      "outputs": [
        {
          "output_type": "execute_result",
          "data": {
            "text/plain": [
              "(<tf.Tensor: shape=(40,), dtype=int32, numpy=\n",
              " array([-100,  -96,  -92,  -88,  -84,  -80,  -76,  -72,  -68,  -64,  -60,\n",
              "         -56,  -52,  -48,  -44,  -40,  -36,  -32,  -28,  -24,  -20,  -16,\n",
              "         -12,   -8,   -4,    0,    4,    8,   12,   16,   20,   24,   28,\n",
              "          32,   36,   40,   44,   48,   52,   56], dtype=int32)>,\n",
              " <tf.Tensor: shape=(40,), dtype=int32, numpy=\n",
              " array([-90, -86, -82, -78, -74, -70, -66, -62, -58, -54, -50, -46, -42,\n",
              "        -38, -34, -30, -26, -22, -18, -14, -10,  -6,  -2,   2,   6,  10,\n",
              "         14,  18,  22,  26,  30,  34,  38,  42,  46,  50,  54,  58,  62,\n",
              "         66], dtype=int32)>)"
            ]
          },
          "metadata": {},
          "execution_count": 19
        }
      ]
    },
    {
      "cell_type": "code",
      "source": [
        "tf.random.set_seed = 42\n",
        "\n",
        "model = tf.keras.Sequential([\n",
        "  tf.keras.layers.Dense(1)                             \n",
        "])\n",
        "\n",
        "model.compile(loss=tf.keras.losses.mae,\n",
        "              optimizer=tf.keras.optimizers.SGD(),\n",
        "              metrics=['mae'])\n",
        "\n",
        "model.fit(tf.expand_dims(X_train, axis=1), y_train, epochs=100)"
      ],
      "metadata": {
        "colab": {
          "base_uri": "https://localhost:8080/"
        },
        "id": "pRnY_ADKEM27",
        "outputId": "7a62057d-6dfb-4964-e395-edf2def683af"
      },
      "execution_count": 20,
      "outputs": [
        {
          "output_type": "stream",
          "name": "stdout",
          "text": [
            "Epoch 1/100\n",
            "2/2 [==============================] - 0s 8ms/step - loss: 78.2861 - mae: 78.2861\n",
            "Epoch 2/100\n",
            "2/2 [==============================] - 0s 6ms/step - loss: 36.7438 - mae: 36.7438\n",
            "Epoch 3/100\n",
            "2/2 [==============================] - 0s 6ms/step - loss: 7.7582 - mae: 7.7582\n",
            "Epoch 4/100\n",
            "2/2 [==============================] - 0s 4ms/step - loss: 13.8723 - mae: 13.8723\n",
            "Epoch 5/100\n",
            "2/2 [==============================] - 0s 7ms/step - loss: 10.3980 - mae: 10.3980\n",
            "Epoch 6/100\n",
            "2/2 [==============================] - 0s 6ms/step - loss: 9.0588 - mae: 9.0588\n",
            "Epoch 7/100\n",
            "2/2 [==============================] - 0s 8ms/step - loss: 15.2751 - mae: 15.2751\n",
            "Epoch 8/100\n",
            "2/2 [==============================] - 0s 6ms/step - loss: 13.7432 - mae: 13.7432\n",
            "Epoch 9/100\n",
            "2/2 [==============================] - 0s 7ms/step - loss: 8.5575 - mae: 8.5575\n",
            "Epoch 10/100\n",
            "2/2 [==============================] - 0s 7ms/step - loss: 10.5319 - mae: 10.5319\n",
            "Epoch 11/100\n",
            "2/2 [==============================] - 0s 6ms/step - loss: 8.8150 - mae: 8.8150\n",
            "Epoch 12/100\n",
            "2/2 [==============================] - 0s 9ms/step - loss: 7.6631 - mae: 7.6631\n",
            "Epoch 13/100\n",
            "2/2 [==============================] - 0s 12ms/step - loss: 7.7585 - mae: 7.7585\n",
            "Epoch 14/100\n",
            "2/2 [==============================] - 0s 5ms/step - loss: 7.5993 - mae: 7.5993\n",
            "Epoch 15/100\n",
            "2/2 [==============================] - 0s 12ms/step - loss: 12.2559 - mae: 12.2559\n",
            "Epoch 16/100\n",
            "2/2 [==============================] - 0s 7ms/step - loss: 9.3774 - mae: 9.3774\n",
            "Epoch 17/100\n",
            "2/2 [==============================] - 0s 5ms/step - loss: 11.7939 - mae: 11.7939\n",
            "Epoch 18/100\n",
            "2/2 [==============================] - 0s 5ms/step - loss: 12.0391 - mae: 12.0391\n",
            "Epoch 19/100\n",
            "2/2 [==============================] - 0s 10ms/step - loss: 11.8186 - mae: 11.8186\n",
            "Epoch 20/100\n",
            "2/2 [==============================] - 0s 6ms/step - loss: 14.4750 - mae: 14.4750\n",
            "Epoch 21/100\n",
            "2/2 [==============================] - 0s 5ms/step - loss: 12.3254 - mae: 12.3254\n",
            "Epoch 22/100\n",
            "2/2 [==============================] - 0s 5ms/step - loss: 9.8186 - mae: 9.8186\n",
            "Epoch 23/100\n",
            "2/2 [==============================] - 0s 6ms/step - loss: 8.4295 - mae: 8.4295\n",
            "Epoch 24/100\n",
            "2/2 [==============================] - 0s 7ms/step - loss: 8.8012 - mae: 8.8012\n",
            "Epoch 25/100\n",
            "2/2 [==============================] - 0s 5ms/step - loss: 12.9728 - mae: 12.9728\n",
            "Epoch 26/100\n",
            "2/2 [==============================] - 0s 5ms/step - loss: 9.1139 - mae: 9.1139\n",
            "Epoch 27/100\n",
            "2/2 [==============================] - 0s 5ms/step - loss: 8.5192 - mae: 8.5192\n",
            "Epoch 28/100\n",
            "2/2 [==============================] - 0s 10ms/step - loss: 9.4126 - mae: 9.4126\n",
            "Epoch 29/100\n",
            "2/2 [==============================] - 0s 7ms/step - loss: 11.1517 - mae: 11.1517\n",
            "Epoch 30/100\n",
            "2/2 [==============================] - 0s 7ms/step - loss: 10.7435 - mae: 10.7435\n",
            "Epoch 31/100\n",
            "2/2 [==============================] - 0s 8ms/step - loss: 13.9766 - mae: 13.9766\n",
            "Epoch 32/100\n",
            "2/2 [==============================] - 0s 5ms/step - loss: 13.9564 - mae: 13.9564\n",
            "Epoch 33/100\n",
            "2/2 [==============================] - 0s 6ms/step - loss: 14.9791 - mae: 14.9791\n",
            "Epoch 34/100\n",
            "2/2 [==============================] - 0s 11ms/step - loss: 7.8945 - mae: 7.8945\n",
            "Epoch 35/100\n",
            "2/2 [==============================] - 0s 5ms/step - loss: 11.2598 - mae: 11.2598\n",
            "Epoch 36/100\n",
            "2/2 [==============================] - 0s 4ms/step - loss: 9.5145 - mae: 9.5145\n",
            "Epoch 37/100\n",
            "2/2 [==============================] - 0s 7ms/step - loss: 8.4987 - mae: 8.4987\n",
            "Epoch 38/100\n",
            "2/2 [==============================] - 0s 7ms/step - loss: 11.7232 - mae: 11.7232\n",
            "Epoch 39/100\n",
            "2/2 [==============================] - 0s 5ms/step - loss: 20.5065 - mae: 20.5065\n",
            "Epoch 40/100\n",
            "2/2 [==============================] - 0s 10ms/step - loss: 9.0096 - mae: 9.0096\n",
            "Epoch 41/100\n",
            "2/2 [==============================] - 0s 6ms/step - loss: 10.0090 - mae: 10.0090\n",
            "Epoch 42/100\n",
            "2/2 [==============================] - 0s 8ms/step - loss: 8.7543 - mae: 8.7543\n",
            "Epoch 43/100\n",
            "2/2 [==============================] - 0s 7ms/step - loss: 8.8109 - mae: 8.8109\n",
            "Epoch 44/100\n",
            "2/2 [==============================] - 0s 5ms/step - loss: 9.1640 - mae: 9.1640\n",
            "Epoch 45/100\n",
            "2/2 [==============================] - 0s 4ms/step - loss: 8.4574 - mae: 8.4574\n",
            "Epoch 46/100\n",
            "2/2 [==============================] - 0s 5ms/step - loss: 9.1741 - mae: 9.1741\n",
            "Epoch 47/100\n",
            "2/2 [==============================] - 0s 5ms/step - loss: 10.0059 - mae: 10.0059\n",
            "Epoch 48/100\n",
            "2/2 [==============================] - 0s 7ms/step - loss: 9.4793 - mae: 9.4793\n",
            "Epoch 49/100\n",
            "2/2 [==============================] - 0s 5ms/step - loss: 9.8000 - mae: 9.8000\n",
            "Epoch 50/100\n",
            "2/2 [==============================] - 0s 6ms/step - loss: 9.5416 - mae: 9.5416\n",
            "Epoch 51/100\n",
            "2/2 [==============================] - 0s 7ms/step - loss: 11.0340 - mae: 11.0340\n",
            "Epoch 52/100\n",
            "2/2 [==============================] - 0s 8ms/step - loss: 12.6563 - mae: 12.6563\n",
            "Epoch 53/100\n",
            "2/2 [==============================] - 0s 6ms/step - loss: 7.1240 - mae: 7.1240\n",
            "Epoch 54/100\n",
            "2/2 [==============================] - 0s 5ms/step - loss: 8.8766 - mae: 8.8766\n",
            "Epoch 55/100\n",
            "2/2 [==============================] - 0s 6ms/step - loss: 9.9901 - mae: 9.9901\n",
            "Epoch 56/100\n",
            "2/2 [==============================] - 0s 7ms/step - loss: 11.3551 - mae: 11.3551\n",
            "Epoch 57/100\n",
            "2/2 [==============================] - 0s 5ms/step - loss: 8.8739 - mae: 8.8739\n",
            "Epoch 58/100\n",
            "2/2 [==============================] - 0s 7ms/step - loss: 14.7869 - mae: 14.7869\n",
            "Epoch 59/100\n",
            "2/2 [==============================] - 0s 6ms/step - loss: 18.7267 - mae: 18.7267\n",
            "Epoch 60/100\n",
            "2/2 [==============================] - 0s 8ms/step - loss: 8.2475 - mae: 8.2475\n",
            "Epoch 61/100\n",
            "2/2 [==============================] - 0s 6ms/step - loss: 7.0104 - mae: 7.0104\n",
            "Epoch 62/100\n",
            "2/2 [==============================] - 0s 6ms/step - loss: 14.4549 - mae: 14.4549\n",
            "Epoch 63/100\n",
            "2/2 [==============================] - 0s 5ms/step - loss: 9.3284 - mae: 9.3284\n",
            "Epoch 64/100\n",
            "2/2 [==============================] - 0s 5ms/step - loss: 10.8291 - mae: 10.8291\n",
            "Epoch 65/100\n",
            "2/2 [==============================] - 0s 5ms/step - loss: 11.1322 - mae: 11.1322\n",
            "Epoch 66/100\n",
            "2/2 [==============================] - 0s 6ms/step - loss: 12.3781 - mae: 12.3781\n",
            "Epoch 67/100\n",
            "2/2 [==============================] - 0s 6ms/step - loss: 13.5072 - mae: 13.5072\n",
            "Epoch 68/100\n",
            "2/2 [==============================] - 0s 6ms/step - loss: 8.5506 - mae: 8.5506\n",
            "Epoch 69/100\n",
            "2/2 [==============================] - 0s 4ms/step - loss: 11.1781 - mae: 11.1781\n",
            "Epoch 70/100\n",
            "2/2 [==============================] - 0s 4ms/step - loss: 15.7421 - mae: 15.7421\n",
            "Epoch 71/100\n",
            "2/2 [==============================] - 0s 5ms/step - loss: 8.5674 - mae: 8.5674\n",
            "Epoch 72/100\n",
            "2/2 [==============================] - 0s 4ms/step - loss: 20.0089 - mae: 20.0089\n",
            "Epoch 73/100\n",
            "2/2 [==============================] - 0s 7ms/step - loss: 12.4472 - mae: 12.4472\n",
            "Epoch 74/100\n",
            "2/2 [==============================] - 0s 5ms/step - loss: 7.6000 - mae: 7.6000\n",
            "Epoch 75/100\n",
            "2/2 [==============================] - 0s 5ms/step - loss: 8.8031 - mae: 8.8031\n",
            "Epoch 76/100\n",
            "2/2 [==============================] - 0s 5ms/step - loss: 11.8482 - mae: 11.8482\n",
            "Epoch 77/100\n",
            "2/2 [==============================] - 0s 5ms/step - loss: 10.8913 - mae: 10.8913\n",
            "Epoch 78/100\n",
            "2/2 [==============================] - 0s 5ms/step - loss: 13.8484 - mae: 13.8484\n",
            "Epoch 79/100\n",
            "2/2 [==============================] - 0s 5ms/step - loss: 8.4907 - mae: 8.4907\n",
            "Epoch 80/100\n",
            "2/2 [==============================] - 0s 5ms/step - loss: 7.0293 - mae: 7.0293\n",
            "Epoch 81/100\n",
            "2/2 [==============================] - 0s 7ms/step - loss: 9.7783 - mae: 9.7783\n",
            "Epoch 82/100\n",
            "2/2 [==============================] - 0s 5ms/step - loss: 10.6977 - mae: 10.6977\n",
            "Epoch 83/100\n",
            "2/2 [==============================] - 0s 11ms/step - loss: 10.6206 - mae: 10.6206\n",
            "Epoch 84/100\n",
            "2/2 [==============================] - 0s 8ms/step - loss: 11.8742 - mae: 11.8742\n",
            "Epoch 85/100\n",
            "2/2 [==============================] - 0s 9ms/step - loss: 9.6959 - mae: 9.6959\n",
            "Epoch 86/100\n",
            "2/2 [==============================] - 0s 6ms/step - loss: 8.5037 - mae: 8.5037\n",
            "Epoch 87/100\n",
            "2/2 [==============================] - 0s 7ms/step - loss: 8.0788 - mae: 8.0788\n",
            "Epoch 88/100\n",
            "2/2 [==============================] - 0s 5ms/step - loss: 9.2887 - mae: 9.2887\n",
            "Epoch 89/100\n",
            "2/2 [==============================] - 0s 5ms/step - loss: 13.9888 - mae: 13.9888\n",
            "Epoch 90/100\n",
            "2/2 [==============================] - 0s 6ms/step - loss: 8.0224 - mae: 8.0224\n",
            "Epoch 91/100\n",
            "2/2 [==============================] - 0s 7ms/step - loss: 12.2103 - mae: 12.2103\n",
            "Epoch 92/100\n",
            "2/2 [==============================] - 0s 5ms/step - loss: 8.0875 - mae: 8.0875\n",
            "Epoch 93/100\n",
            "2/2 [==============================] - 0s 5ms/step - loss: 10.8470 - mae: 10.8470\n",
            "Epoch 94/100\n",
            "2/2 [==============================] - 0s 8ms/step - loss: 11.6341 - mae: 11.6341\n",
            "Epoch 95/100\n",
            "2/2 [==============================] - 0s 7ms/step - loss: 9.1028 - mae: 9.1028\n",
            "Epoch 96/100\n",
            "2/2 [==============================] - 0s 6ms/step - loss: 7.7693 - mae: 7.7693\n",
            "Epoch 97/100\n",
            "2/2 [==============================] - 0s 6ms/step - loss: 10.0840 - mae: 10.0840\n",
            "Epoch 98/100\n",
            "2/2 [==============================] - 0s 7ms/step - loss: 9.6654 - mae: 9.6654\n",
            "Epoch 99/100\n",
            "2/2 [==============================] - 0s 4ms/step - loss: 8.6215 - mae: 8.6215\n",
            "Epoch 100/100\n",
            "2/2 [==============================] - 0s 5ms/step - loss: 12.8346 - mae: 12.8346\n"
          ]
        },
        {
          "output_type": "execute_result",
          "data": {
            "text/plain": [
              "<keras.callbacks.History at 0x7f40360c5fd0>"
            ]
          },
          "metadata": {},
          "execution_count": 20
        }
      ]
    },
    {
      "cell_type": "code",
      "source": [
        "y_preds1 = model.predict(X_test)\n",
        "y_preds1"
      ],
      "metadata": {
        "colab": {
          "base_uri": "https://localhost:8080/"
        },
        "id": "6UxPzE-dEXvL",
        "outputId": "0b02425f-ac17-4a1d-807f-d7e32630d9c9"
      },
      "execution_count": 21,
      "outputs": [
        {
          "output_type": "execute_result",
          "data": {
            "text/plain": [
              "array([[35.87908 ],\n",
              "       [38.182438],\n",
              "       [40.485794],\n",
              "       [42.78915 ],\n",
              "       [45.092503],\n",
              "       [47.39586 ],\n",
              "       [49.699215],\n",
              "       [52.00257 ],\n",
              "       [54.305927],\n",
              "       [56.609283]], dtype=float32)"
            ]
          },
          "metadata": {},
          "execution_count": 21
        }
      ]
    },
    {
      "cell_type": "code",
      "source": [
        "plot_predictions(predictions=y_preds1)"
      ],
      "metadata": {
        "colab": {
          "base_uri": "https://localhost:8080/",
          "height": 428
        },
        "id": "bU6Hmh3AFPvC",
        "outputId": "fe305505-b87d-439e-a64f-c16fd2c733f0"
      },
      "execution_count": 22,
      "outputs": [
        {
          "output_type": "display_data",
          "data": {
            "text/plain": [
              "<Figure size 720x504 with 1 Axes>"
            ],
            "image/png": "[encoded data removed]"
          },
          "metadata": {
            "needs_background": "light"
          }
        }
      ]
    },
    {
      "cell_type": "code",
      "source": [
        "mae1 = tf.metrics.mean_absolute_error(y_test, tf.squeeze(y_preds1))\n",
        "mse1 = tf.metrics.mean_squared_error(y_test, tf.squeeze(y_preds1))\n",
        "mae1, mse1"
      ],
      "metadata": {
        "colab": {
          "base_uri": "https://localhost:8080/"
        },
        "id": "GIxpzKf3FUb6",
        "outputId": "da15de77-e6da-4aa8-ae04-c122b8bd6e74"
      },
      "execution_count": 23,
      "outputs": [
        {
          "output_type": "execute_result",
          "data": {
            "text/plain": [
              "(<tf.Tensor: shape=(), dtype=float32, numpy=41.755817>,\n",
              " <tf.Tensor: shape=(), dtype=float32, numpy=1767.2969>)"
            ]
          },
          "metadata": {},
          "execution_count": 23
        }
      ]
    },
    {
      "cell_type": "code",
      "source": [
        "tf.random.set_seed = 42\n",
        "\n",
        "model = tf.keras.Sequential([\n",
        "  tf.keras.layers.Dense(10),\n",
        "  tf.keras.layers.Dense(1),                             \n",
        "])\n",
        "\n",
        "model.compile(loss=tf.keras.losses.mae,\n",
        "              optimizer=tf.keras.optimizers.SGD(),\n",
        "              metrics=['mse'])\n",
        "\n",
        "model.fit(tf.expand_dims(X_train, axis=1), y_train, epochs=100)"
      ],
      "metadata": {
        "id": "PepP7DYbFjti"
      },
      "execution_count": null,
      "outputs": []
    },
    {
      "cell_type": "code",
      "source": [
        "y_pred2 = model.predict(X_test)\n",
        "y_pred2"
      ],
      "metadata": {
        "id": "FBlcl8KwcZkH",
        "outputId": "caee3772-fd70-4446-a5d5-17cb69210d9d",
        "colab": {
          "base_uri": "https://localhost:8080/"
        }
      },
      "execution_count": 25,
      "outputs": [
        {
          "output_type": "execute_result",
          "data": {
            "text/plain": [
              "array([[ 65.421974],\n",
              "       [ 69.66924 ],\n",
              "       [ 73.91652 ],\n",
              "       [ 78.163795],\n",
              "       [ 82.41107 ],\n",
              "       [ 86.65835 ],\n",
              "       [ 90.905624],\n",
              "       [ 95.1529  ],\n",
              "       [ 99.40018 ],\n",
              "       [103.64745 ]], dtype=float32)"
            ]
          },
          "metadata": {},
          "execution_count": 25
        }
      ]
    },
    {
      "cell_type": "code",
      "source": [
        "plot_predictions(predictions=y_pred2)"
      ],
      "metadata": {
        "id": "n8TShFh7cxxu",
        "outputId": "132a35ea-d4ee-4e64-ce03-633ab1bbe812",
        "colab": {
          "base_uri": "https://localhost:8080/",
          "height": 428
        }
      },
      "execution_count": 26,
      "outputs": [
        {
          "output_type": "display_data",
          "data": {
            "text/plain": [
              "<Figure size 720x504 with 1 Axes>"
            ],
            "image/png": "[encoded data removed]"
          },
          "metadata": {
            "needs_background": "light"
          }
        }
      ]
    },
    {
      "cell_type": "code",
      "source": [
        "mae2 = tf.metrics.mean_absolute_error(y_test, tf.squeeze(y_pred2))\n",
        "mse2 = tf.metrics.mean_squared_error(y_test, tf.squeeze(y_pred2))\n",
        "mae2, mse2"
      ],
      "metadata": {
        "id": "3aGSbWZoc8z-",
        "outputId": "43869120-affd-46b2-927f-015e02e62506",
        "colab": {
          "base_uri": "https://localhost:8080/"
        }
      },
      "execution_count": 27,
      "outputs": [
        {
          "output_type": "execute_result",
          "data": {
            "text/plain": [
              "(<tf.Tensor: shape=(), dtype=float32, numpy=3.4652894>,\n",
              " <tf.Tensor: shape=(), dtype=float32, numpy=12.512679>)"
            ]
          },
          "metadata": {},
          "execution_count": 27
        }
      ]
    },
    {
      "cell_type": "code",
      "source": [
        "import pandas as pd\n",
        "\n",
        "model_results = [[\"model1\", mae1.numpy(), mse1.numpy()],\n",
        "                 ['model2', mae2.numpy(), mse2.numpy()]\n",
        "                 ]\n",
        "\n",
        "model_metrics = pd.DataFrame(model_results, columns=['model', 'mae', 'mse'])   \n",
        "model_metrics\n",
        "             "
      ],
      "metadata": {
        "id": "gekVVjRgdYcO",
        "outputId": "ca00ddb1-8070-464b-f16c-d718a4ed1050",
        "colab": {
          "base_uri": "https://localhost:8080/",
          "height": 112
        }
      },
      "execution_count": 28,
      "outputs": [
        {
          "output_type": "execute_result",
          "data": {
            "text/plain": [
              "    model        mae          mse\n",
              "0  model1  41.755817  1767.296875\n",
              "1  model2   3.465289    12.512679"
            ],
            "text/html": [
              "\n",
              "  <div id=\"df-0b598087-3087-446c-9a70-e169dce34c80\">\n",
              "    <div class=\"colab-df-container\">\n",
              "      <div>\n",
              "<style scoped>\n",
              "    .dataframe tbody tr th:only-of-type {\n",
              "        vertical-align: middle;\n",
              "    }\n",
              "\n",
              "    .dataframe tbody tr th {\n",
              "        vertical-align: top;\n",
              "    }\n",
              "\n",
              "    .dataframe thead th {\n",
              "        text-align: right;\n",
              "    }\n",
              "</style>\n",
              "<table border=\"1\" class=\"dataframe\">\n",
              "  <thead>\n",
              "    <tr style=\"text-align: right;\">\n",
              "      <th></th>\n",
              "      <th>model</th>\n",
              "      <th>mae</th>\n",
              "      <th>mse</th>\n",
              "    </tr>\n",
              "  </thead>\n",
              "  <tbody>\n",
              "    <tr>\n",
              "      <th>0</th>\n",
              "      <td>model1</td>\n",
              "      <td>41.755817</td>\n",
              "      <td>1767.296875</td>\n",
              "    </tr>\n",
              "    <tr>\n",
              "      <th>1</th>\n",
              "      <td>model2</td>\n",
              "      <td>3.465289</td>\n",
              "      <td>12.512679</td>\n",
              "    </tr>\n",
              "  </tbody>\n",
              "</table>\n",
              "</div>\n",
              "      <button class=\"colab-df-convert\" onclick=\"convertToInteractive('df-0b598087-3087-446c-9a70-e169dce34c80')\"\n",
              "              title=\"Convert this dataframe to an interactive table.\"\n",
              "              style=\"display:none;\">\n",
              "        \n",
              "  <svg xmlns=\"http://www.w3.org/2000/svg\" height=\"24px\"viewBox=\"0 0 24 24\"\n",
              "       width=\"24px\">\n",
              "    <path d=\"M0 0h24v24H0V0z\" fill=\"none\"/>\n",
              "    <path d=\"M18.56 5.44l.94 2.06.94-2.06 2.06-.94-2.06-.94-.94-2.06-.94 2.06-2.06.94zm-11 1L8.5 8.5l.94-2.06 2.06-.94-2.06-.94L8.5 2.5l-.94 2.06-2.06.94zm10 10l.94 2.06.94-2.06 2.06-.94-2.06-.94-.94-2.06-.94 2.06-2.06.94z\"/><path d=\"M17.41 7.96l-1.37-1.37c-.4-.4-.92-.59-1.43-.59-.52 0-1.04.2-1.43.59L10.3 9.45l-7.72 7.72c-.78.78-.78 2.05 0 2.83L4 21.41c.39.39.9.59 1.41.59.51 0 1.02-.2 1.41-.59l7.78-7.78 2.81-2.81c.8-.78.8-2.07 0-2.86zM5.41 20L4 18.59l7.72-7.72 1.47 1.35L5.41 20z\"/>\n",
              "  </svg>\n",
              "      </button>\n",
              "      \n",
              "  <style>\n",
              "    .colab-df-container {\n",
              "      display:flex;\n",
              "      flex-wrap:wrap;\n",
              "      gap: 12px;\n",
              "    }\n",
              "\n",
              "    .colab-df-convert {\n",
              "      background-color: #E8F0FE;\n",
              "      border: none;\n",
              "      border-radius: 50%;\n",
              "      cursor: pointer;\n",
              "      display: none;\n",
              "      fill: #1967D2;\n",
              "      height: 32px;\n",
              "      padding: 0 0 0 0;\n",
              "      width: 32px;\n",
              "    }\n",
              "\n",
              "    .colab-df-convert:hover {\n",
              "      background-color: #E2EBFA;\n",
              "      box-shadow: 0px 1px 2px rgba(60, 64, 67, 0.3), 0px 1px 3px 1px rgba(60, 64, 67, 0.15);\n",
              "      fill: #174EA6;\n",
              "    }\n",
              "\n",
              "    [theme=dark] .colab-df-convert {\n",
              "      background-color: #3B4455;\n",
              "      fill: #D2E3FC;\n",
              "    }\n",
              "\n",
              "    [theme=dark] .colab-df-convert:hover {\n",
              "      background-color: #434B5C;\n",
              "      box-shadow: 0px 1px 3px 1px rgba(0, 0, 0, 0.15);\n",
              "      filter: drop-shadow(0px 1px 2px rgba(0, 0, 0, 0.3));\n",
              "      fill: #FFFFFF;\n",
              "    }\n",
              "  </style>\n",
              "\n",
              "      <script>\n",
              "        const buttonEl =\n",
              "          document.querySelector('#df-0b598087-3087-446c-9a70-e169dce34c80 button.colab-df-convert');\n",
              "        buttonEl.style.display =\n",
              "          google.colab.kernel.accessAllowed ? 'block' : 'none';\n",
              "\n",
              "        async function convertToInteractive(key) {\n",
              "          const element = document.querySelector('#df-0b598087-3087-446c-9a70-e169dce34c80');\n",
              "          const dataTable =\n",
              "            await google.colab.kernel.invokeFunction('convertToInteractive',\n",
              "                                                     [key], {});\n",
              "          if (!dataTable) return;\n",
              "\n",
              "          const docLinkHtml = 'Like what you see? Visit the ' +\n",
              "            '<a target=\"_blank\" href=https://colab.research.google.com/notebooks/data_table.ipynb>data table notebook</a>'\n",
              "            + ' to learn more about interactive tables.';\n",
              "          element.innerHTML = '';\n",
              "          dataTable['output_type'] = 'display_data';\n",
              "          await google.colab.output.renderOutput(dataTable, element);\n",
              "          const docLink = document.createElement('div');\n",
              "          docLink.innerHTML = docLinkHtml;\n",
              "          element.appendChild(docLink);\n",
              "        }\n",
              "      </script>\n",
              "    </div>\n",
              "  </div>\n",
              "  "
            ]
          },
          "metadata": {},
          "execution_count": 28
        }
      ]
    },
    {
      "cell_type": "markdown",
      "source": [
        "**TensorBoard** - it is a tensorflow library to help track modeling experiments<br>\n",
        "**Weights & Biases** - it is a tool for tracking all kinds of machine learing experiments and it's not specific to library"
      ],
      "metadata": {
        "id": "lADWUGLuP3O9"
      }
    },
    {
      "cell_type": "markdown",
      "source": [
        "Model can save in below 2 formats\n",
        "1. SavedModel format\n",
        "2. HDF5 format <br>\n",
        "\n",
        "The save file includes <br>\n",
        "-> model architecture <br>\n",
        "-> model weights <br>\n",
        "-> state of optimizer, allowing to resume training exactly where you left off"
      ],
      "metadata": {
        "id": "OAvjKr9QPcc_"
      }
    },
    {
      "cell_type": "code",
      "source": [
        "model.save(\"best_model_savedmodel_format\")"
      ],
      "metadata": {
        "id": "jaLdXsGeQxNl",
        "outputId": "7f7f8503-7cc2-4106-bd07-e0df091ca5ab",
        "colab": {
          "base_uri": "https://localhost:8080/"
        }
      },
      "execution_count": 29,
      "outputs": [
        {
          "output_type": "stream",
          "name": "stdout",
          "text": [
            "INFO:tensorflow:Assets written to: best_model_savedmodel_format/assets\n"
          ]
        }
      ]
    },
    {
      "cell_type": "code",
      "source": [
        "model.save(\"best_model_HDF5_fromat.h5\")"
      ],
      "metadata": {
        "id": "oxhNs_k1Q3r_"
      },
      "execution_count": 30,
      "outputs": []
    },
    {
      "cell_type": "code",
      "source": [
        "load_savedmodle_foramt = tf.keras.models.load_model(\"best_model_savedmodel_format\")\n",
        "load_savedmodle_foramt.summary()"
      ],
      "metadata": {
        "id": "b0DUefumRviF",
        "outputId": "ea8f20d6-4314-4177-a440-b3999d94d938",
        "colab": {
          "base_uri": "https://localhost:8080/"
        }
      },
      "execution_count": 31,
      "outputs": [
        {
          "output_type": "stream",
          "name": "stdout",
          "text": [
            "Model: \"sequential_2\"\n",
            "_________________________________________________________________\n",
            " Layer (type)                Output Shape              Param #   \n",
            "=================================================================\n",
            " dense_1 (Dense)             (None, 10)                20        \n",
            "                                                                 \n",
            " dense_2 (Dense)             (None, 1)                 11        \n",
            "                                                                 \n",
            "=================================================================\n",
            "Total params: 31\n",
            "Trainable params: 31\n",
            "Non-trainable params: 0\n",
            "_________________________________________________________________\n"
          ]
        }
      ]
    },
    {
      "cell_type": "code",
      "source": [
        "load_savedmodle_foramt_preds == load_savedmodle_foramt.predict(X_test)\n"
      ],
      "metadata": {
        "id": "mauj7kp_SOps",
        "outputId": "0e69ea8c-5e6f-4ecc-d6a5-43f5c91ed55c",
        "colab": {
          "base_uri": "https://localhost:8080/"
        }
      },
      "execution_count": 33,
      "outputs": [
        {
          "output_type": "execute_result",
          "data": {
            "text/plain": [
              "array([[ True],\n",
              "       [ True],\n",
              "       [ True],\n",
              "       [ True],\n",
              "       [ True],\n",
              "       [ True],\n",
              "       [ True],\n",
              "       [ True],\n",
              "       [ True],\n",
              "       [ True]])"
            ]
          },
          "metadata": {},
          "execution_count": 33
        }
      ]
    },
    {
      "cell_type": "code",
      "source": [
        "import tensorflow as tf\n",
        "import pandas as pd\n",
        "import matplotlib.pyplot as plt\n",
        "\n",
        "insurance = pd.read_csv(\"https://raw.githubusercontent.com/stedy/Machine-Learning-with-R-datasets/master/insurance.csv\")\n",
        "insurance"
      ],
      "metadata": {
        "id": "DAMMEwcuVS06",
        "outputId": "b862996a-c788-4151-cd92-f4a967402656",
        "colab": {
          "base_uri": "https://localhost:8080/",
          "height": 423
        }
      },
      "execution_count": 35,
      "outputs": [
        {
          "output_type": "execute_result",
          "data": {
            "text/plain": [
              "      age     sex     bmi  children smoker     region      charges\n",
              "0      19  female  27.900         0    yes  southwest  16884.92400\n",
              "1      18    male  33.770         1     no  southeast   1725.55230\n",
              "2      28    male  33.000         3     no  southeast   4449.46200\n",
              "3      33    male  22.705         0     no  northwest  21984.47061\n",
              "4      32    male  28.880         0     no  northwest   3866.85520\n",
              "...   ...     ...     ...       ...    ...        ...          ...\n",
              "1333   50    male  30.970         3     no  northwest  10600.54830\n",
              "1334   18  female  31.920         0     no  northeast   2205.98080\n",
              "1335   18  female  36.850         0     no  southeast   1629.83350\n",
              "1336   21  female  25.800         0     no  southwest   2007.94500\n",
              "1337   61  female  29.070         0    yes  northwest  29141.36030\n",
              "\n",
              "[1338 rows x 7 columns]"
            ],
            "text/html": [
              "\n",
              "  <div id=\"df-8c16c7df-dc16-4cf1-8a6b-59ba787cbd67\">\n",
              "    <div class=\"colab-df-container\">\n",
              "      <div>\n",
              "<style scoped>\n",
              "    .dataframe tbody tr th:only-of-type {\n",
              "        vertical-align: middle;\n",
              "    }\n",
              "\n",
              "    .dataframe tbody tr th {\n",
              "        vertical-align: top;\n",
              "    }\n",
              "\n",
              "    .dataframe thead th {\n",
              "        text-align: right;\n",
              "    }\n",
              "</style>\n",
              "<table border=\"1\" class=\"dataframe\">\n",
              "  <thead>\n",
              "    <tr style=\"text-align: right;\">\n",
              "      <th></th>\n",
              "      <th>age</th>\n",
              "      <th>sex</th>\n",
              "      <th>bmi</th>\n",
              "      <th>children</th>\n",
              "      <th>smoker</th>\n",
              "      <th>region</th>\n",
              "      <th>charges</th>\n",
              "    </tr>\n",
              "  </thead>\n",
              "  <tbody>\n",
              "    <tr>\n",
              "      <th>0</th>\n",
              "      <td>19</td>\n",
              "      <td>female</td>\n",
              "      <td>27.900</td>\n",
              "      <td>0</td>\n",
              "      <td>yes</td>\n",
              "      <td>southwest</td>\n",
              "      <td>16884.92400</td>\n",
              "    </tr>\n",
              "    <tr>\n",
              "      <th>1</th>\n",
              "      <td>18</td>\n",
              "      <td>male</td>\n",
              "      <td>33.770</td>\n",
              "      <td>1</td>\n",
              "      <td>no</td>\n",
              "      <td>southeast</td>\n",
              "      <td>1725.55230</td>\n",
              "    </tr>\n",
              "    <tr>\n",
              "      <th>2</th>\n",
              "      <td>28</td>\n",
              "      <td>male</td>\n",
              "      <td>33.000</td>\n",
              "      <td>3</td>\n",
              "      <td>no</td>\n",
              "      <td>southeast</td>\n",
              "      <td>4449.46200</td>\n",
              "    </tr>\n",
              "    <tr>\n",
              "      <th>3</th>\n",
              "      <td>33</td>\n",
              "      <td>male</td>\n",
              "      <td>22.705</td>\n",
              "      <td>0</td>\n",
              "      <td>no</td>\n",
              "      <td>northwest</td>\n",
              "      <td>21984.47061</td>\n",
              "    </tr>\n",
              "    <tr>\n",
              "      <th>4</th>\n",
              "      <td>32</td>\n",
              "      <td>male</td>\n",
              "      <td>28.880</td>\n",
              "      <td>0</td>\n",
              "      <td>no</td>\n",
              "      <td>northwest</td>\n",
              "      <td>3866.85520</td>\n",
              "    </tr>\n",
              "    <tr>\n",
              "      <th>...</th>\n",
              "      <td>...</td>\n",
              "      <td>...</td>\n",
              "      <td>...</td>\n",
              "      <td>...</td>\n",
              "      <td>...</td>\n",
              "      <td>...</td>\n",
              "      <td>...</td>\n",
              "    </tr>\n",
              "    <tr>\n",
              "      <th>1333</th>\n",
              "      <td>50</td>\n",
              "      <td>male</td>\n",
              "      <td>30.970</td>\n",
              "      <td>3</td>\n",
              "      <td>no</td>\n",
              "      <td>northwest</td>\n",
              "      <td>10600.54830</td>\n",
              "    </tr>\n",
              "    <tr>\n",
              "      <th>1334</th>\n",
              "      <td>18</td>\n",
              "      <td>female</td>\n",
              "      <td>31.920</td>\n",
              "      <td>0</td>\n",
              "      <td>no</td>\n",
              "      <td>northeast</td>\n",
              "      <td>2205.98080</td>\n",
              "    </tr>\n",
              "    <tr>\n",
              "      <th>1335</th>\n",
              "      <td>18</td>\n",
              "      <td>female</td>\n",
              "      <td>36.850</td>\n",
              "      <td>0</td>\n",
              "      <td>no</td>\n",
              "      <td>southeast</td>\n",
              "      <td>1629.83350</td>\n",
              "    </tr>\n",
              "    <tr>\n",
              "      <th>1336</th>\n",
              "      <td>21</td>\n",
              "      <td>female</td>\n",
              "      <td>25.800</td>\n",
              "      <td>0</td>\n",
              "      <td>no</td>\n",
              "      <td>southwest</td>\n",
              "      <td>2007.94500</td>\n",
              "    </tr>\n",
              "    <tr>\n",
              "      <th>1337</th>\n",
              "      <td>61</td>\n",
              "      <td>female</td>\n",
              "      <td>29.070</td>\n",
              "      <td>0</td>\n",
              "      <td>yes</td>\n",
              "      <td>northwest</td>\n",
              "      <td>29141.36030</td>\n",
              "    </tr>\n",
              "  </tbody>\n",
              "</table>\n",
              "<p>1338 rows × 7 columns</p>\n",
              "</div>\n",
              "      <button class=\"colab-df-convert\" onclick=\"convertToInteractive('df-8c16c7df-dc16-4cf1-8a6b-59ba787cbd67')\"\n",
              "              title=\"Convert this dataframe to an interactive table.\"\n",
              "              style=\"display:none;\">\n",
              "        \n",
              "  <svg xmlns=\"http://www.w3.org/2000/svg\" height=\"24px\"viewBox=\"0 0 24 24\"\n",
              "       width=\"24px\">\n",
              "    <path d=\"M0 0h24v24H0V0z\" fill=\"none\"/>\n",
              "    <path d=\"M18.56 5.44l.94 2.06.94-2.06 2.06-.94-2.06-.94-.94-2.06-.94 2.06-2.06.94zm-11 1L8.5 8.5l.94-2.06 2.06-.94-2.06-.94L8.5 2.5l-.94 2.06-2.06.94zm10 10l.94 2.06.94-2.06 2.06-.94-2.06-.94-.94-2.06-.94 2.06-2.06.94z\"/><path d=\"M17.41 7.96l-1.37-1.37c-.4-.4-.92-.59-1.43-.59-.52 0-1.04.2-1.43.59L10.3 9.45l-7.72 7.72c-.78.78-.78 2.05 0 2.83L4 21.41c.39.39.9.59 1.41.59.51 0 1.02-.2 1.41-.59l7.78-7.78 2.81-2.81c.8-.78.8-2.07 0-2.86zM5.41 20L4 18.59l7.72-7.72 1.47 1.35L5.41 20z\"/>\n",
              "  </svg>\n",
              "      </button>\n",
              "      \n",
              "  <style>\n",
              "    .colab-df-container {\n",
              "      display:flex;\n",
              "      flex-wrap:wrap;\n",
              "      gap: 12px;\n",
              "    }\n",
              "\n",
              "    .colab-df-convert {\n",
              "      background-color: #E8F0FE;\n",
              "      border: none;\n",
              "      border-radius: 50%;\n",
              "      cursor: pointer;\n",
              "      display: none;\n",
              "      fill: #1967D2;\n",
              "      height: 32px;\n",
              "      padding: 0 0 0 0;\n",
              "      width: 32px;\n",
              "    }\n",
              "\n",
              "    .colab-df-convert:hover {\n",
              "      background-color: #E2EBFA;\n",
              "      box-shadow: 0px 1px 2px rgba(60, 64, 67, 0.3), 0px 1px 3px 1px rgba(60, 64, 67, 0.15);\n",
              "      fill: #174EA6;\n",
              "    }\n",
              "\n",
              "    [theme=dark] .colab-df-convert {\n",
              "      background-color: #3B4455;\n",
              "      fill: #D2E3FC;\n",
              "    }\n",
              "\n",
              "    [theme=dark] .colab-df-convert:hover {\n",
              "      background-color: #434B5C;\n",
              "      box-shadow: 0px 1px 3px 1px rgba(0, 0, 0, 0.15);\n",
              "      filter: drop-shadow(0px 1px 2px rgba(0, 0, 0, 0.3));\n",
              "      fill: #FFFFFF;\n",
              "    }\n",
              "  </style>\n",
              "\n",
              "      <script>\n",
              "        const buttonEl =\n",
              "          document.querySelector('#df-8c16c7df-dc16-4cf1-8a6b-59ba787cbd67 button.colab-df-convert');\n",
              "        buttonEl.style.display =\n",
              "          google.colab.kernel.accessAllowed ? 'block' : 'none';\n",
              "\n",
              "        async function convertToInteractive(key) {\n",
              "          const element = document.querySelector('#df-8c16c7df-dc16-4cf1-8a6b-59ba787cbd67');\n",
              "          const dataTable =\n",
              "            await google.colab.kernel.invokeFunction('convertToInteractive',\n",
              "                                                     [key], {});\n",
              "          if (!dataTable) return;\n",
              "\n",
              "          const docLinkHtml = 'Like what you see? Visit the ' +\n",
              "            '<a target=\"_blank\" href=https://colab.research.google.com/notebooks/data_table.ipynb>data table notebook</a>'\n",
              "            + ' to learn more about interactive tables.';\n",
              "          element.innerHTML = '';\n",
              "          dataTable['output_type'] = 'display_data';\n",
              "          await google.colab.output.renderOutput(dataTable, element);\n",
              "          const docLink = document.createElement('div');\n",
              "          docLink.innerHTML = docLinkHtml;\n",
              "          element.appendChild(docLink);\n",
              "        }\n",
              "      </script>\n",
              "    </div>\n",
              "  </div>\n",
              "  "
            ]
          },
          "metadata": {},
          "execution_count": 35
        }
      ]
    },
    {
      "cell_type": "code",
      "source": [
        "insurance_onehot =  pd.get_dummies(insurance)\n",
        "insurance_onehot"
      ],
      "metadata": {
        "id": "klPIlYpnVmdR",
        "outputId": "9b0ac228-bd93-4cdd-dcc4-096d1311bb58",
        "colab": {
          "base_uri": "https://localhost:8080/",
          "height": 487
        }
      },
      "execution_count": 38,
      "outputs": [
        {
          "output_type": "execute_result",
          "data": {
            "text/plain": [
              "      age     bmi  children      charges  sex_female  sex_male  smoker_no  \\\n",
              "0      19  27.900         0  16884.92400           1         0          0   \n",
              "1      18  33.770         1   1725.55230           0         1          1   \n",
              "2      28  33.000         3   4449.46200           0         1          1   \n",
              "3      33  22.705         0  21984.47061           0         1          1   \n",
              "4      32  28.880         0   3866.85520           0         1          1   \n",
              "...   ...     ...       ...          ...         ...       ...        ...   \n",
              "1333   50  30.970         3  10600.54830           0         1          1   \n",
              "1334   18  31.920         0   2205.98080           1         0          1   \n",
              "1335   18  36.850         0   1629.83350           1         0          1   \n",
              "1336   21  25.800         0   2007.94500           1         0          1   \n",
              "1337   61  29.070         0  29141.36030           1         0          0   \n",
              "\n",
              "      smoker_yes  region_northeast  region_northwest  region_southeast  \\\n",
              "0              1                 0                 0                 0   \n",
              "1              0                 0                 0                 1   \n",
              "2              0                 0                 0                 1   \n",
              "3              0                 0                 1                 0   \n",
              "4              0                 0                 1                 0   \n",
              "...          ...               ...               ...               ...   \n",
              "1333           0                 0                 1                 0   \n",
              "1334           0                 1                 0                 0   \n",
              "1335           0                 0                 0                 1   \n",
              "1336           0                 0                 0                 0   \n",
              "1337           1                 0                 1                 0   \n",
              "\n",
              "      region_southwest  \n",
              "0                    1  \n",
              "1                    0  \n",
              "2                    0  \n",
              "3                    0  \n",
              "4                    0  \n",
              "...                ...  \n",
              "1333                 0  \n",
              "1334                 0  \n",
              "1335                 0  \n",
              "1336                 1  \n",
              "1337                 0  \n",
              "\n",
              "[1338 rows x 12 columns]"
            ],
            "text/html": [
              "\n",
              "  <div id=\"df-5491b7f9-c745-4b5f-9127-f3c13ae43973\">\n",
              "    <div class=\"colab-df-container\">\n",
              "      <div>\n",
              "<style scoped>\n",
              "    .dataframe tbody tr th:only-of-type {\n",
              "        vertical-align: middle;\n",
              "    }\n",
              "\n",
              "    .dataframe tbody tr th {\n",
              "        vertical-align: top;\n",
              "    }\n",
              "\n",
              "    .dataframe thead th {\n",
              "        text-align: right;\n",
              "    }\n",
              "</style>\n",
              "<table border=\"1\" class=\"dataframe\">\n",
              "  <thead>\n",
              "    <tr style=\"text-align: right;\">\n",
              "      <th></th>\n",
              "      <th>age</th>\n",
              "      <th>bmi</th>\n",
              "      <th>children</th>\n",
              "      <th>charges</th>\n",
              "      <th>sex_female</th>\n",
              "      <th>sex_male</th>\n",
              "      <th>smoker_no</th>\n",
              "      <th>smoker_yes</th>\n",
              "      <th>region_northeast</th>\n",
              "      <th>region_northwest</th>\n",
              "      <th>region_southeast</th>\n",
              "      <th>region_southwest</th>\n",
              "    </tr>\n",
              "  </thead>\n",
              "  <tbody>\n",
              "    <tr>\n",
              "      <th>0</th>\n",
              "      <td>19</td>\n",
              "      <td>27.900</td>\n",
              "      <td>0</td>\n",
              "      <td>16884.92400</td>\n",
              "      <td>1</td>\n",
              "      <td>0</td>\n",
              "      <td>0</td>\n",
              "      <td>1</td>\n",
              "      <td>0</td>\n",
              "      <td>0</td>\n",
              "      <td>0</td>\n",
              "      <td>1</td>\n",
              "    </tr>\n",
              "    <tr>\n",
              "      <th>1</th>\n",
              "      <td>18</td>\n",
              "      <td>33.770</td>\n",
              "      <td>1</td>\n",
              "      <td>1725.55230</td>\n",
              "      <td>0</td>\n",
              "      <td>1</td>\n",
              "      <td>1</td>\n",
              "      <td>0</td>\n",
              "      <td>0</td>\n",
              "      <td>0</td>\n",
              "      <td>1</td>\n",
              "      <td>0</td>\n",
              "    </tr>\n",
              "    <tr>\n",
              "      <th>2</th>\n",
              "      <td>28</td>\n",
              "      <td>33.000</td>\n",
              "      <td>3</td>\n",
              "      <td>4449.46200</td>\n",
              "      <td>0</td>\n",
              "      <td>1</td>\n",
              "      <td>1</td>\n",
              "      <td>0</td>\n",
              "      <td>0</td>\n",
              "      <td>0</td>\n",
              "      <td>1</td>\n",
              "      <td>0</td>\n",
              "    </tr>\n",
              "    <tr>\n",
              "      <th>3</th>\n",
              "      <td>33</td>\n",
              "      <td>22.705</td>\n",
              "      <td>0</td>\n",
              "      <td>21984.47061</td>\n",
              "      <td>0</td>\n",
              "      <td>1</td>\n",
              "      <td>1</td>\n",
              "      <td>0</td>\n",
              "      <td>0</td>\n",
              "      <td>1</td>\n",
              "      <td>0</td>\n",
              "      <td>0</td>\n",
              "    </tr>\n",
              "    <tr>\n",
              "      <th>4</th>\n",
              "      <td>32</td>\n",
              "      <td>28.880</td>\n",
              "      <td>0</td>\n",
              "      <td>3866.85520</td>\n",
              "      <td>0</td>\n",
              "      <td>1</td>\n",
              "      <td>1</td>\n",
              "      <td>0</td>\n",
              "      <td>0</td>\n",
              "      <td>1</td>\n",
              "      <td>0</td>\n",
              "      <td>0</td>\n",
              "    </tr>\n",
              "    <tr>\n",
              "      <th>...</th>\n",
              "      <td>...</td>\n",
              "      <td>...</td>\n",
              "      <td>...</td>\n",
              "      <td>...</td>\n",
              "      <td>...</td>\n",
              "      <td>...</td>\n",
              "      <td>...</td>\n",
              "      <td>...</td>\n",
              "      <td>...</td>\n",
              "      <td>...</td>\n",
              "      <td>...</td>\n",
              "      <td>...</td>\n",
              "    </tr>\n",
              "    <tr>\n",
              "      <th>1333</th>\n",
              "      <td>50</td>\n",
              "      <td>30.970</td>\n",
              "      <td>3</td>\n",
              "      <td>10600.54830</td>\n",
              "      <td>0</td>\n",
              "      <td>1</td>\n",
              "      <td>1</td>\n",
              "      <td>0</td>\n",
              "      <td>0</td>\n",
              "      <td>1</td>\n",
              "      <td>0</td>\n",
              "      <td>0</td>\n",
              "    </tr>\n",
              "    <tr>\n",
              "      <th>1334</th>\n",
              "      <td>18</td>\n",
              "      <td>31.920</td>\n",
              "      <td>0</td>\n",
              "      <td>2205.98080</td>\n",
              "      <td>1</td>\n",
              "      <td>0</td>\n",
              "      <td>1</td>\n",
              "      <td>0</td>\n",
              "      <td>1</td>\n",
              "      <td>0</td>\n",
              "      <td>0</td>\n",
              "      <td>0</td>\n",
              "    </tr>\n",
              "    <tr>\n",
              "      <th>1335</th>\n",
              "      <td>18</td>\n",
              "      <td>36.850</td>\n",
              "      <td>0</td>\n",
              "      <td>1629.83350</td>\n",
              "      <td>1</td>\n",
              "      <td>0</td>\n",
              "      <td>1</td>\n",
              "      <td>0</td>\n",
              "      <td>0</td>\n",
              "      <td>0</td>\n",
              "      <td>1</td>\n",
              "      <td>0</td>\n",
              "    </tr>\n",
              "    <tr>\n",
              "      <th>1336</th>\n",
              "      <td>21</td>\n",
              "      <td>25.800</td>\n",
              "      <td>0</td>\n",
              "      <td>2007.94500</td>\n",
              "      <td>1</td>\n",
              "      <td>0</td>\n",
              "      <td>1</td>\n",
              "      <td>0</td>\n",
              "      <td>0</td>\n",
              "      <td>0</td>\n",
              "      <td>0</td>\n",
              "      <td>1</td>\n",
              "    </tr>\n",
              "    <tr>\n",
              "      <th>1337</th>\n",
              "      <td>61</td>\n",
              "      <td>29.070</td>\n",
              "      <td>0</td>\n",
              "      <td>29141.36030</td>\n",
              "      <td>1</td>\n",
              "      <td>0</td>\n",
              "      <td>0</td>\n",
              "      <td>1</td>\n",
              "      <td>0</td>\n",
              "      <td>1</td>\n",
              "      <td>0</td>\n",
              "      <td>0</td>\n",
              "    </tr>\n",
              "  </tbody>\n",
              "</table>\n",
              "<p>1338 rows × 12 columns</p>\n",
              "</div>\n",
              "      <button class=\"colab-df-convert\" onclick=\"convertToInteractive('df-5491b7f9-c745-4b5f-9127-f3c13ae43973')\"\n",
              "              title=\"Convert this dataframe to an interactive table.\"\n",
              "              style=\"display:none;\">\n",
              "        \n",
              "  <svg xmlns=\"http://www.w3.org/2000/svg\" height=\"24px\"viewBox=\"0 0 24 24\"\n",
              "       width=\"24px\">\n",
              "    <path d=\"M0 0h24v24H0V0z\" fill=\"none\"/>\n",
              "    <path d=\"M18.56 5.44l.94 2.06.94-2.06 2.06-.94-2.06-.94-.94-2.06-.94 2.06-2.06.94zm-11 1L8.5 8.5l.94-2.06 2.06-.94-2.06-.94L8.5 2.5l-.94 2.06-2.06.94zm10 10l.94 2.06.94-2.06 2.06-.94-2.06-.94-.94-2.06-.94 2.06-2.06.94z\"/><path d=\"M17.41 7.96l-1.37-1.37c-.4-.4-.92-.59-1.43-.59-.52 0-1.04.2-1.43.59L10.3 9.45l-7.72 7.72c-.78.78-.78 2.05 0 2.83L4 21.41c.39.39.9.59 1.41.59.51 0 1.02-.2 1.41-.59l7.78-7.78 2.81-2.81c.8-.78.8-2.07 0-2.86zM5.41 20L4 18.59l7.72-7.72 1.47 1.35L5.41 20z\"/>\n",
              "  </svg>\n",
              "      </button>\n",
              "      \n",
              "  <style>\n",
              "    .colab-df-container {\n",
              "      display:flex;\n",
              "      flex-wrap:wrap;\n",
              "      gap: 12px;\n",
              "    }\n",
              "\n",
              "    .colab-df-convert {\n",
              "      background-color: #E8F0FE;\n",
              "      border: none;\n",
              "      border-radius: 50%;\n",
              "      cursor: pointer;\n",
              "      display: none;\n",
              "      fill: #1967D2;\n",
              "      height: 32px;\n",
              "      padding: 0 0 0 0;\n",
              "      width: 32px;\n",
              "    }\n",
              "\n",
              "    .colab-df-convert:hover {\n",
              "      background-color: #E2EBFA;\n",
              "      box-shadow: 0px 1px 2px rgba(60, 64, 67, 0.3), 0px 1px 3px 1px rgba(60, 64, 67, 0.15);\n",
              "      fill: #174EA6;\n",
              "    }\n",
              "\n",
              "    [theme=dark] .colab-df-convert {\n",
              "      background-color: #3B4455;\n",
              "      fill: #D2E3FC;\n",
              "    }\n",
              "\n",
              "    [theme=dark] .colab-df-convert:hover {\n",
              "      background-color: #434B5C;\n",
              "      box-shadow: 0px 1px 3px 1px rgba(0, 0, 0, 0.15);\n",
              "      filter: drop-shadow(0px 1px 2px rgba(0, 0, 0, 0.3));\n",
              "      fill: #FFFFFF;\n",
              "    }\n",
              "  </style>\n",
              "\n",
              "      <script>\n",
              "        const buttonEl =\n",
              "          document.querySelector('#df-5491b7f9-c745-4b5f-9127-f3c13ae43973 button.colab-df-convert');\n",
              "        buttonEl.style.display =\n",
              "          google.colab.kernel.accessAllowed ? 'block' : 'none';\n",
              "\n",
              "        async function convertToInteractive(key) {\n",
              "          const element = document.querySelector('#df-5491b7f9-c745-4b5f-9127-f3c13ae43973');\n",
              "          const dataTable =\n",
              "            await google.colab.kernel.invokeFunction('convertToInteractive',\n",
              "                                                     [key], {});\n",
              "          if (!dataTable) return;\n",
              "\n",
              "          const docLinkHtml = 'Like what you see? Visit the ' +\n",
              "            '<a target=\"_blank\" href=https://colab.research.google.com/notebooks/data_table.ipynb>data table notebook</a>'\n",
              "            + ' to learn more about interactive tables.';\n",
              "          element.innerHTML = '';\n",
              "          dataTable['output_type'] = 'display_data';\n",
              "          await google.colab.output.renderOutput(dataTable, element);\n",
              "          const docLink = document.createElement('div');\n",
              "          docLink.innerHTML = docLinkHtml;\n",
              "          element.appendChild(docLink);\n",
              "        }\n",
              "      </script>\n",
              "    </div>\n",
              "  </div>\n",
              "  "
            ]
          },
          "metadata": {},
          "execution_count": 38
        }
      ]
    },
    {
      "cell_type": "code",
      "source": [
        "insurance_onehot.head()"
      ],
      "metadata": {
        "id": "As192nhxWRYA",
        "outputId": "3dd6e3f2-011f-43d6-97fe-55381fde3011",
        "colab": {
          "base_uri": "https://localhost:8080/",
          "height": 270
        }
      },
      "execution_count": 39,
      "outputs": [
        {
          "output_type": "execute_result",
          "data": {
            "text/plain": [
              "   age     bmi  children      charges  sex_female  sex_male  smoker_no  \\\n",
              "0   19  27.900         0  16884.92400           1         0          0   \n",
              "1   18  33.770         1   1725.55230           0         1          1   \n",
              "2   28  33.000         3   4449.46200           0         1          1   \n",
              "3   33  22.705         0  21984.47061           0         1          1   \n",
              "4   32  28.880         0   3866.85520           0         1          1   \n",
              "\n",
              "   smoker_yes  region_northeast  region_northwest  region_southeast  \\\n",
              "0           1                 0                 0                 0   \n",
              "1           0                 0                 0                 1   \n",
              "2           0                 0                 0                 1   \n",
              "3           0                 0                 1                 0   \n",
              "4           0                 0                 1                 0   \n",
              "\n",
              "   region_southwest  \n",
              "0                 1  \n",
              "1                 0  \n",
              "2                 0  \n",
              "3                 0  \n",
              "4                 0  "
            ],
            "text/html": [
              "\n",
              "  <div id=\"df-49130fa5-6150-41c8-b064-cacf9c6a4a5e\">\n",
              "    <div class=\"colab-df-container\">\n",
              "      <div>\n",
              "<style scoped>\n",
              "    .dataframe tbody tr th:only-of-type {\n",
              "        vertical-align: middle;\n",
              "    }\n",
              "\n",
              "    .dataframe tbody tr th {\n",
              "        vertical-align: top;\n",
              "    }\n",
              "\n",
              "    .dataframe thead th {\n",
              "        text-align: right;\n",
              "    }\n",
              "</style>\n",
              "<table border=\"1\" class=\"dataframe\">\n",
              "  <thead>\n",
              "    <tr style=\"text-align: right;\">\n",
              "      <th></th>\n",
              "      <th>age</th>\n",
              "      <th>bmi</th>\n",
              "      <th>children</th>\n",
              "      <th>charges</th>\n",
              "      <th>sex_female</th>\n",
              "      <th>sex_male</th>\n",
              "      <th>smoker_no</th>\n",
              "      <th>smoker_yes</th>\n",
              "      <th>region_northeast</th>\n",
              "      <th>region_northwest</th>\n",
              "      <th>region_southeast</th>\n",
              "      <th>region_southwest</th>\n",
              "    </tr>\n",
              "  </thead>\n",
              "  <tbody>\n",
              "    <tr>\n",
              "      <th>0</th>\n",
              "      <td>19</td>\n",
              "      <td>27.900</td>\n",
              "      <td>0</td>\n",
              "      <td>16884.92400</td>\n",
              "      <td>1</td>\n",
              "      <td>0</td>\n",
              "      <td>0</td>\n",
              "      <td>1</td>\n",
              "      <td>0</td>\n",
              "      <td>0</td>\n",
              "      <td>0</td>\n",
              "      <td>1</td>\n",
              "    </tr>\n",
              "    <tr>\n",
              "      <th>1</th>\n",
              "      <td>18</td>\n",
              "      <td>33.770</td>\n",
              "      <td>1</td>\n",
              "      <td>1725.55230</td>\n",
              "      <td>0</td>\n",
              "      <td>1</td>\n",
              "      <td>1</td>\n",
              "      <td>0</td>\n",
              "      <td>0</td>\n",
              "      <td>0</td>\n",
              "      <td>1</td>\n",
              "      <td>0</td>\n",
              "    </tr>\n",
              "    <tr>\n",
              "      <th>2</th>\n",
              "      <td>28</td>\n",
              "      <td>33.000</td>\n",
              "      <td>3</td>\n",
              "      <td>4449.46200</td>\n",
              "      <td>0</td>\n",
              "      <td>1</td>\n",
              "      <td>1</td>\n",
              "      <td>0</td>\n",
              "      <td>0</td>\n",
              "      <td>0</td>\n",
              "      <td>1</td>\n",
              "      <td>0</td>\n",
              "    </tr>\n",
              "    <tr>\n",
              "      <th>3</th>\n",
              "      <td>33</td>\n",
              "      <td>22.705</td>\n",
              "      <td>0</td>\n",
              "      <td>21984.47061</td>\n",
              "      <td>0</td>\n",
              "      <td>1</td>\n",
              "      <td>1</td>\n",
              "      <td>0</td>\n",
              "      <td>0</td>\n",
              "      <td>1</td>\n",
              "      <td>0</td>\n",
              "      <td>0</td>\n",
              "    </tr>\n",
              "    <tr>\n",
              "      <th>4</th>\n",
              "      <td>32</td>\n",
              "      <td>28.880</td>\n",
              "      <td>0</td>\n",
              "      <td>3866.85520</td>\n",
              "      <td>0</td>\n",
              "      <td>1</td>\n",
              "      <td>1</td>\n",
              "      <td>0</td>\n",
              "      <td>0</td>\n",
              "      <td>1</td>\n",
              "      <td>0</td>\n",
              "      <td>0</td>\n",
              "    </tr>\n",
              "  </tbody>\n",
              "</table>\n",
              "</div>\n",
              "      <button class=\"colab-df-convert\" onclick=\"convertToInteractive('df-49130fa5-6150-41c8-b064-cacf9c6a4a5e')\"\n",
              "              title=\"Convert this dataframe to an interactive table.\"\n",
              "              style=\"display:none;\">\n",
              "        \n",
              "  <svg xmlns=\"http://www.w3.org/2000/svg\" height=\"24px\"viewBox=\"0 0 24 24\"\n",
              "       width=\"24px\">\n",
              "    <path d=\"M0 0h24v24H0V0z\" fill=\"none\"/>\n",
              "    <path d=\"M18.56 5.44l.94 2.06.94-2.06 2.06-.94-2.06-.94-.94-2.06-.94 2.06-2.06.94zm-11 1L8.5 8.5l.94-2.06 2.06-.94-2.06-.94L8.5 2.5l-.94 2.06-2.06.94zm10 10l.94 2.06.94-2.06 2.06-.94-2.06-.94-.94-2.06-.94 2.06-2.06.94z\"/><path d=\"M17.41 7.96l-1.37-1.37c-.4-.4-.92-.59-1.43-.59-.52 0-1.04.2-1.43.59L10.3 9.45l-7.72 7.72c-.78.78-.78 2.05 0 2.83L4 21.41c.39.39.9.59 1.41.59.51 0 1.02-.2 1.41-.59l7.78-7.78 2.81-2.81c.8-.78.8-2.07 0-2.86zM5.41 20L4 18.59l7.72-7.72 1.47 1.35L5.41 20z\"/>\n",
              "  </svg>\n",
              "      </button>\n",
              "      \n",
              "  <style>\n",
              "    .colab-df-container {\n",
              "      display:flex;\n",
              "      flex-wrap:wrap;\n",
              "      gap: 12px;\n",
              "    }\n",
              "\n",
              "    .colab-df-convert {\n",
              "      background-color: #E8F0FE;\n",
              "      border: none;\n",
              "      border-radius: 50%;\n",
              "      cursor: pointer;\n",
              "      display: none;\n",
              "      fill: #1967D2;\n",
              "      height: 32px;\n",
              "      padding: 0 0 0 0;\n",
              "      width: 32px;\n",
              "    }\n",
              "\n",
              "    .colab-df-convert:hover {\n",
              "      background-color: #E2EBFA;\n",
              "      box-shadow: 0px 1px 2px rgba(60, 64, 67, 0.3), 0px 1px 3px 1px rgba(60, 64, 67, 0.15);\n",
              "      fill: #174EA6;\n",
              "    }\n",
              "\n",
              "    [theme=dark] .colab-df-convert {\n",
              "      background-color: #3B4455;\n",
              "      fill: #D2E3FC;\n",
              "    }\n",
              "\n",
              "    [theme=dark] .colab-df-convert:hover {\n",
              "      background-color: #434B5C;\n",
              "      box-shadow: 0px 1px 3px 1px rgba(0, 0, 0, 0.15);\n",
              "      filter: drop-shadow(0px 1px 2px rgba(0, 0, 0, 0.3));\n",
              "      fill: #FFFFFF;\n",
              "    }\n",
              "  </style>\n",
              "\n",
              "      <script>\n",
              "        const buttonEl =\n",
              "          document.querySelector('#df-49130fa5-6150-41c8-b064-cacf9c6a4a5e button.colab-df-convert');\n",
              "        buttonEl.style.display =\n",
              "          google.colab.kernel.accessAllowed ? 'block' : 'none';\n",
              "\n",
              "        async function convertToInteractive(key) {\n",
              "          const element = document.querySelector('#df-49130fa5-6150-41c8-b064-cacf9c6a4a5e');\n",
              "          const dataTable =\n",
              "            await google.colab.kernel.invokeFunction('convertToInteractive',\n",
              "                                                     [key], {});\n",
              "          if (!dataTable) return;\n",
              "\n",
              "          const docLinkHtml = 'Like what you see? Visit the ' +\n",
              "            '<a target=\"_blank\" href=https://colab.research.google.com/notebooks/data_table.ipynb>data table notebook</a>'\n",
              "            + ' to learn more about interactive tables.';\n",
              "          element.innerHTML = '';\n",
              "          dataTable['output_type'] = 'display_data';\n",
              "          await google.colab.output.renderOutput(dataTable, element);\n",
              "          const docLink = document.createElement('div');\n",
              "          docLink.innerHTML = docLinkHtml;\n",
              "          element.appendChild(docLink);\n",
              "        }\n",
              "      </script>\n",
              "    </div>\n",
              "  </div>\n",
              "  "
            ]
          },
          "metadata": {},
          "execution_count": 39
        }
      ]
    },
    {
      "cell_type": "code",
      "source": [
        "X = insurance_onehot.drop(\"charges\", axis=1)\n",
        "y = insurance_onehot[\"charges\"]"
      ],
      "metadata": {
        "id": "x5dpxUtGWjmZ"
      },
      "execution_count": 41,
      "outputs": []
    },
    {
      "cell_type": "code",
      "source": [
        "X.head()"
      ],
      "metadata": {
        "id": "TwSeIx6Va97W",
        "outputId": "5959f72a-c6e9-4ae7-953d-3e4927282c84",
        "colab": {
          "base_uri": "https://localhost:8080/",
          "height": 270
        }
      },
      "execution_count": 43,
      "outputs": [
        {
          "output_type": "execute_result",
          "data": {
            "text/plain": [
              "   age     bmi  children  sex_female  sex_male  smoker_no  smoker_yes  \\\n",
              "0   19  27.900         0           1         0          0           1   \n",
              "1   18  33.770         1           0         1          1           0   \n",
              "2   28  33.000         3           0         1          1           0   \n",
              "3   33  22.705         0           0         1          1           0   \n",
              "4   32  28.880         0           0         1          1           0   \n",
              "\n",
              "   region_northeast  region_northwest  region_southeast  region_southwest  \n",
              "0                 0                 0                 0                 1  \n",
              "1                 0                 0                 1                 0  \n",
              "2                 0                 0                 1                 0  \n",
              "3                 0                 1                 0                 0  \n",
              "4                 0                 1                 0                 0  "
            ],
            "text/html": [
              "\n",
              "  <div id=\"df-fcbdad35-fa52-444a-971c-d5d47249afa5\">\n",
              "    <div class=\"colab-df-container\">\n",
              "      <div>\n",
              "<style scoped>\n",
              "    .dataframe tbody tr th:only-of-type {\n",
              "        vertical-align: middle;\n",
              "    }\n",
              "\n",
              "    .dataframe tbody tr th {\n",
              "        vertical-align: top;\n",
              "    }\n",
              "\n",
              "    .dataframe thead th {\n",
              "        text-align: right;\n",
              "    }\n",
              "</style>\n",
              "<table border=\"1\" class=\"dataframe\">\n",
              "  <thead>\n",
              "    <tr style=\"text-align: right;\">\n",
              "      <th></th>\n",
              "      <th>age</th>\n",
              "      <th>bmi</th>\n",
              "      <th>children</th>\n",
              "      <th>sex_female</th>\n",
              "      <th>sex_male</th>\n",
              "      <th>smoker_no</th>\n",
              "      <th>smoker_yes</th>\n",
              "      <th>region_northeast</th>\n",
              "      <th>region_northwest</th>\n",
              "      <th>region_southeast</th>\n",
              "      <th>region_southwest</th>\n",
              "    </tr>\n",
              "  </thead>\n",
              "  <tbody>\n",
              "    <tr>\n",
              "      <th>0</th>\n",
              "      <td>19</td>\n",
              "      <td>27.900</td>\n",
              "      <td>0</td>\n",
              "      <td>1</td>\n",
              "      <td>0</td>\n",
              "      <td>0</td>\n",
              "      <td>1</td>\n",
              "      <td>0</td>\n",
              "      <td>0</td>\n",
              "      <td>0</td>\n",
              "      <td>1</td>\n",
              "    </tr>\n",
              "    <tr>\n",
              "      <th>1</th>\n",
              "      <td>18</td>\n",
              "      <td>33.770</td>\n",
              "      <td>1</td>\n",
              "      <td>0</td>\n",
              "      <td>1</td>\n",
              "      <td>1</td>\n",
              "      <td>0</td>\n",
              "      <td>0</td>\n",
              "      <td>0</td>\n",
              "      <td>1</td>\n",
              "      <td>0</td>\n",
              "    </tr>\n",
              "    <tr>\n",
              "      <th>2</th>\n",
              "      <td>28</td>\n",
              "      <td>33.000</td>\n",
              "      <td>3</td>\n",
              "      <td>0</td>\n",
              "      <td>1</td>\n",
              "      <td>1</td>\n",
              "      <td>0</td>\n",
              "      <td>0</td>\n",
              "      <td>0</td>\n",
              "      <td>1</td>\n",
              "      <td>0</td>\n",
              "    </tr>\n",
              "    <tr>\n",
              "      <th>3</th>\n",
              "      <td>33</td>\n",
              "      <td>22.705</td>\n",
              "      <td>0</td>\n",
              "      <td>0</td>\n",
              "      <td>1</td>\n",
              "      <td>1</td>\n",
              "      <td>0</td>\n",
              "      <td>0</td>\n",
              "      <td>1</td>\n",
              "      <td>0</td>\n",
              "      <td>0</td>\n",
              "    </tr>\n",
              "    <tr>\n",
              "      <th>4</th>\n",
              "      <td>32</td>\n",
              "      <td>28.880</td>\n",
              "      <td>0</td>\n",
              "      <td>0</td>\n",
              "      <td>1</td>\n",
              "      <td>1</td>\n",
              "      <td>0</td>\n",
              "      <td>0</td>\n",
              "      <td>1</td>\n",
              "      <td>0</td>\n",
              "      <td>0</td>\n",
              "    </tr>\n",
              "  </tbody>\n",
              "</table>\n",
              "</div>\n",
              "      <button class=\"colab-df-convert\" onclick=\"convertToInteractive('df-fcbdad35-fa52-444a-971c-d5d47249afa5')\"\n",
              "              title=\"Convert this dataframe to an interactive table.\"\n",
              "              style=\"display:none;\">\n",
              "        \n",
              "  <svg xmlns=\"http://www.w3.org/2000/svg\" height=\"24px\"viewBox=\"0 0 24 24\"\n",
              "       width=\"24px\">\n",
              "    <path d=\"M0 0h24v24H0V0z\" fill=\"none\"/>\n",
              "    <path d=\"M18.56 5.44l.94 2.06.94-2.06 2.06-.94-2.06-.94-.94-2.06-.94 2.06-2.06.94zm-11 1L8.5 8.5l.94-2.06 2.06-.94-2.06-.94L8.5 2.5l-.94 2.06-2.06.94zm10 10l.94 2.06.94-2.06 2.06-.94-2.06-.94-.94-2.06-.94 2.06-2.06.94z\"/><path d=\"M17.41 7.96l-1.37-1.37c-.4-.4-.92-.59-1.43-.59-.52 0-1.04.2-1.43.59L10.3 9.45l-7.72 7.72c-.78.78-.78 2.05 0 2.83L4 21.41c.39.39.9.59 1.41.59.51 0 1.02-.2 1.41-.59l7.78-7.78 2.81-2.81c.8-.78.8-2.07 0-2.86zM5.41 20L4 18.59l7.72-7.72 1.47 1.35L5.41 20z\"/>\n",
              "  </svg>\n",
              "      </button>\n",
              "      \n",
              "  <style>\n",
              "    .colab-df-container {\n",
              "      display:flex;\n",
              "      flex-wrap:wrap;\n",
              "      gap: 12px;\n",
              "    }\n",
              "\n",
              "    .colab-df-convert {\n",
              "      background-color: #E8F0FE;\n",
              "      border: none;\n",
              "      border-radius: 50%;\n",
              "      cursor: pointer;\n",
              "      display: none;\n",
              "      fill: #1967D2;\n",
              "      height: 32px;\n",
              "      padding: 0 0 0 0;\n",
              "      width: 32px;\n",
              "    }\n",
              "\n",
              "    .colab-df-convert:hover {\n",
              "      background-color: #E2EBFA;\n",
              "      box-shadow: 0px 1px 2px rgba(60, 64, 67, 0.3), 0px 1px 3px 1px rgba(60, 64, 67, 0.15);\n",
              "      fill: #174EA6;\n",
              "    }\n",
              "\n",
              "    [theme=dark] .colab-df-convert {\n",
              "      background-color: #3B4455;\n",
              "      fill: #D2E3FC;\n",
              "    }\n",
              "\n",
              "    [theme=dark] .colab-df-convert:hover {\n",
              "      background-color: #434B5C;\n",
              "      box-shadow: 0px 1px 3px 1px rgba(0, 0, 0, 0.15);\n",
              "      filter: drop-shadow(0px 1px 2px rgba(0, 0, 0, 0.3));\n",
              "      fill: #FFFFFF;\n",
              "    }\n",
              "  </style>\n",
              "\n",
              "      <script>\n",
              "        const buttonEl =\n",
              "          document.querySelector('#df-fcbdad35-fa52-444a-971c-d5d47249afa5 button.colab-df-convert');\n",
              "        buttonEl.style.display =\n",
              "          google.colab.kernel.accessAllowed ? 'block' : 'none';\n",
              "\n",
              "        async function convertToInteractive(key) {\n",
              "          const element = document.querySelector('#df-fcbdad35-fa52-444a-971c-d5d47249afa5');\n",
              "          const dataTable =\n",
              "            await google.colab.kernel.invokeFunction('convertToInteractive',\n",
              "                                                     [key], {});\n",
              "          if (!dataTable) return;\n",
              "\n",
              "          const docLinkHtml = 'Like what you see? Visit the ' +\n",
              "            '<a target=\"_blank\" href=https://colab.research.google.com/notebooks/data_table.ipynb>data table notebook</a>'\n",
              "            + ' to learn more about interactive tables.';\n",
              "          element.innerHTML = '';\n",
              "          dataTable['output_type'] = 'display_data';\n",
              "          await google.colab.output.renderOutput(dataTable, element);\n",
              "          const docLink = document.createElement('div');\n",
              "          docLink.innerHTML = docLinkHtml;\n",
              "          element.appendChild(docLink);\n",
              "        }\n",
              "      </script>\n",
              "    </div>\n",
              "  </div>\n",
              "  "
            ]
          },
          "metadata": {},
          "execution_count": 43
        }
      ]
    },
    {
      "cell_type": "code",
      "source": [
        "y.head()"
      ],
      "metadata": {
        "id": "5OOewLv-bRLd",
        "outputId": "12a70355-9186-4c28-9de8-f7760f82404a",
        "colab": {
          "base_uri": "https://localhost:8080/"
        }
      },
      "execution_count": 44,
      "outputs": [
        {
          "output_type": "execute_result",
          "data": {
            "text/plain": [
              "0    16884.92400\n",
              "1     1725.55230\n",
              "2     4449.46200\n",
              "3    21984.47061\n",
              "4     3866.85520\n",
              "Name: charges, dtype: float64"
            ]
          },
          "metadata": {},
          "execution_count": 44
        }
      ]
    },
    {
      "cell_type": "code",
      "source": [
        "from sklearn.model_selection import train_test_split\n",
        "X_train, X_test, y_train, y_test = train_test_split(X, y, test_size= 0.2, random_state=42)"
      ],
      "metadata": {
        "id": "if6iV_qGbV_d"
      },
      "execution_count": 45,
      "outputs": []
    },
    {
      "cell_type": "code",
      "source": [
        "tf.random.set_seed = 42\n",
        "\n",
        "insurance_model = tf.keras.Sequential([\n",
        "  tf.keras.layers.Dense(1),\n",
        "  tf.keras.layers.Dense(10)                                       \n",
        "])\n",
        "\n",
        "insurance_model.compile(loss = tf.keras.losses.mae,\n",
        "                        optimizer = tf.keras.optimizers.SGD(),\n",
        "                        metrics=[\"mae\"])\n",
        "\n",
        "insurance_model.fit(X_train, y_train, epochs=100)"
      ],
      "metadata": {
        "id": "tZJgEAgJcy82"
      },
      "execution_count": null,
      "outputs": []
    },
    {
      "cell_type": "code",
      "source": [
        "insurance_model.evaluate(X_test, y_test)"
      ],
      "metadata": {
        "id": "oiC-Irybdpnc",
        "outputId": "3eef2c04-ad17-497c-e500-04ddac89987d",
        "colab": {
          "base_uri": "https://localhost:8080/"
        }
      },
      "execution_count": 47,
      "outputs": [
        {
          "output_type": "stream",
          "name": "stdout",
          "text": [
            "9/9 [==============================] - 0s 5ms/step - loss: 8195.6162 - mae: 8195.6162\n"
          ]
        },
        {
          "output_type": "execute_result",
          "data": {
            "text/plain": [
              "[8195.6162109375, 8195.6162109375]"
            ]
          },
          "metadata": {},
          "execution_count": 47
        }
      ]
    },
    {
      "cell_type": "code",
      "source": [
        "tf.random.set_seed = 42\n",
        "\n",
        "insurance_model_2 = tf.keras.Sequential([\n",
        "  tf.keras.layers.Dense(100),\n",
        "  tf.keras.layers.Dense(10),\n",
        "  tf.keras.layers.Dense(1)                                       \n",
        "])\n",
        "\n",
        "insurance_model_2.compile(loss = tf.keras.losses.mae,\n",
        "                        optimizer = tf.keras.optimizers.Adam(),\n",
        "                        metrics=[\"mae\"])\n",
        "\n",
        "insurance_model_2.fit(X_train, y_train, epochs=100)"
      ],
      "metadata": {
        "id": "E9v5gGN4d0Ar",
        "outputId": "81c77891-3dd6-4ddc-a7b7-e317be331e71",
        "colab": {
          "base_uri": "https://localhost:8080/"
        }
      },
      "execution_count": 51,
      "outputs": [
        {
          "output_type": "stream",
          "name": "stdout",
          "text": [
            "Epoch 1/100\n",
            "34/34 [==============================] - 1s 2ms/step - loss: 13303.1650 - mae: 13303.1650\n",
            "Epoch 2/100\n",
            "34/34 [==============================] - 0s 2ms/step - loss: 13166.2793 - mae: 13166.2793\n",
            "Epoch 3/100\n",
            "34/34 [==============================] - 0s 3ms/step - loss: 12871.6807 - mae: 12871.6807\n",
            "Epoch 4/100\n",
            "34/34 [==============================] - 0s 3ms/step - loss: 12269.9912 - mae: 12269.9912\n",
            "Epoch 5/100\n",
            "34/34 [==============================] - 0s 3ms/step - loss: 11221.6172 - mae: 11221.6172\n",
            "Epoch 6/100\n",
            "34/34 [==============================] - 0s 3ms/step - loss: 9787.3740 - mae: 9787.3740\n",
            "Epoch 7/100\n",
            "34/34 [==============================] - 0s 2ms/step - loss: 8386.9512 - mae: 8386.9512\n",
            "Epoch 8/100\n",
            "34/34 [==============================] - 0s 3ms/step - loss: 7584.2554 - mae: 7584.2554\n",
            "Epoch 9/100\n",
            "34/34 [==============================] - 0s 2ms/step - loss: 7417.9370 - mae: 7417.9370\n",
            "Epoch 10/100\n",
            "34/34 [==============================] - 0s 3ms/step - loss: 7397.3018 - mae: 7397.3018\n",
            "Epoch 11/100\n",
            "34/34 [==============================] - 0s 2ms/step - loss: 7378.3521 - mae: 7378.3521\n",
            "Epoch 12/100\n",
            "34/34 [==============================] - 0s 2ms/step - loss: 7356.2412 - mae: 7356.2412\n",
            "Epoch 13/100\n",
            "34/34 [==============================] - 0s 2ms/step - loss: 7336.5220 - mae: 7336.5220\n",
            "Epoch 14/100\n",
            "34/34 [==============================] - 0s 2ms/step - loss: 7315.7705 - mae: 7315.7705\n",
            "Epoch 15/100\n",
            "34/34 [==============================] - 0s 2ms/step - loss: 7295.1992 - mae: 7295.1992\n",
            "Epoch 16/100\n",
            "34/34 [==============================] - 0s 3ms/step - loss: 7273.6665 - mae: 7273.6665\n",
            "Epoch 17/100\n",
            "34/34 [==============================] - 0s 3ms/step - loss: 7252.7725 - mae: 7252.7725\n",
            "Epoch 18/100\n",
            "34/34 [==============================] - 0s 3ms/step - loss: 7232.3091 - mae: 7232.3091\n",
            "Epoch 19/100\n",
            "34/34 [==============================] - 0s 2ms/step - loss: 7208.9243 - mae: 7208.9243\n",
            "Epoch 20/100\n",
            "34/34 [==============================] - 0s 2ms/step - loss: 7184.6763 - mae: 7184.6763\n",
            "Epoch 21/100\n",
            "34/34 [==============================] - 0s 3ms/step - loss: 7163.1748 - mae: 7163.1748\n",
            "Epoch 22/100\n",
            "34/34 [==============================] - 0s 2ms/step - loss: 7139.8022 - mae: 7139.8022\n",
            "Epoch 23/100\n",
            "34/34 [==============================] - 0s 3ms/step - loss: 7115.0156 - mae: 7115.0156\n",
            "Epoch 24/100\n",
            "34/34 [==============================] - 0s 2ms/step - loss: 7087.6934 - mae: 7087.6934\n",
            "Epoch 25/100\n",
            "34/34 [==============================] - 0s 2ms/step - loss: 7061.3750 - mae: 7061.3750\n",
            "Epoch 26/100\n",
            "34/34 [==============================] - 0s 2ms/step - loss: 7032.9048 - mae: 7032.9048\n",
            "Epoch 27/100\n",
            "34/34 [==============================] - 0s 2ms/step - loss: 7006.8516 - mae: 7006.8516\n",
            "Epoch 28/100\n",
            "34/34 [==============================] - 0s 3ms/step - loss: 6978.9258 - mae: 6978.9258\n",
            "Epoch 29/100\n",
            "34/34 [==============================] - 0s 3ms/step - loss: 6951.5420 - mae: 6951.5420\n",
            "Epoch 30/100\n",
            "34/34 [==============================] - 0s 4ms/step - loss: 6920.9751 - mae: 6920.9751\n",
            "Epoch 31/100\n",
            "34/34 [==============================] - 0s 4ms/step - loss: 6887.4878 - mae: 6887.4878\n",
            "Epoch 32/100\n",
            "34/34 [==============================] - 0s 4ms/step - loss: 6858.6567 - mae: 6858.6567\n",
            "Epoch 33/100\n",
            "34/34 [==============================] - 0s 4ms/step - loss: 6827.8682 - mae: 6827.8682\n",
            "Epoch 34/100\n",
            "34/34 [==============================] - 0s 4ms/step - loss: 6795.1787 - mae: 6795.1787\n",
            "Epoch 35/100\n",
            "34/34 [==============================] - 0s 3ms/step - loss: 6760.7749 - mae: 6760.7749\n",
            "Epoch 36/100\n",
            "34/34 [==============================] - 0s 3ms/step - loss: 6723.4248 - mae: 6723.4248\n",
            "Epoch 37/100\n",
            "34/34 [==============================] - 0s 4ms/step - loss: 6689.7319 - mae: 6689.7319\n",
            "Epoch 38/100\n",
            "34/34 [==============================] - 0s 4ms/step - loss: 6652.3652 - mae: 6652.3652\n",
            "Epoch 39/100\n",
            "34/34 [==============================] - 0s 4ms/step - loss: 6616.1138 - mae: 6616.1138\n",
            "Epoch 40/100\n",
            "34/34 [==============================] - 0s 4ms/step - loss: 6583.7466 - mae: 6583.7466\n",
            "Epoch 41/100\n",
            "34/34 [==============================] - 0s 3ms/step - loss: 6552.6650 - mae: 6552.6650\n",
            "Epoch 42/100\n",
            "34/34 [==============================] - 0s 3ms/step - loss: 6530.4268 - mae: 6530.4268\n",
            "Epoch 43/100\n",
            "34/34 [==============================] - 0s 3ms/step - loss: 6506.4409 - mae: 6506.4409\n",
            "Epoch 44/100\n",
            "34/34 [==============================] - 0s 4ms/step - loss: 6491.8379 - mae: 6491.8379\n",
            "Epoch 45/100\n",
            "34/34 [==============================] - 0s 4ms/step - loss: 6473.7036 - mae: 6473.7036\n",
            "Epoch 46/100\n",
            "34/34 [==============================] - 0s 4ms/step - loss: 6459.2036 - mae: 6459.2036\n",
            "Epoch 47/100\n",
            "34/34 [==============================] - 0s 4ms/step - loss: 6445.1548 - mae: 6445.1548\n",
            "Epoch 48/100\n",
            "34/34 [==============================] - 0s 4ms/step - loss: 6432.7446 - mae: 6432.7446\n",
            "Epoch 49/100\n",
            "34/34 [==============================] - 0s 4ms/step - loss: 6421.4141 - mae: 6421.4141\n",
            "Epoch 50/100\n",
            "34/34 [==============================] - 0s 4ms/step - loss: 6406.1772 - mae: 6406.1772\n",
            "Epoch 51/100\n",
            "34/34 [==============================] - 0s 4ms/step - loss: 6393.7495 - mae: 6393.7495\n",
            "Epoch 52/100\n",
            "34/34 [==============================] - 0s 7ms/step - loss: 6380.4487 - mae: 6380.4487\n",
            "Epoch 53/100\n",
            "34/34 [==============================] - 0s 9ms/step - loss: 6367.2964 - mae: 6367.2964\n",
            "Epoch 54/100\n",
            "34/34 [==============================] - 0s 7ms/step - loss: 6353.4438 - mae: 6353.4438\n",
            "Epoch 55/100\n",
            "34/34 [==============================] - 0s 8ms/step - loss: 6344.8608 - mae: 6344.8608\n",
            "Epoch 56/100\n",
            "34/34 [==============================] - 0s 8ms/step - loss: 6325.9790 - mae: 6325.9790\n",
            "Epoch 57/100\n",
            "34/34 [==============================] - 0s 8ms/step - loss: 6312.0625 - mae: 6312.0625\n",
            "Epoch 58/100\n",
            "34/34 [==============================] - 0s 4ms/step - loss: 6298.8174 - mae: 6298.8174\n",
            "Epoch 59/100\n",
            "34/34 [==============================] - 0s 3ms/step - loss: 6285.4658 - mae: 6285.4658\n",
            "Epoch 60/100\n",
            "34/34 [==============================] - 0s 4ms/step - loss: 6273.9912 - mae: 6273.9912\n",
            "Epoch 61/100\n",
            "34/34 [==============================] - 0s 4ms/step - loss: 6254.7842 - mae: 6254.7842\n",
            "Epoch 62/100\n",
            "34/34 [==============================] - 0s 3ms/step - loss: 6241.8979 - mae: 6241.8979\n",
            "Epoch 63/100\n",
            "34/34 [==============================] - 0s 5ms/step - loss: 6223.8242 - mae: 6223.8242\n",
            "Epoch 64/100\n",
            "34/34 [==============================] - 0s 6ms/step - loss: 6211.6011 - mae: 6211.6011\n",
            "Epoch 65/100\n",
            "34/34 [==============================] - 0s 3ms/step - loss: 6192.4243 - mae: 6192.4243\n",
            "Epoch 66/100\n",
            "34/34 [==============================] - 0s 4ms/step - loss: 6176.6440 - mae: 6176.6440\n",
            "Epoch 67/100\n",
            "34/34 [==============================] - 0s 4ms/step - loss: 6160.5845 - mae: 6160.5845\n",
            "Epoch 68/100\n",
            "34/34 [==============================] - 0s 4ms/step - loss: 6142.8115 - mae: 6142.8115\n",
            "Epoch 69/100\n",
            "34/34 [==============================] - 0s 4ms/step - loss: 6125.7070 - mae: 6125.7070\n",
            "Epoch 70/100\n",
            "34/34 [==============================] - 0s 3ms/step - loss: 6104.3721 - mae: 6104.3721\n",
            "Epoch 71/100\n",
            "34/34 [==============================] - 0s 4ms/step - loss: 6085.1885 - mae: 6085.1885\n",
            "Epoch 72/100\n",
            "34/34 [==============================] - 0s 4ms/step - loss: 6067.5581 - mae: 6067.5581\n",
            "Epoch 73/100\n",
            "34/34 [==============================] - 0s 4ms/step - loss: 6046.0962 - mae: 6046.0962\n",
            "Epoch 74/100\n",
            "34/34 [==============================] - 0s 4ms/step - loss: 6029.0352 - mae: 6029.0352\n",
            "Epoch 75/100\n",
            "34/34 [==============================] - 0s 4ms/step - loss: 6004.0962 - mae: 6004.0962\n",
            "Epoch 76/100\n",
            "34/34 [==============================] - 0s 4ms/step - loss: 5981.0278 - mae: 5981.0278\n",
            "Epoch 77/100\n",
            "34/34 [==============================] - 0s 4ms/step - loss: 5958.8760 - mae: 5958.8760\n",
            "Epoch 78/100\n",
            "34/34 [==============================] - 0s 4ms/step - loss: 5938.6440 - mae: 5938.6440\n",
            "Epoch 79/100\n",
            "34/34 [==============================] - 0s 2ms/step - loss: 5917.9043 - mae: 5917.9043\n",
            "Epoch 80/100\n",
            "34/34 [==============================] - 0s 2ms/step - loss: 5885.6074 - mae: 5885.6074\n",
            "Epoch 81/100\n",
            "34/34 [==============================] - 0s 3ms/step - loss: 5862.1880 - mae: 5862.1880\n",
            "Epoch 82/100\n",
            "34/34 [==============================] - 0s 4ms/step - loss: 5829.7212 - mae: 5829.7212\n",
            "Epoch 83/100\n",
            "34/34 [==============================] - 0s 2ms/step - loss: 5803.5010 - mae: 5803.5010\n",
            "Epoch 84/100\n",
            "34/34 [==============================] - 0s 4ms/step - loss: 5778.6870 - mae: 5778.6870\n",
            "Epoch 85/100\n",
            "34/34 [==============================] - 0s 4ms/step - loss: 5743.9907 - mae: 5743.9907\n",
            "Epoch 86/100\n",
            "34/34 [==============================] - 0s 3ms/step - loss: 5719.0688 - mae: 5719.0688\n",
            "Epoch 87/100\n",
            "34/34 [==============================] - 0s 4ms/step - loss: 5673.9463 - mae: 5673.9463\n",
            "Epoch 88/100\n",
            "34/34 [==============================] - 0s 4ms/step - loss: 5643.7104 - mae: 5643.7104\n",
            "Epoch 89/100\n",
            "34/34 [==============================] - 0s 3ms/step - loss: 5605.4961 - mae: 5605.4961\n",
            "Epoch 90/100\n",
            "34/34 [==============================] - 0s 3ms/step - loss: 5570.9536 - mae: 5570.9536\n",
            "Epoch 91/100\n",
            "34/34 [==============================] - 0s 4ms/step - loss: 5525.4858 - mae: 5525.4858\n",
            "Epoch 92/100\n",
            "34/34 [==============================] - 0s 3ms/step - loss: 5482.5767 - mae: 5482.5767\n",
            "Epoch 93/100\n",
            "34/34 [==============================] - 0s 4ms/step - loss: 5456.1577 - mae: 5456.1577\n",
            "Epoch 94/100\n",
            "34/34 [==============================] - 0s 4ms/step - loss: 5398.3755 - mae: 5398.3755\n",
            "Epoch 95/100\n",
            "34/34 [==============================] - 0s 3ms/step - loss: 5347.5820 - mae: 5347.5820\n",
            "Epoch 96/100\n",
            "34/34 [==============================] - 0s 2ms/step - loss: 5303.5264 - mae: 5303.5264\n",
            "Epoch 97/100\n",
            "34/34 [==============================] - 0s 2ms/step - loss: 5250.9575 - mae: 5250.9575\n",
            "Epoch 98/100\n",
            "34/34 [==============================] - 0s 3ms/step - loss: 5209.6597 - mae: 5209.6597\n",
            "Epoch 99/100\n",
            "34/34 [==============================] - 0s 4ms/step - loss: 5152.2949 - mae: 5152.2949\n",
            "Epoch 100/100\n",
            "34/34 [==============================] - 0s 2ms/step - loss: 5081.0923 - mae: 5081.0923\n"
          ]
        },
        {
          "output_type": "execute_result",
          "data": {
            "text/plain": [
              "<keras.callbacks.History at 0x7f402d275ad0>"
            ]
          },
          "metadata": {},
          "execution_count": 51
        }
      ]
    },
    {
      "cell_type": "code",
      "source": [
        "insurance_model_2.evaluate(X_test, y_test)"
      ],
      "metadata": {
        "id": "wTiCn1EeethT",
        "outputId": "97f40592-2eb2-4e71-b4d5-5f0322f9cf1c",
        "colab": {
          "base_uri": "https://localhost:8080/"
        }
      },
      "execution_count": 52,
      "outputs": [
        {
          "output_type": "stream",
          "name": "stdout",
          "text": [
            "9/9 [==============================] - 0s 2ms/step - loss: 4959.4551 - mae: 4959.4551\n"
          ]
        },
        {
          "output_type": "execute_result",
          "data": {
            "text/plain": [
              "[4959.455078125, 4959.455078125]"
            ]
          },
          "metadata": {},
          "execution_count": 52
        }
      ]
    },
    {
      "cell_type": "code",
      "source": [
        "tf.random.set_seed = 42\n",
        "\n",
        "insurance_model_3 = tf.keras.Sequential([\n",
        "  tf.keras.layers.Dense(100),\n",
        "  tf.keras.layers.Dense(10),\n",
        "  tf.keras.layers.Dense(1)                                       \n",
        "])\n",
        "\n",
        "insurance_model_3.compile(loss = tf.keras.losses.mae,\n",
        "                        optimizer = tf.keras.optimizers.Adam(),\n",
        "                        metrics=[\"mae\"])\n",
        "\n",
        "history = insurance_model_3.fit(X_train, y_train, epochs=200)"
      ],
      "metadata": {
        "id": "MNFCuoVLe0mB",
        "outputId": "d3c36099-f898-4e2f-c8b7-87d6f9f51fc9",
        "colab": {
          "base_uri": "https://localhost:8080/"
        }
      },
      "execution_count": 54,
      "outputs": [
        {
          "output_type": "stream",
          "name": "stdout",
          "text": [
            "Epoch 1/200\n",
            "34/34 [==============================] - 1s 4ms/step - loss: 13296.9766 - mae: 13296.9766\n",
            "Epoch 2/200\n",
            "34/34 [==============================] - 0s 4ms/step - loss: 13166.9053 - mae: 13166.9053\n",
            "Epoch 3/200\n",
            "34/34 [==============================] - 0s 5ms/step - loss: 12890.6055 - mae: 12890.6055\n",
            "Epoch 4/200\n",
            "34/34 [==============================] - 0s 5ms/step - loss: 12330.7490 - mae: 12330.7490\n",
            "Epoch 5/200\n",
            "34/34 [==============================] - 0s 3ms/step - loss: 11339.4717 - mae: 11339.4717\n",
            "Epoch 6/200\n",
            "34/34 [==============================] - 0s 3ms/step - loss: 9923.1504 - mae: 9923.1504\n",
            "Epoch 7/200\n",
            "34/34 [==============================] - 0s 4ms/step - loss: 8487.3828 - mae: 8487.3828\n",
            "Epoch 8/200\n",
            "34/34 [==============================] - 0s 4ms/step - loss: 7603.5488 - mae: 7603.5488\n",
            "Epoch 9/200\n",
            "34/34 [==============================] - 0s 4ms/step - loss: 7413.4922 - mae: 7413.4922\n",
            "Epoch 10/200\n",
            "34/34 [==============================] - 0s 4ms/step - loss: 7392.7583 - mae: 7392.7583\n",
            "Epoch 11/200\n",
            "34/34 [==============================] - 0s 3ms/step - loss: 7372.6372 - mae: 7372.6372\n",
            "Epoch 12/200\n",
            "34/34 [==============================] - 0s 4ms/step - loss: 7352.8223 - mae: 7352.8223\n",
            "Epoch 13/200\n",
            "34/34 [==============================] - 0s 4ms/step - loss: 7335.1689 - mae: 7335.1689\n",
            "Epoch 14/200\n",
            "34/34 [==============================] - 0s 5ms/step - loss: 7312.7598 - mae: 7312.7598\n",
            "Epoch 15/200\n",
            "34/34 [==============================] - 0s 4ms/step - loss: 7298.1504 - mae: 7298.1504\n",
            "Epoch 16/200\n",
            "34/34 [==============================] - 0s 3ms/step - loss: 7274.1943 - mae: 7274.1943\n",
            "Epoch 17/200\n",
            "34/34 [==============================] - 0s 4ms/step - loss: 7258.7759 - mae: 7258.7759\n",
            "Epoch 18/200\n",
            "34/34 [==============================] - 0s 4ms/step - loss: 7233.5547 - mae: 7233.5547\n",
            "Epoch 19/200\n",
            "34/34 [==============================] - 0s 4ms/step - loss: 7210.2324 - mae: 7210.2324\n",
            "Epoch 20/200\n",
            "34/34 [==============================] - 0s 4ms/step - loss: 7189.5488 - mae: 7189.5488\n",
            "Epoch 21/200\n",
            "34/34 [==============================] - 0s 4ms/step - loss: 7169.8408 - mae: 7169.8408\n",
            "Epoch 22/200\n",
            "34/34 [==============================] - 0s 4ms/step - loss: 7143.8188 - mae: 7143.8188\n",
            "Epoch 23/200\n",
            "34/34 [==============================] - 0s 4ms/step - loss: 7117.8267 - mae: 7117.8267\n",
            "Epoch 24/200\n",
            "34/34 [==============================] - 0s 4ms/step - loss: 7096.8643 - mae: 7096.8643\n",
            "Epoch 25/200\n",
            "34/34 [==============================] - 0s 4ms/step - loss: 7067.1245 - mae: 7067.1245\n",
            "Epoch 26/200\n",
            "34/34 [==============================] - 0s 4ms/step - loss: 7043.9907 - mae: 7043.9907\n",
            "Epoch 27/200\n",
            "34/34 [==============================] - 0s 4ms/step - loss: 7015.3120 - mae: 7015.3120\n",
            "Epoch 28/200\n",
            "34/34 [==============================] - 0s 4ms/step - loss: 6988.4346 - mae: 6988.4346\n",
            "Epoch 29/200\n",
            "34/34 [==============================] - 0s 4ms/step - loss: 6959.4521 - mae: 6959.4521\n",
            "Epoch 30/200\n",
            "34/34 [==============================] - 0s 4ms/step - loss: 6929.6060 - mae: 6929.6060\n",
            "Epoch 31/200\n",
            "34/34 [==============================] - 0s 3ms/step - loss: 6900.4507 - mae: 6900.4507\n",
            "Epoch 32/200\n",
            "34/34 [==============================] - 0s 4ms/step - loss: 6868.8525 - mae: 6868.8525\n",
            "Epoch 33/200\n",
            "34/34 [==============================] - 0s 4ms/step - loss: 6837.4141 - mae: 6837.4141\n",
            "Epoch 34/200\n",
            "34/34 [==============================] - 0s 4ms/step - loss: 6808.0010 - mae: 6808.0010\n",
            "Epoch 35/200\n",
            "34/34 [==============================] - 0s 5ms/step - loss: 6772.5000 - mae: 6772.5000\n",
            "Epoch 36/200\n",
            "34/34 [==============================] - 0s 4ms/step - loss: 6734.3096 - mae: 6734.3096\n",
            "Epoch 37/200\n",
            "34/34 [==============================] - 0s 4ms/step - loss: 6702.4497 - mae: 6702.4497\n",
            "Epoch 38/200\n",
            "34/34 [==============================] - 0s 5ms/step - loss: 6670.3965 - mae: 6670.3965\n",
            "Epoch 39/200\n",
            "34/34 [==============================] - 0s 5ms/step - loss: 6634.8535 - mae: 6634.8535\n",
            "Epoch 40/200\n",
            "34/34 [==============================] - 0s 5ms/step - loss: 6599.4883 - mae: 6599.4883\n",
            "Epoch 41/200\n",
            "34/34 [==============================] - 0s 4ms/step - loss: 6567.7954 - mae: 6567.7954\n",
            "Epoch 42/200\n",
            "34/34 [==============================] - 0s 5ms/step - loss: 6542.7793 - mae: 6542.7793\n",
            "Epoch 43/200\n",
            "34/34 [==============================] - 0s 4ms/step - loss: 6517.6357 - mae: 6517.6357\n",
            "Epoch 44/200\n",
            "34/34 [==============================] - 0s 5ms/step - loss: 6500.5054 - mae: 6500.5054\n",
            "Epoch 45/200\n",
            "34/34 [==============================] - 0s 4ms/step - loss: 6480.9185 - mae: 6480.9185\n",
            "Epoch 46/200\n",
            "34/34 [==============================] - 0s 6ms/step - loss: 6469.3916 - mae: 6469.3916\n",
            "Epoch 47/200\n",
            "34/34 [==============================] - 0s 5ms/step - loss: 6452.5039 - mae: 6452.5039\n",
            "Epoch 48/200\n",
            "34/34 [==============================] - 0s 5ms/step - loss: 6443.1987 - mae: 6443.1987\n",
            "Epoch 49/200\n",
            "34/34 [==============================] - 0s 6ms/step - loss: 6427.0117 - mae: 6427.0117\n",
            "Epoch 50/200\n",
            "34/34 [==============================] - 0s 5ms/step - loss: 6415.5830 - mae: 6415.5830\n",
            "Epoch 51/200\n",
            "34/34 [==============================] - 0s 3ms/step - loss: 6401.2725 - mae: 6401.2725\n",
            "Epoch 52/200\n",
            "34/34 [==============================] - 0s 3ms/step - loss: 6391.4658 - mae: 6391.4658\n",
            "Epoch 53/200\n",
            "34/34 [==============================] - 0s 5ms/step - loss: 6377.6733 - mae: 6377.6733\n",
            "Epoch 54/200\n",
            "34/34 [==============================] - 0s 4ms/step - loss: 6364.8452 - mae: 6364.8452\n",
            "Epoch 55/200\n",
            "34/34 [==============================] - 0s 4ms/step - loss: 6356.7612 - mae: 6356.7612\n",
            "Epoch 56/200\n",
            "34/34 [==============================] - 0s 4ms/step - loss: 6339.6821 - mae: 6339.6821\n",
            "Epoch 57/200\n",
            "34/34 [==============================] - 0s 4ms/step - loss: 6325.3789 - mae: 6325.3789\n",
            "Epoch 58/200\n",
            "34/34 [==============================] - 0s 3ms/step - loss: 6316.7202 - mae: 6316.7202\n",
            "Epoch 59/200\n",
            "34/34 [==============================] - 0s 5ms/step - loss: 6300.8687 - mae: 6300.8687\n",
            "Epoch 60/200\n",
            "34/34 [==============================] - 0s 4ms/step - loss: 6282.9858 - mae: 6282.9858\n",
            "Epoch 61/200\n",
            "34/34 [==============================] - 0s 4ms/step - loss: 6267.9170 - mae: 6267.9170\n",
            "Epoch 62/200\n",
            "34/34 [==============================] - 0s 4ms/step - loss: 6251.7876 - mae: 6251.7876\n",
            "Epoch 63/200\n",
            "34/34 [==============================] - 0s 3ms/step - loss: 6242.2300 - mae: 6242.2300\n",
            "Epoch 64/200\n",
            "34/34 [==============================] - 0s 4ms/step - loss: 6223.7788 - mae: 6223.7788\n",
            "Epoch 65/200\n",
            "34/34 [==============================] - 0s 4ms/step - loss: 6207.3022 - mae: 6207.3022\n",
            "Epoch 66/200\n",
            "34/34 [==============================] - 0s 4ms/step - loss: 6191.6309 - mae: 6191.6309\n",
            "Epoch 67/200\n",
            "34/34 [==============================] - 0s 5ms/step - loss: 6177.5576 - mae: 6177.5576\n",
            "Epoch 68/200\n",
            "34/34 [==============================] - 0s 4ms/step - loss: 6158.8320 - mae: 6158.8320\n",
            "Epoch 69/200\n",
            "34/34 [==============================] - 0s 3ms/step - loss: 6140.7422 - mae: 6140.7422\n",
            "Epoch 70/200\n",
            "34/34 [==============================] - 0s 3ms/step - loss: 6126.4131 - mae: 6126.4131\n",
            "Epoch 71/200\n",
            "34/34 [==============================] - 0s 3ms/step - loss: 6106.9136 - mae: 6106.9136\n",
            "Epoch 72/200\n",
            "34/34 [==============================] - 0s 4ms/step - loss: 6085.5698 - mae: 6085.5698\n",
            "Epoch 73/200\n",
            "34/34 [==============================] - 0s 4ms/step - loss: 6066.3384 - mae: 6066.3384\n",
            "Epoch 74/200\n",
            "34/34 [==============================] - 0s 4ms/step - loss: 6052.8979 - mae: 6052.8979\n",
            "Epoch 75/200\n",
            "34/34 [==============================] - 0s 4ms/step - loss: 6024.3242 - mae: 6024.3242\n",
            "Epoch 76/200\n",
            "34/34 [==============================] - 0s 4ms/step - loss: 6003.1143 - mae: 6003.1143\n",
            "Epoch 77/200\n",
            "34/34 [==============================] - 0s 4ms/step - loss: 5987.3604 - mae: 5987.3604\n",
            "Epoch 78/200\n",
            "34/34 [==============================] - 0s 4ms/step - loss: 5962.9468 - mae: 5962.9468\n",
            "Epoch 79/200\n",
            "34/34 [==============================] - 0s 3ms/step - loss: 5941.4893 - mae: 5941.4893\n",
            "Epoch 80/200\n",
            "34/34 [==============================] - 0s 4ms/step - loss: 5914.9946 - mae: 5914.9946\n",
            "Epoch 81/200\n",
            "34/34 [==============================] - 0s 4ms/step - loss: 5888.0488 - mae: 5888.0488\n",
            "Epoch 82/200\n",
            "34/34 [==============================] - 0s 3ms/step - loss: 5866.9209 - mae: 5866.9209\n",
            "Epoch 83/200\n",
            "34/34 [==============================] - 0s 4ms/step - loss: 5835.4229 - mae: 5835.4229\n",
            "Epoch 84/200\n",
            "34/34 [==============================] - 0s 4ms/step - loss: 5810.3560 - mae: 5810.3560\n",
            "Epoch 85/200\n",
            "34/34 [==============================] - 0s 4ms/step - loss: 5782.8027 - mae: 5782.8027\n",
            "Epoch 86/200\n",
            "34/34 [==============================] - 0s 4ms/step - loss: 5747.9507 - mae: 5747.9507\n",
            "Epoch 87/200\n",
            "34/34 [==============================] - 0s 5ms/step - loss: 5715.9644 - mae: 5715.9644\n",
            "Epoch 88/200\n",
            "34/34 [==============================] - 0s 5ms/step - loss: 5683.9170 - mae: 5683.9170\n",
            "Epoch 89/200\n",
            "34/34 [==============================] - 0s 4ms/step - loss: 5644.5664 - mae: 5644.5664\n",
            "Epoch 90/200\n",
            "34/34 [==============================] - 0s 4ms/step - loss: 5626.8643 - mae: 5626.8643\n",
            "Epoch 91/200\n",
            "34/34 [==============================] - 0s 4ms/step - loss: 5576.6680 - mae: 5576.6680\n",
            "Epoch 92/200\n",
            "34/34 [==============================] - 0s 5ms/step - loss: 5539.3940 - mae: 5539.3940\n",
            "Epoch 93/200\n",
            "34/34 [==============================] - 0s 5ms/step - loss: 5497.9512 - mae: 5497.9512\n",
            "Epoch 94/200\n",
            "34/34 [==============================] - 0s 5ms/step - loss: 5455.2065 - mae: 5455.2065\n",
            "Epoch 95/200\n",
            "34/34 [==============================] - 0s 6ms/step - loss: 5406.4531 - mae: 5406.4531\n",
            "Epoch 96/200\n",
            "34/34 [==============================] - 0s 6ms/step - loss: 5362.8613 - mae: 5362.8613\n",
            "Epoch 97/200\n",
            "34/34 [==============================] - 0s 4ms/step - loss: 5322.2725 - mae: 5322.2725\n",
            "Epoch 98/200\n",
            "34/34 [==============================] - 0s 5ms/step - loss: 5269.8672 - mae: 5269.8672\n",
            "Epoch 99/200\n",
            "34/34 [==============================] - 0s 4ms/step - loss: 5211.6704 - mae: 5211.6704\n",
            "Epoch 100/200\n",
            "34/34 [==============================] - 0s 5ms/step - loss: 5156.3442 - mae: 5156.3442\n",
            "Epoch 101/200\n",
            "34/34 [==============================] - 0s 5ms/step - loss: 5097.8208 - mae: 5097.8208\n",
            "Epoch 102/200\n",
            "34/34 [==============================] - 0s 4ms/step - loss: 5039.1855 - mae: 5039.1855\n",
            "Epoch 103/200\n",
            "34/34 [==============================] - 0s 4ms/step - loss: 4980.6030 - mae: 4980.6030\n",
            "Epoch 104/200\n",
            "34/34 [==============================] - 0s 5ms/step - loss: 4908.7749 - mae: 4908.7749\n",
            "Epoch 105/200\n",
            "34/34 [==============================] - 0s 4ms/step - loss: 4832.7705 - mae: 4832.7705\n",
            "Epoch 106/200\n",
            "34/34 [==============================] - 0s 3ms/step - loss: 4762.7749 - mae: 4762.7749\n",
            "Epoch 107/200\n",
            "34/34 [==============================] - 0s 4ms/step - loss: 4685.2295 - mae: 4685.2295\n",
            "Epoch 108/200\n",
            "34/34 [==============================] - 0s 5ms/step - loss: 4611.2773 - mae: 4611.2773\n",
            "Epoch 109/200\n",
            "34/34 [==============================] - 0s 4ms/step - loss: 4518.2007 - mae: 4518.2007\n",
            "Epoch 110/200\n",
            "34/34 [==============================] - 0s 5ms/step - loss: 4434.2139 - mae: 4434.2139\n",
            "Epoch 111/200\n",
            "34/34 [==============================] - 0s 5ms/step - loss: 4358.9873 - mae: 4358.9873\n",
            "Epoch 112/200\n",
            "34/34 [==============================] - 0s 6ms/step - loss: 4269.5508 - mae: 4269.5508\n",
            "Epoch 113/200\n",
            "34/34 [==============================] - 0s 6ms/step - loss: 4198.4341 - mae: 4198.4341\n",
            "Epoch 114/200\n",
            "34/34 [==============================] - 0s 4ms/step - loss: 4121.6143 - mae: 4121.6143\n",
            "Epoch 115/200\n",
            "34/34 [==============================] - 0s 6ms/step - loss: 4048.1494 - mae: 4048.1494\n",
            "Epoch 116/200\n",
            "34/34 [==============================] - 0s 5ms/step - loss: 3995.0681 - mae: 3995.0681\n",
            "Epoch 117/200\n",
            "34/34 [==============================] - 0s 4ms/step - loss: 3951.5566 - mae: 3951.5566\n",
            "Epoch 118/200\n",
            "34/34 [==============================] - 0s 4ms/step - loss: 3917.8716 - mae: 3917.8716\n",
            "Epoch 119/200\n",
            "34/34 [==============================] - 0s 4ms/step - loss: 3893.2139 - mae: 3893.2139\n",
            "Epoch 120/200\n",
            "34/34 [==============================] - 0s 4ms/step - loss: 3873.0403 - mae: 3873.0403\n",
            "Epoch 121/200\n",
            "34/34 [==============================] - 0s 4ms/step - loss: 3865.4236 - mae: 3865.4236\n",
            "Epoch 122/200\n",
            "34/34 [==============================] - 0s 4ms/step - loss: 3835.4346 - mae: 3835.4346\n",
            "Epoch 123/200\n",
            "34/34 [==============================] - 0s 4ms/step - loss: 3830.5410 - mae: 3830.5410\n",
            "Epoch 124/200\n",
            "34/34 [==============================] - 0s 3ms/step - loss: 3818.4563 - mae: 3818.4563\n",
            "Epoch 125/200\n",
            "34/34 [==============================] - 0s 5ms/step - loss: 3817.9963 - mae: 3817.9963\n",
            "Epoch 126/200\n",
            "34/34 [==============================] - 0s 4ms/step - loss: 3817.6655 - mae: 3817.6655\n",
            "Epoch 127/200\n",
            "34/34 [==============================] - 0s 5ms/step - loss: 3807.1907 - mae: 3807.1907\n",
            "Epoch 128/200\n",
            "34/34 [==============================] - 0s 5ms/step - loss: 3796.7256 - mae: 3796.7256\n",
            "Epoch 129/200\n",
            "34/34 [==============================] - 0s 4ms/step - loss: 3791.8401 - mae: 3791.8401\n",
            "Epoch 130/200\n",
            "34/34 [==============================] - 0s 4ms/step - loss: 3789.7207 - mae: 3789.7207\n",
            "Epoch 131/200\n",
            "34/34 [==============================] - 0s 4ms/step - loss: 3783.6599 - mae: 3783.6599\n",
            "Epoch 132/200\n",
            "34/34 [==============================] - 0s 5ms/step - loss: 3779.5095 - mae: 3779.5095\n",
            "Epoch 133/200\n",
            "34/34 [==============================] - 0s 4ms/step - loss: 3771.6763 - mae: 3771.6763\n",
            "Epoch 134/200\n",
            "34/34 [==============================] - 0s 5ms/step - loss: 3787.2249 - mae: 3787.2249\n",
            "Epoch 135/200\n",
            "34/34 [==============================] - 0s 5ms/step - loss: 3768.4058 - mae: 3768.4058\n",
            "Epoch 136/200\n",
            "34/34 [==============================] - 0s 5ms/step - loss: 3771.1184 - mae: 3771.1184\n",
            "Epoch 137/200\n",
            "34/34 [==============================] - 0s 3ms/step - loss: 3773.4204 - mae: 3773.4204\n",
            "Epoch 138/200\n",
            "34/34 [==============================] - 0s 4ms/step - loss: 3769.5500 - mae: 3769.5500\n",
            "Epoch 139/200\n",
            "34/34 [==============================] - 0s 4ms/step - loss: 3763.5571 - mae: 3763.5571\n",
            "Epoch 140/200\n",
            "34/34 [==============================] - 0s 4ms/step - loss: 3777.9155 - mae: 3777.9155\n",
            "Epoch 141/200\n",
            "34/34 [==============================] - 0s 4ms/step - loss: 3767.3872 - mae: 3767.3872\n",
            "Epoch 142/200\n",
            "34/34 [==============================] - 0s 4ms/step - loss: 3756.3562 - mae: 3756.3562\n",
            "Epoch 143/200\n",
            "34/34 [==============================] - 0s 3ms/step - loss: 3757.5271 - mae: 3757.5271\n",
            "Epoch 144/200\n",
            "34/34 [==============================] - 0s 2ms/step - loss: 3762.4702 - mae: 3762.4702\n",
            "Epoch 145/200\n",
            "34/34 [==============================] - 0s 2ms/step - loss: 3754.6311 - mae: 3754.6311\n",
            "Epoch 146/200\n",
            "34/34 [==============================] - 0s 2ms/step - loss: 3755.5767 - mae: 3755.5767\n",
            "Epoch 147/200\n",
            "34/34 [==============================] - 0s 2ms/step - loss: 3751.3831 - mae: 3751.3831\n",
            "Epoch 148/200\n",
            "34/34 [==============================] - 0s 2ms/step - loss: 3747.8518 - mae: 3747.8518\n",
            "Epoch 149/200\n",
            "34/34 [==============================] - 0s 3ms/step - loss: 3745.0725 - mae: 3745.0725\n",
            "Epoch 150/200\n",
            "34/34 [==============================] - 0s 2ms/step - loss: 3745.4058 - mae: 3745.4058\n",
            "Epoch 151/200\n",
            "34/34 [==============================] - 0s 2ms/step - loss: 3742.0251 - mae: 3742.0251\n",
            "Epoch 152/200\n",
            "34/34 [==============================] - 0s 2ms/step - loss: 3753.2444 - mae: 3753.2444\n",
            "Epoch 153/200\n",
            "34/34 [==============================] - 0s 2ms/step - loss: 3744.9185 - mae: 3744.9185\n",
            "Epoch 154/200\n",
            "34/34 [==============================] - 0s 3ms/step - loss: 3736.8560 - mae: 3736.8560\n",
            "Epoch 155/200\n",
            "34/34 [==============================] - 0s 3ms/step - loss: 3733.5859 - mae: 3733.5859\n",
            "Epoch 156/200\n",
            "34/34 [==============================] - 0s 2ms/step - loss: 3735.8081 - mae: 3735.8081\n",
            "Epoch 157/200\n",
            "34/34 [==============================] - 0s 2ms/step - loss: 3743.4097 - mae: 3743.4097\n",
            "Epoch 158/200\n",
            "34/34 [==============================] - 0s 2ms/step - loss: 3754.2063 - mae: 3754.2063\n",
            "Epoch 159/200\n",
            "34/34 [==============================] - 0s 2ms/step - loss: 3736.8779 - mae: 3736.8779\n",
            "Epoch 160/200\n",
            "34/34 [==============================] - 0s 2ms/step - loss: 3732.2549 - mae: 3732.2549\n",
            "Epoch 161/200\n",
            "34/34 [==============================] - 0s 2ms/step - loss: 3739.3511 - mae: 3739.3511\n",
            "Epoch 162/200\n",
            "34/34 [==============================] - 0s 2ms/step - loss: 3724.5327 - mae: 3724.5327\n",
            "Epoch 163/200\n",
            "34/34 [==============================] - 0s 3ms/step - loss: 3733.7725 - mae: 3733.7725\n",
            "Epoch 164/200\n",
            "34/34 [==============================] - 0s 3ms/step - loss: 3733.9380 - mae: 3733.9380\n",
            "Epoch 165/200\n",
            "34/34 [==============================] - 0s 2ms/step - loss: 3725.8745 - mae: 3725.8745\n",
            "Epoch 166/200\n",
            "34/34 [==============================] - 0s 2ms/step - loss: 3724.7595 - mae: 3724.7595\n",
            "Epoch 167/200\n",
            "34/34 [==============================] - 0s 3ms/step - loss: 3721.1389 - mae: 3721.1389\n",
            "Epoch 168/200\n",
            "34/34 [==============================] - 0s 2ms/step - loss: 3718.7603 - mae: 3718.7603\n",
            "Epoch 169/200\n",
            "34/34 [==============================] - 0s 3ms/step - loss: 3715.8909 - mae: 3715.8909\n",
            "Epoch 170/200\n",
            "34/34 [==============================] - 0s 3ms/step - loss: 3713.8926 - mae: 3713.8926\n",
            "Epoch 171/200\n",
            "34/34 [==============================] - 0s 3ms/step - loss: 3713.9106 - mae: 3713.9106\n",
            "Epoch 172/200\n",
            "34/34 [==============================] - 0s 2ms/step - loss: 3709.5730 - mae: 3709.5730\n",
            "Epoch 173/200\n",
            "34/34 [==============================] - 0s 2ms/step - loss: 3709.1450 - mae: 3709.1450\n",
            "Epoch 174/200\n",
            "34/34 [==============================] - 0s 2ms/step - loss: 3714.2908 - mae: 3714.2908\n",
            "Epoch 175/200\n",
            "34/34 [==============================] - 0s 2ms/step - loss: 3715.1982 - mae: 3715.1982\n",
            "Epoch 176/200\n",
            "34/34 [==============================] - 0s 2ms/step - loss: 3705.8979 - mae: 3705.8979\n",
            "Epoch 177/200\n",
            "34/34 [==============================] - 0s 2ms/step - loss: 3700.6472 - mae: 3700.6472\n",
            "Epoch 178/200\n",
            "34/34 [==============================] - 0s 2ms/step - loss: 3700.2307 - mae: 3700.2307\n",
            "Epoch 179/200\n",
            "34/34 [==============================] - 0s 2ms/step - loss: 3700.0093 - mae: 3700.0093\n",
            "Epoch 180/200\n",
            "34/34 [==============================] - 0s 2ms/step - loss: 3698.2854 - mae: 3698.2854\n",
            "Epoch 181/200\n",
            "34/34 [==============================] - 0s 2ms/step - loss: 3706.0715 - mae: 3706.0715\n",
            "Epoch 182/200\n",
            "34/34 [==============================] - 0s 3ms/step - loss: 3702.5498 - mae: 3702.5498\n",
            "Epoch 183/200\n",
            "34/34 [==============================] - 0s 2ms/step - loss: 3692.5088 - mae: 3692.5088\n",
            "Epoch 184/200\n",
            "34/34 [==============================] - 0s 2ms/step - loss: 3690.3777 - mae: 3690.3777\n",
            "Epoch 185/200\n",
            "34/34 [==============================] - 0s 2ms/step - loss: 3696.7932 - mae: 3696.7932\n",
            "Epoch 186/200\n",
            "34/34 [==============================] - 0s 2ms/step - loss: 3696.9653 - mae: 3696.9653\n",
            "Epoch 187/200\n",
            "34/34 [==============================] - 0s 2ms/step - loss: 3685.3347 - mae: 3685.3347\n",
            "Epoch 188/200\n",
            "34/34 [==============================] - 0s 2ms/step - loss: 3685.3818 - mae: 3685.3818\n",
            "Epoch 189/200\n",
            "34/34 [==============================] - 0s 2ms/step - loss: 3687.0815 - mae: 3687.0815\n",
            "Epoch 190/200\n",
            "34/34 [==============================] - 0s 2ms/step - loss: 3682.9324 - mae: 3682.9324\n",
            "Epoch 191/200\n",
            "34/34 [==============================] - 0s 2ms/step - loss: 3682.8359 - mae: 3682.8359\n",
            "Epoch 192/200\n",
            "34/34 [==============================] - 0s 2ms/step - loss: 3681.1011 - mae: 3681.1011\n",
            "Epoch 193/200\n",
            "34/34 [==============================] - 0s 2ms/step - loss: 3683.6179 - mae: 3683.6179\n",
            "Epoch 194/200\n",
            "34/34 [==============================] - 0s 2ms/step - loss: 3684.3918 - mae: 3684.3918\n",
            "Epoch 195/200\n",
            "34/34 [==============================] - 0s 2ms/step - loss: 3676.8171 - mae: 3676.8171\n",
            "Epoch 196/200\n",
            "34/34 [==============================] - 0s 3ms/step - loss: 3674.9482 - mae: 3674.9482\n",
            "Epoch 197/200\n",
            "34/34 [==============================] - 0s 3ms/step - loss: 3678.6711 - mae: 3678.6711\n",
            "Epoch 198/200\n",
            "34/34 [==============================] - 0s 2ms/step - loss: 3670.8423 - mae: 3670.8423\n",
            "Epoch 199/200\n",
            "34/34 [==============================] - 0s 2ms/step - loss: 3670.6489 - mae: 3670.6489\n",
            "Epoch 200/200\n",
            "34/34 [==============================] - 0s 2ms/step - loss: 3678.7971 - mae: 3678.7971\n"
          ]
        }
      ]
    },
    {
      "cell_type": "code",
      "source": [
        "insurance_model_3.evaluate(X_test, y_test)"
      ],
      "metadata": {
        "id": "lmGvcpn4fB76",
        "outputId": "34a5657f-11d2-4615-d60e-86ce55ccfa29",
        "colab": {
          "base_uri": "https://localhost:8080/"
        }
      },
      "execution_count": 55,
      "outputs": [
        {
          "output_type": "stream",
          "name": "stdout",
          "text": [
            "9/9 [==============================] - 0s 4ms/step - loss: 3511.7908 - mae: 3511.7908\n"
          ]
        },
        {
          "output_type": "execute_result",
          "data": {
            "text/plain": [
              "[3511.790771484375, 3511.790771484375]"
            ]
          },
          "metadata": {},
          "execution_count": 55
        }
      ]
    },
    {
      "cell_type": "code",
      "source": [
        "pd.DataFrame(history.history).plot()\n",
        "plt.ylabel = \"loss\"\n",
        "plt.xlable = \"epochs\""
      ],
      "metadata": {
        "id": "mbAE7DeLfx84",
        "outputId": "7d4ba906-be27-4f9a-d193-3fe3978a4fed",
        "colab": {
          "base_uri": "https://localhost:8080/",
          "height": 265
        }
      },
      "execution_count": 57,
      "outputs": [
        {
          "output_type": "display_data",
          "data": {
            "text/plain": [
              "<Figure size 432x288 with 1 Axes>"
            ],
            "image/png": "[encoded data removed]"
          },
          "metadata": {
            "needs_background": "light"
          }
        }
      ]
    },
    {
      "cell_type": "code",
      "source": [
        ""
      ],
      "metadata": {
        "id": "hnt9wbAygMJR"
      },
      "execution_count": null,
      "outputs": []
    }
  ]
}