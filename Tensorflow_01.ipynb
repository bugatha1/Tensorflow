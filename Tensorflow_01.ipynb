{
  "nbformat": 4,
  "nbformat_minor": 0,
  "metadata": {
    "colab": {
      "name": "Tensorflow_01.ipynb",
      "provenance": [],
      "authorship_tag": "ABX9TyPsfFy453qCSfofJxfKiuYy",
      "include_colab_link": true
    },
    "kernelspec": {
      "name": "python3",
      "display_name": "Python 3"
    },
    "language_info": {
      "name": "python"
    }
  },
  "cells": [
    {
      "cell_type": "markdown",
      "metadata": {
        "id": "view-in-github",
        "colab_type": "text"
      },
      "source": [
        "<a href=\"https://colab.research.google.com/github/bugatha1/Tensorflow/blob/main/Tensorflow_01.ipynb\" target=\"_parent\"><img src=\"https://colab.research.google.com/assets/colab-badge.svg\" alt=\"Open In Colab\"/></a>"
      ]
    },
    {
      "cell_type": "code",
      "execution_count": 1,
      "metadata": {
        "colab": {
          "base_uri": "https://localhost:8080/",
          "height": 35
        },
        "id": "XioNP-fWNz2Y",
        "outputId": "ab793f7e-6aed-4c26-b05a-84c4bf3b03aa"
      },
      "outputs": [
        {
          "output_type": "execute_result",
          "data": {
            "text/plain": [
              "'2.8.0'"
            ],
            "application/vnd.google.colaboratory.intrinsic+json": {
              "type": "string"
            }
          },
          "metadata": {},
          "execution_count": 1
        }
      ],
      "source": [
        "import tensorflow as tf\n",
        "tf.__version__"
      ]
    },
    {
      "cell_type": "code",
      "source": [
        "X = tf.range(-100, 100, 4)\n",
        "X"
      ],
      "metadata": {
        "colab": {
          "base_uri": "https://localhost:8080/"
        },
        "id": "1M07RZKZN8Dw",
        "outputId": "f1310b10-3d83-4076-c454-be69c776a3b9"
      },
      "execution_count": 2,
      "outputs": [
        {
          "output_type": "execute_result",
          "data": {
            "text/plain": [
              "<tf.Tensor: shape=(50,), dtype=int32, numpy=\n",
              "array([-100,  -96,  -92,  -88,  -84,  -80,  -76,  -72,  -68,  -64,  -60,\n",
              "        -56,  -52,  -48,  -44,  -40,  -36,  -32,  -28,  -24,  -20,  -16,\n",
              "        -12,   -8,   -4,    0,    4,    8,   12,   16,   20,   24,   28,\n",
              "         32,   36,   40,   44,   48,   52,   56,   60,   64,   68,   72,\n",
              "         76,   80,   84,   88,   92,   96], dtype=int32)>"
            ]
          },
          "metadata": {},
          "execution_count": 2
        }
      ]
    },
    {
      "cell_type": "code",
      "source": [
        "y = X + 10\n",
        "y"
      ],
      "metadata": {
        "colab": {
          "base_uri": "https://localhost:8080/"
        },
        "id": "mV1liQhFOs5I",
        "outputId": "f66192ce-5425-49fc-fe8a-1f859c6767ad"
      },
      "execution_count": 3,
      "outputs": [
        {
          "output_type": "execute_result",
          "data": {
            "text/plain": [
              "<tf.Tensor: shape=(50,), dtype=int32, numpy=\n",
              "array([-90, -86, -82, -78, -74, -70, -66, -62, -58, -54, -50, -46, -42,\n",
              "       -38, -34, -30, -26, -22, -18, -14, -10,  -6,  -2,   2,   6,  10,\n",
              "        14,  18,  22,  26,  30,  34,  38,  42,  46,  50,  54,  58,  62,\n",
              "        66,  70,  74,  78,  82,  86,  90,  94,  98, 102, 106], dtype=int32)>"
            ]
          },
          "metadata": {},
          "execution_count": 3
        }
      ]
    },
    {
      "cell_type": "code",
      "source": [
        "X_train = X[:40]\n",
        "X_test = X[40:]\n",
        "\n",
        "y_train = y[:40]\n",
        "y_test = y[40:]"
      ],
      "metadata": {
        "id": "OkvOybZNRgbQ"
      },
      "execution_count": 4,
      "outputs": []
    },
    {
      "cell_type": "code",
      "source": [
        "model = tf.keras.Sequential([\n",
        "  tf.keras.layers.Dense(10, input_shape=[1], name='input_layer'),\n",
        "  tf.keras.layers.Dense(1, name='output_layer')                             \n",
        "])\n",
        "\n",
        "model.compile(loss=tf.keras.losses.mae,\n",
        "              optimizer = tf.keras.optimizers.SGD(),\n",
        "              metrics=['mae'])"
      ],
      "metadata": {
        "id": "C8lSd6B4OxO3"
      },
      "execution_count": 19,
      "outputs": []
    },
    {
      "cell_type": "code",
      "source": [
        "model.summary()"
      ],
      "metadata": {
        "colab": {
          "base_uri": "https://localhost:8080/"
        },
        "id": "_48JBRZlPoR3",
        "outputId": "0e51f929-0c94-4242-8c65-af40d9fe1d57"
      },
      "execution_count": 20,
      "outputs": [
        {
          "output_type": "stream",
          "name": "stdout",
          "text": [
            "Model: \"sequential_4\"\n",
            "_________________________________________________________________\n",
            " Layer (type)                Output Shape              Param #   \n",
            "=================================================================\n",
            " input_layer (Dense)         (None, 10)                20        \n",
            "                                                                 \n",
            " output_layer (Dense)        (None, 1)                 11        \n",
            "                                                                 \n",
            "=================================================================\n",
            "Total params: 31\n",
            "Trainable params: 31\n",
            "Non-trainable params: 0\n",
            "_________________________________________________________________\n"
          ]
        }
      ]
    },
    {
      "cell_type": "markdown",
      "source": [
        "Total params : total number of parameters in the model.<br>\n",
        "Trainable params: these are the parameters (patterns) the model can update as it trains.<br>\n",
        "Non-Trainalbe params : these are the parameters aren't updated during training (this is typically when you bring in already learn patterns or parameters from other models during **transfer learning** <br>\n"
      ],
      "metadata": {
        "id": "BwpJyggHQfyF"
      }
    },
    {
      "cell_type": "code",
      "source": [
        "model.fit(X_train, y_train, epochs=100, verbose=1)"
      ],
      "metadata": {
        "id": "iJPkPP7ZR7ys",
        "outputId": "cd2f302a-9d2c-4697-d6b0-c4bfb14bffc8",
        "colab": {
          "base_uri": "https://localhost:8080/"
        }
      },
      "execution_count": 21,
      "outputs": [
        {
          "output_type": "stream",
          "name": "stdout",
          "text": [
            "Epoch 1/100\n",
            "2/2 [==============================] - 0s 4ms/step - loss: 23.8575 - mae: 23.8575\n",
            "Epoch 2/100\n",
            "2/2 [==============================] - 0s 7ms/step - loss: 21.4466 - mae: 21.4466\n",
            "Epoch 3/100\n",
            "2/2 [==============================] - 0s 9ms/step - loss: 19.6745 - mae: 19.6745\n",
            "Epoch 4/100\n",
            "2/2 [==============================] - 0s 6ms/step - loss: 14.7556 - mae: 14.7556\n",
            "Epoch 5/100\n",
            "2/2 [==============================] - 0s 14ms/step - loss: 15.2730 - mae: 15.2730\n",
            "Epoch 6/100\n",
            "2/2 [==============================] - 0s 7ms/step - loss: 15.3197 - mae: 15.3197\n",
            "Epoch 7/100\n",
            "2/2 [==============================] - 0s 10ms/step - loss: 13.0403 - mae: 13.0403\n",
            "Epoch 8/100\n",
            "2/2 [==============================] - 0s 7ms/step - loss: 28.2898 - mae: 28.2898\n",
            "Epoch 9/100\n",
            "2/2 [==============================] - 0s 6ms/step - loss: 10.0067 - mae: 10.0067\n",
            "Epoch 10/100\n",
            "2/2 [==============================] - 0s 5ms/step - loss: 10.4754 - mae: 10.4754\n",
            "Epoch 11/100\n",
            "2/2 [==============================] - 0s 9ms/step - loss: 15.1903 - mae: 15.1903\n",
            "Epoch 12/100\n",
            "2/2 [==============================] - 0s 6ms/step - loss: 12.4856 - mae: 12.4856\n",
            "Epoch 13/100\n",
            "2/2 [==============================] - 0s 5ms/step - loss: 15.4755 - mae: 15.4755\n",
            "Epoch 14/100\n",
            "2/2 [==============================] - 0s 5ms/step - loss: 22.6967 - mae: 22.6967\n",
            "Epoch 15/100\n",
            "2/2 [==============================] - 0s 5ms/step - loss: 14.2157 - mae: 14.2157\n",
            "Epoch 16/100\n",
            "2/2 [==============================] - 0s 5ms/step - loss: 11.8051 - mae: 11.8051\n",
            "Epoch 17/100\n",
            "2/2 [==============================] - 0s 5ms/step - loss: 18.3544 - mae: 18.3544\n",
            "Epoch 18/100\n",
            "2/2 [==============================] - 0s 5ms/step - loss: 8.7053 - mae: 8.7053\n",
            "Epoch 19/100\n",
            "2/2 [==============================] - 0s 5ms/step - loss: 8.4522 - mae: 8.4522\n",
            "Epoch 20/100\n",
            "2/2 [==============================] - 0s 5ms/step - loss: 11.4260 - mae: 11.4260\n",
            "Epoch 21/100\n",
            "2/2 [==============================] - 0s 7ms/step - loss: 27.0331 - mae: 27.0331\n",
            "Epoch 22/100\n",
            "2/2 [==============================] - 0s 5ms/step - loss: 9.8796 - mae: 9.8796\n",
            "Epoch 23/100\n",
            "2/2 [==============================] - 0s 5ms/step - loss: 37.9850 - mae: 37.9850\n",
            "Epoch 24/100\n",
            "2/2 [==============================] - 0s 5ms/step - loss: 10.4022 - mae: 10.4022\n",
            "Epoch 25/100\n",
            "2/2 [==============================] - 0s 5ms/step - loss: 10.6811 - mae: 10.6811\n",
            "Epoch 26/100\n",
            "2/2 [==============================] - 0s 5ms/step - loss: 9.2898 - mae: 9.2898\n",
            "Epoch 27/100\n",
            "2/2 [==============================] - 0s 5ms/step - loss: 28.8282 - mae: 28.8282\n",
            "Epoch 28/100\n",
            "2/2 [==============================] - 0s 5ms/step - loss: 13.0040 - mae: 13.0040\n",
            "Epoch 29/100\n",
            "2/2 [==============================] - 0s 5ms/step - loss: 14.2762 - mae: 14.2762\n",
            "Epoch 30/100\n",
            "2/2 [==============================] - 0s 5ms/step - loss: 13.3229 - mae: 13.3229\n",
            "Epoch 31/100\n",
            "2/2 [==============================] - 0s 7ms/step - loss: 13.9524 - mae: 13.9524\n",
            "Epoch 32/100\n",
            "2/2 [==============================] - 0s 5ms/step - loss: 10.6446 - mae: 10.6446\n",
            "Epoch 33/100\n",
            "2/2 [==============================] - 0s 7ms/step - loss: 13.6262 - mae: 13.6262\n",
            "Epoch 34/100\n",
            "2/2 [==============================] - 0s 9ms/step - loss: 19.7904 - mae: 19.7904\n",
            "Epoch 35/100\n",
            "2/2 [==============================] - 0s 6ms/step - loss: 18.3616 - mae: 18.3616\n",
            "Epoch 36/100\n",
            "2/2 [==============================] - 0s 5ms/step - loss: 17.1535 - mae: 17.1535\n",
            "Epoch 37/100\n",
            "2/2 [==============================] - 0s 5ms/step - loss: 16.9362 - mae: 16.9362\n",
            "Epoch 38/100\n",
            "2/2 [==============================] - 0s 6ms/step - loss: 18.3552 - mae: 18.3552\n",
            "Epoch 39/100\n",
            "2/2 [==============================] - 0s 6ms/step - loss: 23.8206 - mae: 23.8206\n",
            "Epoch 40/100\n",
            "2/2 [==============================] - 0s 5ms/step - loss: 11.7341 - mae: 11.7341\n",
            "Epoch 41/100\n",
            "2/2 [==============================] - 0s 6ms/step - loss: 30.2637 - mae: 30.2637\n",
            "Epoch 42/100\n",
            "2/2 [==============================] - 0s 6ms/step - loss: 15.0712 - mae: 15.0712\n",
            "Epoch 43/100\n",
            "2/2 [==============================] - 0s 7ms/step - loss: 24.9044 - mae: 24.9044\n",
            "Epoch 44/100\n",
            "2/2 [==============================] - 0s 6ms/step - loss: 14.1712 - mae: 14.1712\n",
            "Epoch 45/100\n",
            "2/2 [==============================] - 0s 5ms/step - loss: 10.4774 - mae: 10.4774\n",
            "Epoch 46/100\n",
            "2/2 [==============================] - 0s 5ms/step - loss: 11.4141 - mae: 11.4141\n",
            "Epoch 47/100\n",
            "2/2 [==============================] - 0s 6ms/step - loss: 26.3288 - mae: 26.3288\n",
            "Epoch 48/100\n",
            "2/2 [==============================] - 0s 5ms/step - loss: 22.0250 - mae: 22.0250\n",
            "Epoch 49/100\n",
            "2/2 [==============================] - 0s 8ms/step - loss: 15.3016 - mae: 15.3016\n",
            "Epoch 50/100\n",
            "2/2 [==============================] - 0s 5ms/step - loss: 27.0712 - mae: 27.0712\n",
            "Epoch 51/100\n",
            "2/2 [==============================] - 0s 5ms/step - loss: 12.5251 - mae: 12.5251\n",
            "Epoch 52/100\n",
            "2/2 [==============================] - 0s 7ms/step - loss: 15.8144 - mae: 15.8144\n",
            "Epoch 53/100\n",
            "2/2 [==============================] - 0s 5ms/step - loss: 10.6203 - mae: 10.6203\n",
            "Epoch 54/100\n",
            "2/2 [==============================] - 0s 6ms/step - loss: 15.0065 - mae: 15.0065\n",
            "Epoch 55/100\n",
            "2/2 [==============================] - 0s 5ms/step - loss: 15.3628 - mae: 15.3628\n",
            "Epoch 56/100\n",
            "2/2 [==============================] - 0s 4ms/step - loss: 9.3122 - mae: 9.3122\n",
            "Epoch 57/100\n",
            "2/2 [==============================] - 0s 6ms/step - loss: 19.9587 - mae: 19.9587\n",
            "Epoch 58/100\n",
            "2/2 [==============================] - 0s 10ms/step - loss: 10.4707 - mae: 10.4707\n",
            "Epoch 59/100\n",
            "2/2 [==============================] - 0s 12ms/step - loss: 14.7461 - mae: 14.7461\n",
            "Epoch 60/100\n",
            "2/2 [==============================] - 0s 5ms/step - loss: 18.7833 - mae: 18.7833\n",
            "Epoch 61/100\n",
            "2/2 [==============================] - 0s 7ms/step - loss: 14.5091 - mae: 14.5091\n",
            "Epoch 62/100\n",
            "2/2 [==============================] - 0s 6ms/step - loss: 9.7923 - mae: 9.7923\n",
            "Epoch 63/100\n",
            "2/2 [==============================] - 0s 6ms/step - loss: 19.7047 - mae: 19.7047\n",
            "Epoch 64/100\n",
            "2/2 [==============================] - 0s 6ms/step - loss: 9.4178 - mae: 9.4178\n",
            "Epoch 65/100\n",
            "2/2 [==============================] - 0s 5ms/step - loss: 17.7152 - mae: 17.7152\n",
            "Epoch 66/100\n",
            "2/2 [==============================] - 0s 6ms/step - loss: 9.6928 - mae: 9.6928\n",
            "Epoch 67/100\n",
            "2/2 [==============================] - 0s 7ms/step - loss: 22.8364 - mae: 22.8364\n",
            "Epoch 68/100\n",
            "2/2 [==============================] - 0s 6ms/step - loss: 13.8755 - mae: 13.8755\n",
            "Epoch 69/100\n",
            "2/2 [==============================] - 0s 6ms/step - loss: 10.9808 - mae: 10.9808\n",
            "Epoch 70/100\n",
            "2/2 [==============================] - 0s 5ms/step - loss: 13.3492 - mae: 13.3492\n",
            "Epoch 71/100\n",
            "2/2 [==============================] - 0s 6ms/step - loss: 11.4904 - mae: 11.4904\n",
            "Epoch 72/100\n",
            "2/2 [==============================] - 0s 15ms/step - loss: 42.4336 - mae: 42.4336\n",
            "Epoch 73/100\n",
            "2/2 [==============================] - 0s 4ms/step - loss: 11.2971 - mae: 11.2971\n",
            "Epoch 74/100\n",
            "2/2 [==============================] - 0s 7ms/step - loss: 26.6782 - mae: 26.6782\n",
            "Epoch 75/100\n",
            "2/2 [==============================] - 0s 5ms/step - loss: 14.6423 - mae: 14.6423\n",
            "Epoch 76/100\n",
            "2/2 [==============================] - 0s 5ms/step - loss: 8.0464 - mae: 8.0464\n",
            "Epoch 77/100\n",
            "2/2 [==============================] - 0s 5ms/step - loss: 14.9887 - mae: 14.9887\n",
            "Epoch 78/100\n",
            "2/2 [==============================] - 0s 5ms/step - loss: 9.8533 - mae: 9.8533\n",
            "Epoch 79/100\n",
            "2/2 [==============================] - 0s 5ms/step - loss: 18.1766 - mae: 18.1766\n",
            "Epoch 80/100\n",
            "2/2 [==============================] - 0s 4ms/step - loss: 12.3208 - mae: 12.3208\n",
            "Epoch 81/100\n",
            "2/2 [==============================] - 0s 5ms/step - loss: 23.1169 - mae: 23.1169\n",
            "Epoch 82/100\n",
            "2/2 [==============================] - 0s 5ms/step - loss: 12.0393 - mae: 12.0393\n",
            "Epoch 83/100\n",
            "2/2 [==============================] - 0s 5ms/step - loss: 12.8956 - mae: 12.8956\n",
            "Epoch 84/100\n",
            "2/2 [==============================] - 0s 5ms/step - loss: 13.1464 - mae: 13.1464\n",
            "Epoch 85/100\n",
            "2/2 [==============================] - 0s 10ms/step - loss: 8.6093 - mae: 8.6093\n",
            "Epoch 86/100\n",
            "2/2 [==============================] - 0s 6ms/step - loss: 11.3700 - mae: 11.3700\n",
            "Epoch 87/100\n",
            "2/2 [==============================] - 0s 8ms/step - loss: 15.2059 - mae: 15.2059\n",
            "Epoch 88/100\n",
            "2/2 [==============================] - 0s 7ms/step - loss: 20.1957 - mae: 20.1957\n",
            "Epoch 89/100\n",
            "2/2 [==============================] - 0s 6ms/step - loss: 9.9409 - mae: 9.9409\n",
            "Epoch 90/100\n",
            "2/2 [==============================] - 0s 5ms/step - loss: 11.6896 - mae: 11.6896\n",
            "Epoch 91/100\n",
            "2/2 [==============================] - 0s 6ms/step - loss: 12.1509 - mae: 12.1509\n",
            "Epoch 92/100\n",
            "2/2 [==============================] - 0s 8ms/step - loss: 12.3007 - mae: 12.3007\n",
            "Epoch 93/100\n",
            "2/2 [==============================] - 0s 5ms/step - loss: 13.4332 - mae: 13.4332\n",
            "Epoch 94/100\n",
            "2/2 [==============================] - 0s 5ms/step - loss: 9.0559 - mae: 9.0559\n",
            "Epoch 95/100\n",
            "2/2 [==============================] - 0s 5ms/step - loss: 13.8996 - mae: 13.8996\n",
            "Epoch 96/100\n",
            "2/2 [==============================] - 0s 5ms/step - loss: 19.3700 - mae: 19.3700\n",
            "Epoch 97/100\n",
            "2/2 [==============================] - 0s 5ms/step - loss: 8.1074 - mae: 8.1074\n",
            "Epoch 98/100\n",
            "2/2 [==============================] - 0s 6ms/step - loss: 16.4410 - mae: 16.4410\n",
            "Epoch 99/100\n",
            "2/2 [==============================] - 0s 6ms/step - loss: 11.5459 - mae: 11.5459\n",
            "Epoch 100/100\n",
            "2/2 [==============================] - 0s 11ms/step - loss: 15.5537 - mae: 15.5537\n"
          ]
        },
        {
          "output_type": "execute_result",
          "data": {
            "text/plain": [
              "<keras.callbacks.History at 0x7fd64d6a4e90>"
            ]
          },
          "metadata": {},
          "execution_count": 21
        }
      ]
    },
    {
      "cell_type": "code",
      "source": [
        "model.summary()"
      ],
      "metadata": {
        "colab": {
          "base_uri": "https://localhost:8080/"
        },
        "id": "z9SLIMamSel7",
        "outputId": "a8d8c8cc-1753-4335-bba7-d463504040c7"
      },
      "execution_count": 22,
      "outputs": [
        {
          "output_type": "stream",
          "name": "stdout",
          "text": [
            "Model: \"sequential_4\"\n",
            "_________________________________________________________________\n",
            " Layer (type)                Output Shape              Param #   \n",
            "=================================================================\n",
            " input_layer (Dense)         (None, 10)                20        \n",
            "                                                                 \n",
            " output_layer (Dense)        (None, 1)                 11        \n",
            "                                                                 \n",
            "=================================================================\n",
            "Total params: 31\n",
            "Trainable params: 31\n",
            "Non-trainable params: 0\n",
            "_________________________________________________________________\n"
          ]
        }
      ]
    },
    {
      "cell_type": "code",
      "source": [
        "from tensorflow.keras.utils import plot_model\n",
        "\n",
        "plot_model(model = model, show_shapes=True)"
      ],
      "metadata": {
        "colab": {
          "base_uri": "https://localhost:8080/",
          "height": 312
        },
        "id": "LWfe9zYLSuaL",
        "outputId": "b55e3d09-3987-4b0e-b006-4b06a469c2d8"
      },
      "execution_count": 23,
      "outputs": [
        {
          "output_type": "execute_result",
          "data": {
            "text/plain": [
              "<IPython.core.display.Image object>"
            ],
            "image/png": "[encoded data removed]"
          },
          "metadata": {},
          "execution_count": 23
        }
      ]
    },
    {
      "cell_type": "code",
      "source": [
        "y_pred = model.predict(X_test)\n",
        "y_pred"
      ],
      "metadata": {
        "colab": {
          "base_uri": "https://localhost:8080/"
        },
        "id": "lrbo4HInTOkj",
        "outputId": "75ac0294-891d-4819-b448-28e87ecd8b6c"
      },
      "execution_count": 24,
      "outputs": [
        {
          "output_type": "execute_result",
          "data": {
            "text/plain": [
              "array([[54.700504],\n",
              "       [58.23442 ],\n",
              "       [61.76833 ],\n",
              "       [65.30225 ],\n",
              "       [68.83617 ],\n",
              "       [72.37007 ],\n",
              "       [75.90399 ],\n",
              "       [79.437904],\n",
              "       [82.97182 ],\n",
              "       [86.50573 ]], dtype=float32)"
            ]
          },
          "metadata": {},
          "execution_count": 24
        }
      ]
    },
    {
      "cell_type": "code",
      "source": [
        "y_test"
      ],
      "metadata": {
        "colab": {
          "base_uri": "https://localhost:8080/"
        },
        "id": "xwy0KPfImXGE",
        "outputId": "3aec3be7-deb3-425a-ec68-2f8ff2c2b8f5"
      },
      "execution_count": 25,
      "outputs": [
        {
          "output_type": "execute_result",
          "data": {
            "text/plain": [
              "<tf.Tensor: shape=(10,), dtype=int32, numpy=array([ 70,  74,  78,  82,  86,  90,  94,  98, 102, 106], dtype=int32)>"
            ]
          },
          "metadata": {},
          "execution_count": 25
        }
      ]
    },
    {
      "cell_type": "code",
      "source": [
        "import matplotlib.pyplot as plt\n",
        "\n",
        "def plot_predictions(train_data=X_train,\n",
        "                     train_labels = y_train,\n",
        "                     test_data = X_test,\n",
        "                     test_labels = y_test,\n",
        "                     predictions = y_pred):\n",
        "  plt.figure(figsize=(10, 7))\n",
        "  plt.scatter(train_data, train_labels, c='r', label='training data')\n",
        "  plt.scatter(test_data, test_labels, c='b', label='testing data')\n",
        "  plt.scatter(test_data, predictions, c='g', label='predicton data')\n",
        "  plt.legend();\n"
      ],
      "metadata": {
        "id": "3mi3_RVZmZPi"
      },
      "execution_count": 26,
      "outputs": []
    },
    {
      "cell_type": "code",
      "source": [
        "plot_predictions()"
      ],
      "metadata": {
        "colab": {
          "base_uri": "https://localhost:8080/",
          "height": 428
        },
        "id": "-eVsST-EobRq",
        "outputId": "19b7eed8-005e-4af9-e97c-0e71783539bd"
      },
      "execution_count": 27,
      "outputs": [
        {
          "output_type": "display_data",
          "data": {
            "text/plain": [
              "<Figure size 720x504 with 1 Axes>"
            ],
            "image/png": "[encoded data removed]"
          },
          "metadata": {
            "needs_background": "light"
          }
        }
      ]
    },
    {
      "cell_type": "code",
      "source": [
        "model.evaluate(X_test, y_test)"
      ],
      "metadata": {
        "id": "9a5JAKxcor8p",
        "outputId": "5de62149-e96a-48d9-962e-be3996bbd044",
        "colab": {
          "base_uri": "https://localhost:8080/"
        }
      },
      "execution_count": 28,
      "outputs": [
        {
          "output_type": "stream",
          "name": "stdout",
          "text": [
            "1/1 [==============================] - 0s 296ms/step - loss: 17.3969 - mae: 17.3969\n"
          ]
        },
        {
          "output_type": "execute_result",
          "data": {
            "text/plain": [
              "[17.396881103515625, 17.396881103515625]"
            ]
          },
          "metadata": {},
          "execution_count": 28
        }
      ]
    },
    {
      "cell_type": "code",
      "source": [
        "tf.metrics.mean_absolute_error(y_true=y_test, y_pred=y_pred)"
      ],
      "metadata": {
        "id": "QLV_TfDy6jtE",
        "outputId": "aae6b8a6-299d-4940-c0c3-3bbdea4ec65f",
        "colab": {
          "base_uri": "https://localhost:8080/"
        }
      },
      "execution_count": 29,
      "outputs": [
        {
          "output_type": "execute_result",
          "data": {
            "text/plain": [
              "<tf.Tensor: shape=(10,), dtype=float32, numpy=\n",
              "array([33.299496, 29.76558 , 26.23167 , 22.697746, 19.163834, 16.103943,\n",
              "       13.657605, 11.824839, 10.605637, 10.      ], dtype=float32)>"
            ]
          },
          "metadata": {},
          "execution_count": 29
        }
      ]
    },
    {
      "cell_type": "code",
      "source": [
        "y_test.shape, y_pred.shape"
      ],
      "metadata": {
        "id": "WxGqU9Lb86YP",
        "outputId": "9fad8fdb-9856-4993-f7bd-2ef233e19579",
        "colab": {
          "base_uri": "https://localhost:8080/"
        }
      },
      "execution_count": 42,
      "outputs": [
        {
          "output_type": "execute_result",
          "data": {
            "text/plain": [
              "(TensorShape([10]), (10, 1))"
            ]
          },
          "metadata": {},
          "execution_count": 42
        }
      ]
    },
    {
      "cell_type": "code",
      "source": [
        "tf.metrics.mean_absolute_error(y_true=y_test, y_pred=tf.squeeze(y_pred))"
      ],
      "metadata": {
        "id": "JNxln7ME74Ah",
        "outputId": "f6179091-7d6d-4695-8bf9-86046f648012",
        "colab": {
          "base_uri": "https://localhost:8080/"
        }
      },
      "execution_count": 41,
      "outputs": [
        {
          "output_type": "execute_result",
          "data": {
            "text/plain": [
              "<tf.Tensor: shape=(), dtype=float32, numpy=17.396881>"
            ]
          },
          "metadata": {},
          "execution_count": 41
        }
      ]
    },
    {
      "cell_type": "markdown",
      "source": [
        ""
      ],
      "metadata": {
        "id": "CAcRFG0s9Ruu"
      }
    },
    {
      "cell_type": "code",
      "source": [
        "tf.metrics.mean_squared_error(y_true=y_test, y_pred=tf.squeeze(y_pred))"
      ],
      "metadata": {
        "id": "wZcI7Oek8aoR",
        "outputId": "0c047ed9-4492-4e72-f8bf-44df1fa2d336",
        "colab": {
          "base_uri": "https://localhost:8080/"
        }
      },
      "execution_count": 43,
      "outputs": [
        {
          "output_type": "execute_result",
          "data": {
            "text/plain": [
              "<tf.Tensor: shape=(), dtype=float32, numpy=304.44366>"
            ]
          },
          "metadata": {},
          "execution_count": 43
        }
      ]
    },
    {
      "cell_type": "code",
      "source": [
        "X_train, y_train"
      ],
      "metadata": {
        "id": "ryiqlIM19UAh",
        "outputId": "19c17c73-8775-4abd-e832-71c3d1f93f2b",
        "colab": {
          "base_uri": "https://localhost:8080/"
        }
      },
      "execution_count": 44,
      "outputs": [
        {
          "output_type": "execute_result",
          "data": {
            "text/plain": [
              "(<tf.Tensor: shape=(40,), dtype=int32, numpy=\n",
              " array([-100,  -96,  -92,  -88,  -84,  -80,  -76,  -72,  -68,  -64,  -60,\n",
              "         -56,  -52,  -48,  -44,  -40,  -36,  -32,  -28,  -24,  -20,  -16,\n",
              "         -12,   -8,   -4,    0,    4,    8,   12,   16,   20,   24,   28,\n",
              "          32,   36,   40,   44,   48,   52,   56], dtype=int32)>,\n",
              " <tf.Tensor: shape=(40,), dtype=int32, numpy=\n",
              " array([-90, -86, -82, -78, -74, -70, -66, -62, -58, -54, -50, -46, -42,\n",
              "        -38, -34, -30, -26, -22, -18, -14, -10,  -6,  -2,   2,   6,  10,\n",
              "         14,  18,  22,  26,  30,  34,  38,  42,  46,  50,  54,  58,  62,\n",
              "         66], dtype=int32)>)"
            ]
          },
          "metadata": {},
          "execution_count": 44
        }
      ]
    },
    {
      "cell_type": "code",
      "source": [
        "tf.random.set_seed = 42\n",
        "\n",
        "model = tf.keras.Sequential([\n",
        "  tf.keras.layers.Dense(1)                             \n",
        "])\n",
        "\n",
        "model.compile(loss=tf.keras.losses.mae,\n",
        "              optimizer=tf.keras.optimizers.SGD(),\n",
        "              metrics=['mae'])\n",
        "\n",
        "model.fit(tf.expand_dims(X_train, axis=1), y_train, epochs=100)"
      ],
      "metadata": {
        "id": "pRnY_ADKEM27",
        "outputId": "f69b772e-b6e4-4f58-b743-7f46da961e4d",
        "colab": {
          "base_uri": "https://localhost:8080/"
        }
      },
      "execution_count": 48,
      "outputs": [
        {
          "output_type": "stream",
          "name": "stdout",
          "text": [
            "Epoch 1/100\n",
            "2/2 [==============================] - 1s 10ms/step - loss: 89.8928 - mae: 89.8928\n",
            "Epoch 2/100\n",
            "2/2 [==============================] - 0s 10ms/step - loss: 53.6724 - mae: 53.6724\n",
            "Epoch 3/100\n",
            "2/2 [==============================] - 0s 11ms/step - loss: 18.5325 - mae: 18.5325\n",
            "Epoch 4/100\n",
            "2/2 [==============================] - 0s 12ms/step - loss: 12.6962 - mae: 12.6962\n",
            "Epoch 5/100\n",
            "2/2 [==============================] - 0s 11ms/step - loss: 9.4163 - mae: 9.4163\n",
            "Epoch 6/100\n",
            "2/2 [==============================] - 0s 9ms/step - loss: 7.5844 - mae: 7.5844\n",
            "Epoch 7/100\n",
            "2/2 [==============================] - 0s 10ms/step - loss: 8.7917 - mae: 8.7917\n",
            "Epoch 8/100\n",
            "2/2 [==============================] - 0s 9ms/step - loss: 10.4068 - mae: 10.4068\n",
            "Epoch 9/100\n",
            "2/2 [==============================] - 0s 10ms/step - loss: 11.0774 - mae: 11.0774\n",
            "Epoch 10/100\n",
            "2/2 [==============================] - 0s 7ms/step - loss: 13.6739 - mae: 13.6739\n",
            "Epoch 11/100\n",
            "2/2 [==============================] - 0s 10ms/step - loss: 16.0611 - mae: 16.0611\n",
            "Epoch 12/100\n",
            "2/2 [==============================] - 0s 8ms/step - loss: 15.9445 - mae: 15.9445\n",
            "Epoch 13/100\n",
            "2/2 [==============================] - 0s 9ms/step - loss: 12.9582 - mae: 12.9582\n",
            "Epoch 14/100\n",
            "2/2 [==============================] - 0s 5ms/step - loss: 14.1917 - mae: 14.1917\n",
            "Epoch 15/100\n",
            "2/2 [==============================] - 0s 8ms/step - loss: 13.3674 - mae: 13.3674\n",
            "Epoch 16/100\n",
            "2/2 [==============================] - 0s 9ms/step - loss: 8.6841 - mae: 8.6841\n",
            "Epoch 17/100\n",
            "2/2 [==============================] - 0s 14ms/step - loss: 12.0428 - mae: 12.0428\n",
            "Epoch 18/100\n",
            "2/2 [==============================] - 0s 9ms/step - loss: 14.9628 - mae: 14.9628\n",
            "Epoch 19/100\n",
            "2/2 [==============================] - 0s 8ms/step - loss: 13.7892 - mae: 13.7892\n",
            "Epoch 20/100\n",
            "2/2 [==============================] - 0s 10ms/step - loss: 14.9806 - mae: 14.9806\n",
            "Epoch 21/100\n",
            "2/2 [==============================] - 0s 9ms/step - loss: 11.0980 - mae: 11.0980\n",
            "Epoch 22/100\n",
            "2/2 [==============================] - 0s 8ms/step - loss: 10.8609 - mae: 10.8609\n",
            "Epoch 23/100\n",
            "2/2 [==============================] - 0s 9ms/step - loss: 15.7007 - mae: 15.7007\n",
            "Epoch 24/100\n",
            "2/2 [==============================] - 0s 17ms/step - loss: 8.8540 - mae: 8.8540\n",
            "Epoch 25/100\n",
            "2/2 [==============================] - 0s 10ms/step - loss: 12.1848 - mae: 12.1848\n",
            "Epoch 26/100\n",
            "2/2 [==============================] - 0s 9ms/step - loss: 12.5067 - mae: 12.5067\n",
            "Epoch 27/100\n",
            "2/2 [==============================] - 0s 9ms/step - loss: 12.4948 - mae: 12.4948\n",
            "Epoch 28/100\n",
            "2/2 [==============================] - 0s 9ms/step - loss: 12.8566 - mae: 12.8566\n",
            "Epoch 29/100\n",
            "2/2 [==============================] - 0s 12ms/step - loss: 10.6218 - mae: 10.6218\n",
            "Epoch 30/100\n",
            "2/2 [==============================] - 0s 11ms/step - loss: 11.2597 - mae: 11.2597\n",
            "Epoch 31/100\n",
            "2/2 [==============================] - 0s 14ms/step - loss: 9.7833 - mae: 9.7833\n",
            "Epoch 32/100\n",
            "2/2 [==============================] - 0s 9ms/step - loss: 15.7533 - mae: 15.7533\n",
            "Epoch 33/100\n",
            "2/2 [==============================] - 0s 12ms/step - loss: 12.5286 - mae: 12.5286\n",
            "Epoch 34/100\n",
            "2/2 [==============================] - 0s 14ms/step - loss: 8.9001 - mae: 8.9001\n",
            "Epoch 35/100\n",
            "2/2 [==============================] - 0s 10ms/step - loss: 7.8277 - mae: 7.8277\n",
            "Epoch 36/100\n",
            "2/2 [==============================] - 0s 13ms/step - loss: 8.4853 - mae: 8.4853\n",
            "Epoch 37/100\n",
            "2/2 [==============================] - 0s 12ms/step - loss: 9.2890 - mae: 9.2890\n",
            "Epoch 38/100\n",
            "2/2 [==============================] - 0s 13ms/step - loss: 12.5673 - mae: 12.5673\n",
            "Epoch 39/100\n",
            "2/2 [==============================] - 0s 6ms/step - loss: 10.4739 - mae: 10.4739\n",
            "Epoch 40/100\n",
            "2/2 [==============================] - 0s 8ms/step - loss: 10.5074 - mae: 10.5074\n",
            "Epoch 41/100\n",
            "2/2 [==============================] - 0s 6ms/step - loss: 8.5734 - mae: 8.5734\n",
            "Epoch 42/100\n",
            "2/2 [==============================] - 0s 10ms/step - loss: 9.3606 - mae: 9.3606\n",
            "Epoch 43/100\n",
            "2/2 [==============================] - 0s 12ms/step - loss: 10.6378 - mae: 10.6378\n",
            "Epoch 44/100\n",
            "2/2 [==============================] - 0s 13ms/step - loss: 8.7984 - mae: 8.7984\n",
            "Epoch 45/100\n",
            "2/2 [==============================] - 0s 5ms/step - loss: 12.6832 - mae: 12.6832\n",
            "Epoch 46/100\n",
            "2/2 [==============================] - 0s 5ms/step - loss: 10.9596 - mae: 10.9596\n",
            "Epoch 47/100\n",
            "2/2 [==============================] - 0s 9ms/step - loss: 9.8800 - mae: 9.8800\n",
            "Epoch 48/100\n",
            "2/2 [==============================] - 0s 5ms/step - loss: 10.8653 - mae: 10.8653\n",
            "Epoch 49/100\n",
            "2/2 [==============================] - 0s 5ms/step - loss: 11.0117 - mae: 11.0117\n",
            "Epoch 50/100\n",
            "2/2 [==============================] - 0s 5ms/step - loss: 12.6112 - mae: 12.6112\n",
            "Epoch 51/100\n",
            "2/2 [==============================] - 0s 10ms/step - loss: 7.0895 - mae: 7.0895\n",
            "Epoch 52/100\n",
            "2/2 [==============================] - 0s 6ms/step - loss: 10.9879 - mae: 10.9879\n",
            "Epoch 53/100\n",
            "2/2 [==============================] - 0s 5ms/step - loss: 17.8148 - mae: 17.8148\n",
            "Epoch 54/100\n",
            "2/2 [==============================] - 0s 13ms/step - loss: 11.6604 - mae: 11.6604\n",
            "Epoch 55/100\n",
            "2/2 [==============================] - 0s 14ms/step - loss: 9.8212 - mae: 9.8212\n",
            "Epoch 56/100\n",
            "2/2 [==============================] - 0s 10ms/step - loss: 8.0878 - mae: 8.0878\n",
            "Epoch 57/100\n",
            "2/2 [==============================] - 0s 5ms/step - loss: 8.6700 - mae: 8.6700\n",
            "Epoch 58/100\n",
            "2/2 [==============================] - 0s 10ms/step - loss: 16.2267 - mae: 16.2267\n",
            "Epoch 59/100\n",
            "2/2 [==============================] - 0s 6ms/step - loss: 9.6175 - mae: 9.6175\n",
            "Epoch 60/100\n",
            "2/2 [==============================] - 0s 11ms/step - loss: 10.5495 - mae: 10.5495\n",
            "Epoch 61/100\n",
            "2/2 [==============================] - 0s 6ms/step - loss: 10.1364 - mae: 10.1364\n",
            "Epoch 62/100\n",
            "2/2 [==============================] - 0s 7ms/step - loss: 11.2336 - mae: 11.2336\n",
            "Epoch 63/100\n",
            "2/2 [==============================] - 0s 8ms/step - loss: 7.1290 - mae: 7.1290\n",
            "Epoch 64/100\n",
            "2/2 [==============================] - 0s 12ms/step - loss: 13.0938 - mae: 13.0938\n",
            "Epoch 65/100\n",
            "2/2 [==============================] - 0s 5ms/step - loss: 8.5513 - mae: 8.5513\n",
            "Epoch 66/100\n",
            "2/2 [==============================] - 0s 5ms/step - loss: 8.5069 - mae: 8.5069\n",
            "Epoch 67/100\n",
            "2/2 [==============================] - 0s 10ms/step - loss: 8.9989 - mae: 8.9989\n",
            "Epoch 68/100\n",
            "2/2 [==============================] - 0s 10ms/step - loss: 15.8164 - mae: 15.8164\n",
            "Epoch 69/100\n",
            "2/2 [==============================] - 0s 7ms/step - loss: 7.8897 - mae: 7.8897\n",
            "Epoch 70/100\n",
            "2/2 [==============================] - 0s 9ms/step - loss: 9.2014 - mae: 9.2014\n",
            "Epoch 71/100\n",
            "2/2 [==============================] - 0s 9ms/step - loss: 7.3403 - mae: 7.3403\n",
            "Epoch 72/100\n",
            "2/2 [==============================] - 0s 14ms/step - loss: 9.3762 - mae: 9.3762\n",
            "Epoch 73/100\n",
            "2/2 [==============================] - 0s 7ms/step - loss: 8.5527 - mae: 8.5527\n",
            "Epoch 74/100\n",
            "2/2 [==============================] - 0s 8ms/step - loss: 11.9171 - mae: 11.9171\n",
            "Epoch 75/100\n",
            "2/2 [==============================] - 0s 10ms/step - loss: 9.3690 - mae: 9.3690\n",
            "Epoch 76/100\n",
            "2/2 [==============================] - 0s 9ms/step - loss: 11.5186 - mae: 11.5186\n",
            "Epoch 77/100\n",
            "2/2 [==============================] - 0s 10ms/step - loss: 12.3418 - mae: 12.3418\n",
            "Epoch 78/100\n",
            "2/2 [==============================] - 0s 8ms/step - loss: 9.4713 - mae: 9.4713\n",
            "Epoch 79/100\n",
            "2/2 [==============================] - 0s 10ms/step - loss: 11.5305 - mae: 11.5305\n",
            "Epoch 80/100\n",
            "2/2 [==============================] - 0s 12ms/step - loss: 8.8517 - mae: 8.8517\n",
            "Epoch 81/100\n",
            "2/2 [==============================] - 0s 8ms/step - loss: 10.5929 - mae: 10.5929\n",
            "Epoch 82/100\n",
            "2/2 [==============================] - 0s 8ms/step - loss: 15.9401 - mae: 15.9401\n",
            "Epoch 83/100\n",
            "2/2 [==============================] - 0s 10ms/step - loss: 7.1267 - mae: 7.1267\n",
            "Epoch 84/100\n",
            "2/2 [==============================] - 0s 9ms/step - loss: 11.9750 - mae: 11.9750\n",
            "Epoch 85/100\n",
            "2/2 [==============================] - 0s 13ms/step - loss: 14.2544 - mae: 14.2544\n",
            "Epoch 86/100\n",
            "2/2 [==============================] - 0s 8ms/step - loss: 15.0806 - mae: 15.0806\n",
            "Epoch 87/100\n",
            "2/2 [==============================] - 0s 9ms/step - loss: 17.8677 - mae: 17.8677\n",
            "Epoch 88/100\n",
            "2/2 [==============================] - 0s 10ms/step - loss: 8.3809 - mae: 8.3809\n",
            "Epoch 89/100\n",
            "2/2 [==============================] - 0s 9ms/step - loss: 9.8386 - mae: 9.8386\n",
            "Epoch 90/100\n",
            "2/2 [==============================] - 0s 10ms/step - loss: 14.6357 - mae: 14.6357\n",
            "Epoch 91/100\n",
            "2/2 [==============================] - 0s 7ms/step - loss: 10.0919 - mae: 10.0919\n",
            "Epoch 92/100\n",
            "2/2 [==============================] - 0s 13ms/step - loss: 6.7410 - mae: 6.7410\n",
            "Epoch 93/100\n",
            "2/2 [==============================] - 0s 10ms/step - loss: 7.0463 - mae: 7.0463\n",
            "Epoch 94/100\n",
            "2/2 [==============================] - 0s 7ms/step - loss: 9.4600 - mae: 9.4600\n",
            "Epoch 95/100\n",
            "2/2 [==============================] - 0s 8ms/step - loss: 10.6499 - mae: 10.6499\n",
            "Epoch 96/100\n",
            "2/2 [==============================] - 0s 10ms/step - loss: 17.9769 - mae: 17.9769\n",
            "Epoch 97/100\n",
            "2/2 [==============================] - 0s 12ms/step - loss: 7.4493 - mae: 7.4493\n",
            "Epoch 98/100\n",
            "2/2 [==============================] - 0s 11ms/step - loss: 6.6189 - mae: 6.6189\n",
            "Epoch 99/100\n",
            "2/2 [==============================] - 0s 10ms/step - loss: 9.6623 - mae: 9.6623\n",
            "Epoch 100/100\n",
            "2/2 [==============================] - 0s 12ms/step - loss: 13.4241 - mae: 13.4241\n"
          ]
        },
        {
          "output_type": "execute_result",
          "data": {
            "text/plain": [
              "<keras.callbacks.History at 0x7fd5bfc46f10>"
            ]
          },
          "metadata": {},
          "execution_count": 48
        }
      ]
    },
    {
      "cell_type": "code",
      "source": [
        "y_preds1 = model.predict(X_test)\n",
        "y_preds1"
      ],
      "metadata": {
        "id": "6UxPzE-dEXvL",
        "outputId": "70a85abf-0c7a-4b67-93f6-6de3823c5148",
        "colab": {
          "base_uri": "https://localhost:8080/"
        }
      },
      "execution_count": 49,
      "outputs": [
        {
          "output_type": "execute_result",
          "data": {
            "text/plain": [
              "array([[ 70.27403 ],\n",
              "       [ 74.87138 ],\n",
              "       [ 79.468735],\n",
              "       [ 84.066086],\n",
              "       [ 88.66344 ],\n",
              "       [ 93.26079 ],\n",
              "       [ 97.85815 ],\n",
              "       [102.4555  ],\n",
              "       [107.05285 ],\n",
              "       [111.6502  ]], dtype=float32)"
            ]
          },
          "metadata": {},
          "execution_count": 49
        }
      ]
    },
    {
      "cell_type": "code",
      "source": [
        "plot_predictions(predictions=y_preds1)"
      ],
      "metadata": {
        "id": "bU6Hmh3AFPvC",
        "outputId": "06f14911-0a20-417f-faa5-04198d11b84d",
        "colab": {
          "base_uri": "https://localhost:8080/",
          "height": 428
        }
      },
      "execution_count": 50,
      "outputs": [
        {
          "output_type": "display_data",
          "data": {
            "text/plain": [
              "<Figure size 720x504 with 1 Axes>"
            ],
            "image/png": "[encoded data removed]"
          },
          "metadata": {
            "needs_background": "light"
          }
        }
      ]
    },
    {
      "cell_type": "code",
      "source": [
        "mae1 = tf.metrics.mean_absolute_error(y_test, tf.squeeze(y_preds1))\n",
        "mse1 = tf.metrics.mean_squared_error(y_test, tf.squeeze(y_preds1))\n",
        "mae1, mse1"
      ],
      "metadata": {
        "id": "GIxpzKf3FUb6",
        "outputId": "dc383523-b24a-4082-a4ad-76c74f54172a",
        "colab": {
          "base_uri": "https://localhost:8080/"
        }
      },
      "execution_count": 53,
      "outputs": [
        {
          "output_type": "execute_result",
          "data": {
            "text/plain": [
              "(<tf.Tensor: shape=(), dtype=float32, numpy=2.9621155>,\n",
              " <tf.Tensor: shape=(), dtype=float32, numpy=11.717973>)"
            ]
          },
          "metadata": {},
          "execution_count": 53
        }
      ]
    },
    {
      "cell_type": "code",
      "source": [
        ""
      ],
      "metadata": {
        "id": "PepP7DYbFjti"
      },
      "execution_count": null,
      "outputs": []
    }
  ]
}