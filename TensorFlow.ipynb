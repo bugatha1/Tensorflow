{
  "nbformat": 4,
  "nbformat_minor": 0,
  "metadata": {
    "colab": {
      "name": "TensorFlow.ipynb",
      "provenance": [],
      "authorship_tag": "ABX9TyPB6jt+CxU4MgDnF2bCqWcy",
      "include_colab_link": true
    },
    "kernelspec": {
      "name": "python3",
      "display_name": "Python 3"
    },
    "language_info": {
      "name": "python"
    }
  },
  "cells": [
    {
      "cell_type": "markdown",
      "metadata": {
        "id": "view-in-github",
        "colab_type": "text"
      },
      "source": [
        "<a href=\"https://colab.research.google.com/github/bugatha1/Tensorflow/blob/main/TensorFlow.ipynb\" target=\"_parent\"><img src=\"https://colab.research.google.com/assets/colab-badge.svg\" alt=\"Open In Colab\"/></a>"
      ]
    },
    {
      "cell_type": "markdown",
      "source": [
        "# TensorFlow\n",
        "\n",
        "It is end-to-end open source platform for machine learning.<br>\n",
        "Able to access many prebuild/pretrained deep learing models<br>\n",
        "Designed by Google"
      ],
      "metadata": {
        "id": "4dhvZdMWoNQ1"
      }
    },
    {
      "cell_type": "markdown",
      "source": [
        "# Tensor\n",
        "A Tensor is a way to represents some sort of data into numerical form."
      ],
      "metadata": {
        "id": "VN-tag3RpRdk"
      }
    },
    {
      "cell_type": "code",
      "source": [
        "import tensorflow as tf\n",
        "tf.__version__"
      ],
      "metadata": {
        "colab": {
          "base_uri": "https://localhost:8080/",
          "height": 35
        },
        "id": "wzSXkmyVqHc3",
        "outputId": "5f06af71-cf24-491e-d10d-6bf5bce2376a"
      },
      "execution_count": 1,
      "outputs": [
        {
          "output_type": "execute_result",
          "data": {
            "text/plain": [
              "'2.8.0'"
            ],
            "application/vnd.google.colaboratory.intrinsic+json": {
              "type": "string"
            }
          },
          "metadata": {},
          "execution_count": 1
        }
      ]
    },
    {
      "cell_type": "code",
      "source": [
        "scalar = tf.constant(7)\n",
        "scalar"
      ],
      "metadata": {
        "colab": {
          "base_uri": "https://localhost:8080/"
        },
        "id": "E5AuFxzRqMTy",
        "outputId": "955a4c3d-d7ab-411c-eeea-1836d6e5d210"
      },
      "execution_count": 2,
      "outputs": [
        {
          "output_type": "execute_result",
          "data": {
            "text/plain": [
              "<tf.Tensor: shape=(), dtype=int32, numpy=7>"
            ]
          },
          "metadata": {},
          "execution_count": 2
        }
      ]
    },
    {
      "cell_type": "code",
      "source": [
        "scalar.ndim"
      ],
      "metadata": {
        "colab": {
          "base_uri": "https://localhost:8080/"
        },
        "id": "HLTnd9ctqs_x",
        "outputId": "b75073fd-c4b0-40f5-a55d-2549def8bedc"
      },
      "execution_count": 3,
      "outputs": [
        {
          "output_type": "execute_result",
          "data": {
            "text/plain": [
              "0"
            ]
          },
          "metadata": {},
          "execution_count": 3
        }
      ]
    },
    {
      "cell_type": "code",
      "source": [
        "# create a vector\n",
        "vector = tf.constant([10, 10])\n",
        "vector"
      ],
      "metadata": {
        "colab": {
          "base_uri": "https://localhost:8080/"
        },
        "id": "GokcKdNvwu8k",
        "outputId": "cd2b000f-ad50-4672-ad49-c15b15c75d8a"
      },
      "execution_count": 4,
      "outputs": [
        {
          "output_type": "execute_result",
          "data": {
            "text/plain": [
              "<tf.Tensor: shape=(2,), dtype=int32, numpy=array([10, 10], dtype=int32)>"
            ]
          },
          "metadata": {},
          "execution_count": 4
        }
      ]
    },
    {
      "cell_type": "code",
      "source": [
        "vector.ndim"
      ],
      "metadata": {
        "colab": {
          "base_uri": "https://localhost:8080/"
        },
        "id": "PAAoixWRxB_r",
        "outputId": "9c8e2cbd-60b7-4dc7-bedf-26eeb54fd881"
      },
      "execution_count": 5,
      "outputs": [
        {
          "output_type": "execute_result",
          "data": {
            "text/plain": [
              "1"
            ]
          },
          "metadata": {},
          "execution_count": 5
        }
      ]
    },
    {
      "cell_type": "code",
      "source": [
        "# Create a matrix (more than one dimension)\n",
        "matrix = tf.constant([[10, 10], \n",
        "                      [20, 20]])\n",
        "matrix"
      ],
      "metadata": {
        "id": "e1PNLzSFxD3s",
        "outputId": "e449de1d-11e1-4fd3-e026-dcf6c8cea972",
        "colab": {
          "base_uri": "https://localhost:8080/"
        }
      },
      "execution_count": 6,
      "outputs": [
        {
          "output_type": "execute_result",
          "data": {
            "text/plain": [
              "<tf.Tensor: shape=(2, 2), dtype=int32, numpy=\n",
              "array([[10, 10],\n",
              "       [20, 20]], dtype=int32)>"
            ]
          },
          "metadata": {},
          "execution_count": 6
        }
      ]
    },
    {
      "cell_type": "code",
      "source": [
        "matrix.ndim"
      ],
      "metadata": {
        "id": "Ku-U0_kexgKO",
        "outputId": "dec097be-5592-4727-c22a-c06b58233696",
        "colab": {
          "base_uri": "https://localhost:8080/"
        }
      },
      "execution_count": 7,
      "outputs": [
        {
          "output_type": "execute_result",
          "data": {
            "text/plain": [
              "2"
            ]
          },
          "metadata": {},
          "execution_count": 7
        }
      ]
    },
    {
      "cell_type": "code",
      "source": [
        "another_matrix = tf.constant([[10, 10],\n",
        "                             [20, 20],\n",
        "                             [10, 20]], dtype=tf.float16)\n",
        "another_matrix"
      ],
      "metadata": {
        "id": "7gandnezxoTc",
        "outputId": "3f2bdb10-9dd2-409b-ad32-25d0bd5bae9b",
        "colab": {
          "base_uri": "https://localhost:8080/"
        }
      },
      "execution_count": 8,
      "outputs": [
        {
          "output_type": "execute_result",
          "data": {
            "text/plain": [
              "<tf.Tensor: shape=(3, 2), dtype=float16, numpy=\n",
              "array([[10., 10.],\n",
              "       [20., 20.],\n",
              "       [10., 20.]], dtype=float16)>"
            ]
          },
          "metadata": {},
          "execution_count": 8
        }
      ]
    },
    {
      "cell_type": "code",
      "source": [
        "another_matrix.ndim"
      ],
      "metadata": {
        "id": "wticrhX6yFfK",
        "outputId": "5f6f4f72-04c2-4a61-c585-767cfddc26cd",
        "colab": {
          "base_uri": "https://localhost:8080/"
        }
      },
      "execution_count": 9,
      "outputs": [
        {
          "output_type": "execute_result",
          "data": {
            "text/plain": [
              "2"
            ]
          },
          "metadata": {},
          "execution_count": 9
        }
      ]
    },
    {
      "cell_type": "code",
      "source": [
        "another_tensor = tf.constant([[[10, 10], [12, 12]],\n",
        "                             [[20, 20], [12, 23]],\n",
        "                             [[10, 20], [2, 3]]])\n",
        "another_tensor"
      ],
      "metadata": {
        "id": "dvnuMPrmyNXa",
        "outputId": "a1f51c61-b9f9-4d48-9556-7bfd8e7d1f9c",
        "colab": {
          "base_uri": "https://localhost:8080/"
        }
      },
      "execution_count": 10,
      "outputs": [
        {
          "output_type": "execute_result",
          "data": {
            "text/plain": [
              "<tf.Tensor: shape=(3, 2, 2), dtype=int32, numpy=\n",
              "array([[[10, 10],\n",
              "        [12, 12]],\n",
              "\n",
              "       [[20, 20],\n",
              "        [12, 23]],\n",
              "\n",
              "       [[10, 20],\n",
              "        [ 2,  3]]], dtype=int32)>"
            ]
          },
          "metadata": {},
          "execution_count": 10
        }
      ]
    },
    {
      "cell_type": "code",
      "source": [
        "another_tensor.ndim"
      ],
      "metadata": {
        "id": "JHIPipXbyzML",
        "outputId": "44de639d-e054-46aa-8981-51e85410eec7",
        "colab": {
          "base_uri": "https://localhost:8080/"
        }
      },
      "execution_count": 11,
      "outputs": [
        {
          "output_type": "execute_result",
          "data": {
            "text/plain": [
              "3"
            ]
          },
          "metadata": {},
          "execution_count": 11
        }
      ]
    },
    {
      "cell_type": "markdown",
      "source": [
        "Scalar : a single number <br>\n",
        "Vector : a number with direction<br>\n",
        "Matrix : a 2-dimensional array of numbers<br>\n",
        "Tensor : n-dimensional (0 dimensional tensor is scalar, 1 dimensional tensor is vecors..so on..)<br>\n",
        " "
      ],
      "metadata": {
        "id": "Anc4EplRzTSs"
      }
    },
    {
      "cell_type": "markdown",
      "source": [
        "# Create tensors with tf.variable"
      ],
      "metadata": {
        "id": "oS7o56X442CU"
      }
    },
    {
      "cell_type": "code",
      "source": [
        "changeable_tensor = tf.Variable([10, 7])\n",
        "unchangeable_tensor = tf.constant([10, 7])\n",
        "changeable_tensor, unchangeable_tensor"
      ],
      "metadata": {
        "id": "K5Y5ektn47bl",
        "outputId": "abce9cb5-81f0-4a56-8589-b56a2a3bb68f",
        "colab": {
          "base_uri": "https://localhost:8080/"
        }
      },
      "execution_count": 12,
      "outputs": [
        {
          "output_type": "execute_result",
          "data": {
            "text/plain": [
              "(<tf.Variable 'Variable:0' shape=(2,) dtype=int32, numpy=array([10,  7], dtype=int32)>,\n",
              " <tf.Tensor: shape=(2,), dtype=int32, numpy=array([10,  7], dtype=int32)>)"
            ]
          },
          "metadata": {},
          "execution_count": 12
        }
      ]
    },
    {
      "cell_type": "code",
      "source": [
        "changeable_tensor[0].assign(11)\n",
        "changeable_tensor"
      ],
      "metadata": {
        "id": "jfikW6ix5GmV",
        "outputId": "0d27c92b-3bd7-4b98-aa39-bf15ab99a224",
        "colab": {
          "base_uri": "https://localhost:8080/"
        }
      },
      "execution_count": 13,
      "outputs": [
        {
          "output_type": "execute_result",
          "data": {
            "text/plain": [
              "<tf.Variable 'Variable:0' shape=(2,) dtype=int32, numpy=array([11,  7], dtype=int32)>"
            ]
          },
          "metadata": {},
          "execution_count": 13
        }
      ]
    },
    {
      "cell_type": "markdown",
      "source": [
        "# Turn Numpy arrays to tensors\n",
        "The main difference between NumPy arrays and TensorFlow is tensor can run on GPU (much faster for numerical computing)"
      ],
      "metadata": {
        "id": "a-LqbPV-EsFA"
      }
    },
    {
      "cell_type": "code",
      "source": [
        "# Create numpy array between 1 to 25\n",
        "\n",
        "import numpy as np\n",
        "\n",
        "numpy_arr = np.arange(1, 25, dtype=np.int32)\n",
        "numpy_arr"
      ],
      "metadata": {
        "id": "LDaNEdAZFOaD",
        "outputId": "fc467981-a39a-4841-e401-d822b25ef182",
        "colab": {
          "base_uri": "https://localhost:8080/"
        }
      },
      "execution_count": 14,
      "outputs": [
        {
          "output_type": "execute_result",
          "data": {
            "text/plain": [
              "array([ 1,  2,  3,  4,  5,  6,  7,  8,  9, 10, 11, 12, 13, 14, 15, 16, 17,\n",
              "       18, 19, 20, 21, 22, 23, 24], dtype=int32)"
            ]
          },
          "metadata": {},
          "execution_count": 14
        }
      ]
    },
    {
      "cell_type": "code",
      "source": [
        "A = tf.constant(numpy_arr)\n",
        "A"
      ],
      "metadata": {
        "id": "7guWDEs2FbgR",
        "outputId": "5e1ec6e6-f2d6-4e3b-980b-2a6856439c72",
        "colab": {
          "base_uri": "https://localhost:8080/"
        }
      },
      "execution_count": 15,
      "outputs": [
        {
          "output_type": "execute_result",
          "data": {
            "text/plain": [
              "<tf.Tensor: shape=(24,), dtype=int32, numpy=\n",
              "array([ 1,  2,  3,  4,  5,  6,  7,  8,  9, 10, 11, 12, 13, 14, 15, 16, 17,\n",
              "       18, 19, 20, 21, 22, 23, 24], dtype=int32)>"
            ]
          },
          "metadata": {},
          "execution_count": 15
        }
      ]
    },
    {
      "cell_type": "code",
      "source": [
        "B = tf.constant(numpy_arr, shape=(2, 3, 4))\n",
        "B"
      ],
      "metadata": {
        "id": "LDE8Y0yWF1mf",
        "outputId": "efd7639a-9df9-42ed-821f-65fd9c598434",
        "colab": {
          "base_uri": "https://localhost:8080/"
        }
      },
      "execution_count": 16,
      "outputs": [
        {
          "output_type": "execute_result",
          "data": {
            "text/plain": [
              "<tf.Tensor: shape=(2, 3, 4), dtype=int32, numpy=\n",
              "array([[[ 1,  2,  3,  4],\n",
              "        [ 5,  6,  7,  8],\n",
              "        [ 9, 10, 11, 12]],\n",
              "\n",
              "       [[13, 14, 15, 16],\n",
              "        [17, 18, 19, 20],\n",
              "        [21, 22, 23, 24]]], dtype=int32)>"
            ]
          },
          "metadata": {},
          "execution_count": 16
        }
      ]
    },
    {
      "cell_type": "code",
      "source": [
        "B.ndim"
      ],
      "metadata": {
        "id": "gf7oZ60yGRJg",
        "outputId": "c49f84f9-7c23-4260-e7b0-a9b6b1702322",
        "colab": {
          "base_uri": "https://localhost:8080/"
        }
      },
      "execution_count": 17,
      "outputs": [
        {
          "output_type": "execute_result",
          "data": {
            "text/plain": [
              "3"
            ]
          },
          "metadata": {},
          "execution_count": 17
        }
      ]
    },
    {
      "cell_type": "code",
      "source": [
        "A.ndim"
      ],
      "metadata": {
        "id": "Az7vTreeG1e_",
        "outputId": "ddff836f-5aa8-4f04-8afd-ab0b8bc1bb64",
        "colab": {
          "base_uri": "https://localhost:8080/"
        }
      },
      "execution_count": 18,
      "outputs": [
        {
          "output_type": "execute_result",
          "data": {
            "text/plain": [
              "1"
            ]
          },
          "metadata": {},
          "execution_count": 18
        }
      ]
    },
    {
      "cell_type": "code",
      "source": [
        "numpy_zero4 = np.zeros(shape=[2, 3, 4])\n",
        "numpy_zero4"
      ],
      "metadata": {
        "id": "Kruc595yHAFv",
        "outputId": "27bf26dc-0d55-4f54-9143-6b9b15262255",
        "colab": {
          "base_uri": "https://localhost:8080/"
        }
      },
      "execution_count": 19,
      "outputs": [
        {
          "output_type": "execute_result",
          "data": {
            "text/plain": [
              "array([[[0., 0., 0., 0.],\n",
              "        [0., 0., 0., 0.],\n",
              "        [0., 0., 0., 0.]],\n",
              "\n",
              "       [[0., 0., 0., 0.],\n",
              "        [0., 0., 0., 0.],\n",
              "        [0., 0., 0., 0.]]])"
            ]
          },
          "metadata": {},
          "execution_count": 19
        }
      ]
    },
    {
      "cell_type": "code",
      "source": [
        "numpy_zero3 = np.ones(shape=[2, 3, 4])\n",
        "numpy_zero3"
      ],
      "metadata": {
        "id": "2t3YZo5UHfMY",
        "outputId": "d9a9ba5c-3eda-4608-d61a-09038002068a",
        "colab": {
          "base_uri": "https://localhost:8080/"
        }
      },
      "execution_count": 20,
      "outputs": [
        {
          "output_type": "execute_result",
          "data": {
            "text/plain": [
              "array([[[1., 1., 1., 1.],\n",
              "        [1., 1., 1., 1.],\n",
              "        [1., 1., 1., 1.]],\n",
              "\n",
              "       [[1., 1., 1., 1.],\n",
              "        [1., 1., 1., 1.],\n",
              "        [1., 1., 1., 1.]]])"
            ]
          },
          "metadata": {},
          "execution_count": 20
        }
      ]
    },
    {
      "cell_type": "code",
      "source": [
        "tensor_zero4 = tf.zeros(shape=[2, 3, 4])\n",
        "tensor_zero4"
      ],
      "metadata": {
        "id": "p0aY_5U0Hqh_",
        "outputId": "6e879a13-e40b-4d04-8069-5f9c63b63fc1",
        "colab": {
          "base_uri": "https://localhost:8080/"
        }
      },
      "execution_count": 21,
      "outputs": [
        {
          "output_type": "execute_result",
          "data": {
            "text/plain": [
              "<tf.Tensor: shape=(2, 3, 4), dtype=float32, numpy=\n",
              "array([[[0., 0., 0., 0.],\n",
              "        [0., 0., 0., 0.],\n",
              "        [0., 0., 0., 0.]],\n",
              "\n",
              "       [[0., 0., 0., 0.],\n",
              "        [0., 0., 0., 0.],\n",
              "        [0., 0., 0., 0.]]], dtype=float32)>"
            ]
          },
          "metadata": {},
          "execution_count": 21
        }
      ]
    },
    {
      "cell_type": "code",
      "source": [
        "tensor_zero3 = tf.ones(shape=[2, 3, 4])\n",
        "tensor_zero3"
      ],
      "metadata": {
        "id": "RLsZN4O3H1HQ",
        "outputId": "037c0fdc-1ee0-4cd6-b9b7-3347018340c7",
        "colab": {
          "base_uri": "https://localhost:8080/"
        }
      },
      "execution_count": 22,
      "outputs": [
        {
          "output_type": "execute_result",
          "data": {
            "text/plain": [
              "<tf.Tensor: shape=(2, 3, 4), dtype=float32, numpy=\n",
              "array([[[1., 1., 1., 1.],\n",
              "        [1., 1., 1., 1.],\n",
              "        [1., 1., 1., 1.]],\n",
              "\n",
              "       [[1., 1., 1., 1.],\n",
              "        [1., 1., 1., 1.],\n",
              "        [1., 1., 1., 1.]]], dtype=float32)>"
            ]
          },
          "metadata": {},
          "execution_count": 22
        }
      ]
    },
    {
      "cell_type": "code",
      "source": [
        "numpy_zero3.shape, numpy_zero3.ndim"
      ],
      "metadata": {
        "id": "0dyRMn3VH6z-",
        "outputId": "23e57c81-514a-4285-9a37-a69da584bd50",
        "colab": {
          "base_uri": "https://localhost:8080/"
        }
      },
      "execution_count": 23,
      "outputs": [
        {
          "output_type": "execute_result",
          "data": {
            "text/plain": [
              "((2, 3, 4), 3)"
            ]
          },
          "metadata": {},
          "execution_count": 23
        }
      ]
    },
    {
      "cell_type": "code",
      "source": [
        "tensor_zero3.shape, tensor_zero3.ndim"
      ],
      "metadata": {
        "id": "VJukkRa5IF-2",
        "outputId": "99c1f8a0-32df-4ebd-c05b-9390ee13a0dd",
        "colab": {
          "base_uri": "https://localhost:8080/"
        }
      },
      "execution_count": 24,
      "outputs": [
        {
          "output_type": "execute_result",
          "data": {
            "text/plain": [
              "(TensorShape([2, 3, 4]), 3)"
            ]
          },
          "metadata": {},
          "execution_count": 24
        }
      ]
    },
    {
      "cell_type": "code",
      "source": [
        ""
      ],
      "metadata": {
        "id": "JLM0JD5aIKVn"
      },
      "execution_count": 24,
      "outputs": []
    }
  ]
}